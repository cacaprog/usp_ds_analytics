{
 "cells": [
  {
   "cell_type": "code",
   "execution_count": 24,
   "metadata": {
    "editable": true,
    "slideshow": {
     "slide_type": ""
    },
    "tags": []
   },
   "outputs": [],
   "source": [
    "#%% Importando os pacotes necessários\n",
    "import pandas as pd\n",
    "import numpy as np\n",
    "from scipy.stats import chi2_contingency\n",
    "import statsmodels.api as sm\n",
    "import seaborn as sns\n",
    "import matplotlib.pyplot as plt\n",
    "import prince\n",
    "import plotly.express as px\n",
    "import plotly.io as pio\n",
    "pio.renderers.default = 'browser'\n",
    "import plotly.graph_objects as go\n",
    "from itertools import combinations"
   ]
  },
  {
   "cell_type": "code",
   "execution_count": 4,
   "metadata": {},
   "outputs": [],
   "source": [
    "# Importando o banco de dados\n",
    "dados_mca = pd.read_csv(\"/Users/administrador/Documents/usp_ds_analytics/usp_ds_analytics/anacor_mca/data/estudantes_adapta.csv\")"
   ]
  },
  {
   "cell_type": "code",
   "execution_count": 5,
   "metadata": {},
   "outputs": [
    {
     "data": {
      "text/html": [
       "<div>\n",
       "<style scoped>\n",
       "    .dataframe tbody tr th:only-of-type {\n",
       "        vertical-align: middle;\n",
       "    }\n",
       "\n",
       "    .dataframe tbody tr th {\n",
       "        vertical-align: top;\n",
       "    }\n",
       "\n",
       "    .dataframe thead th {\n",
       "        text-align: right;\n",
       "    }\n",
       "</style>\n",
       "<table border=\"1\" class=\"dataframe\">\n",
       "  <thead>\n",
       "    <tr style=\"text-align: right;\">\n",
       "      <th></th>\n",
       "      <th>Education</th>\n",
       "      <th>Institution</th>\n",
       "      <th>Financial</th>\n",
       "      <th>Internet</th>\n",
       "      <th>Adaptivity</th>\n",
       "    </tr>\n",
       "  </thead>\n",
       "  <tbody>\n",
       "    <tr>\n",
       "      <th>0</th>\n",
       "      <td>University</td>\n",
       "      <td>Non Government</td>\n",
       "      <td>Mid</td>\n",
       "      <td>Wifi</td>\n",
       "      <td>Moderate</td>\n",
       "    </tr>\n",
       "    <tr>\n",
       "      <th>1</th>\n",
       "      <td>University</td>\n",
       "      <td>Non Government</td>\n",
       "      <td>Mid</td>\n",
       "      <td>Mobile Data</td>\n",
       "      <td>Moderate</td>\n",
       "    </tr>\n",
       "    <tr>\n",
       "      <th>2</th>\n",
       "      <td>College</td>\n",
       "      <td>Government</td>\n",
       "      <td>Mid</td>\n",
       "      <td>Wifi</td>\n",
       "      <td>Moderate</td>\n",
       "    </tr>\n",
       "    <tr>\n",
       "      <th>3</th>\n",
       "      <td>School</td>\n",
       "      <td>Non Government</td>\n",
       "      <td>Mid</td>\n",
       "      <td>Mobile Data</td>\n",
       "      <td>Moderate</td>\n",
       "    </tr>\n",
       "    <tr>\n",
       "      <th>4</th>\n",
       "      <td>School</td>\n",
       "      <td>Non Government</td>\n",
       "      <td>Poor</td>\n",
       "      <td>Mobile Data</td>\n",
       "      <td>Low</td>\n",
       "    </tr>\n",
       "  </tbody>\n",
       "</table>\n",
       "</div>"
      ],
      "text/plain": [
       "    Education     Institution Financial     Internet Adaptivity\n",
       "0  University  Non Government       Mid         Wifi   Moderate\n",
       "1  University  Non Government       Mid  Mobile Data   Moderate\n",
       "2     College      Government       Mid         Wifi   Moderate\n",
       "3      School  Non Government       Mid  Mobile Data   Moderate\n",
       "4      School  Non Government      Poor  Mobile Data        Low"
      ]
     },
     "execution_count": 5,
     "metadata": {},
     "output_type": "execute_result"
    }
   ],
   "source": [
    "dados_mca.head()"
   ]
  },
  {
   "cell_type": "code",
   "execution_count": 6,
   "metadata": {},
   "outputs": [
    {
     "name": "stdout",
     "output_type": "stream",
     "text": [
      "Education\n",
      "School        530\n",
      "University    456\n",
      "College       219\n",
      "Name: count, dtype: int64\n",
      "\n",
      "Institution\n",
      "Non Government    823\n",
      "Government        382\n",
      "Name: count, dtype: int64\n",
      "\n",
      "Financial\n",
      "Mid     878\n",
      "Poor    242\n",
      "Rich     85\n",
      "Name: count, dtype: int64\n",
      "\n",
      "Internet\n",
      "Mobile Data    695\n",
      "Wifi           510\n",
      "Name: count, dtype: int64\n",
      "\n",
      "Adaptivity\n",
      "Moderate    625\n",
      "Low         480\n",
      "High        100\n",
      "Name: count, dtype: int64\n"
     ]
    }
   ],
   "source": [
    "# Informações descritivas sobre as variáveis\n",
    "print(dados_mca['Education'].value_counts())\n",
    "print(\"\")\n",
    "print(dados_mca['Institution'].value_counts())\n",
    "print(\"\")\n",
    "print(dados_mca['Financial'].value_counts())\n",
    "print(\"\")\n",
    "print(dados_mca['Internet'].value_counts())\n",
    "print(\"\")\n",
    "print(dados_mca['Adaptivity'].value_counts())"
   ]
  },
  {
   "cell_type": "code",
   "execution_count": 7,
   "metadata": {},
   "outputs": [
    {
     "data": {
      "text/html": [
       "<div>\n",
       "<style scoped>\n",
       "    .dataframe tbody tr th:only-of-type {\n",
       "        vertical-align: middle;\n",
       "    }\n",
       "\n",
       "    .dataframe tbody tr th {\n",
       "        vertical-align: top;\n",
       "    }\n",
       "\n",
       "    .dataframe thead th {\n",
       "        text-align: right;\n",
       "    }\n",
       "</style>\n",
       "<table border=\"1\" class=\"dataframe\">\n",
       "  <thead>\n",
       "    <tr style=\"text-align: right;\">\n",
       "      <th></th>\n",
       "      <th>Education</th>\n",
       "      <th>Institution</th>\n",
       "      <th>Financial</th>\n",
       "      <th>Internet</th>\n",
       "      <th>Adaptivity</th>\n",
       "    </tr>\n",
       "  </thead>\n",
       "  <tbody>\n",
       "    <tr>\n",
       "      <th>count</th>\n",
       "      <td>1205</td>\n",
       "      <td>1205</td>\n",
       "      <td>1205</td>\n",
       "      <td>1205</td>\n",
       "      <td>1205</td>\n",
       "    </tr>\n",
       "    <tr>\n",
       "      <th>unique</th>\n",
       "      <td>3</td>\n",
       "      <td>2</td>\n",
       "      <td>3</td>\n",
       "      <td>2</td>\n",
       "      <td>3</td>\n",
       "    </tr>\n",
       "    <tr>\n",
       "      <th>top</th>\n",
       "      <td>School</td>\n",
       "      <td>Non Government</td>\n",
       "      <td>Mid</td>\n",
       "      <td>Mobile Data</td>\n",
       "      <td>Moderate</td>\n",
       "    </tr>\n",
       "    <tr>\n",
       "      <th>freq</th>\n",
       "      <td>530</td>\n",
       "      <td>823</td>\n",
       "      <td>878</td>\n",
       "      <td>695</td>\n",
       "      <td>625</td>\n",
       "    </tr>\n",
       "  </tbody>\n",
       "</table>\n",
       "</div>"
      ],
      "text/plain": [
       "       Education     Institution Financial     Internet Adaptivity\n",
       "count       1205            1205      1205         1205       1205\n",
       "unique         3               2         3            2          3\n",
       "top       School  Non Government       Mid  Mobile Data   Moderate\n",
       "freq         530             823       878          695        625"
      ]
     },
     "execution_count": 7,
     "metadata": {},
     "output_type": "execute_result"
    }
   ],
   "source": [
    "dados_mca.describe(include='all')"
   ]
  },
  {
   "cell_type": "markdown",
   "metadata": {},
   "source": [
    "### Analisando as tabelas de contingência\n",
    "Lembrando que elas são sempre para pares de variáveis.\n",
    "\n",
    "Para mais de 2 variáveis, existem 2 métodos, com uma matriz auxiliar: \n",
    "\n",
    "**Matriz binária Z**\n",
    "- coordenadas-padrão, transformo as observações em dummies para cada categoria.\n",
    "- aqui a quantidade de dimensões é definido por J - Q, onde J é a quantidade total de categorias em todas as variáveis Q no mapa perceptual dessa matriz\n",
    "- Inércia Principal Total = J - Q / Q\n",
    "\n",
    "**Matriz de Burt**\n",
    "- B = Z'* Z\n",
    "- É possível combinar em uma única matriz o cruzamento de todos os pares variáveis\n",
    "e suas categorias, obtendo, desta forma, uma matriz que contém as frequências\n",
    "absolutas observadas para todos os cruzamentos\n",
    "- Ao considerar a matriz de Burt como uma tabela de contingência, é possível realizar\n",
    "uma Anacor e obter as coordenadas das categorias das variáveis"
   ]
  },
  {
   "cell_type": "code",
   "execution_count": 9,
   "metadata": {},
   "outputs": [
    {
     "name": "stdout",
     "output_type": "stream",
     "text": [
      "Education   College  School  University\n",
      "Adaptivity                             \n",
      "High              3      47          50\n",
      "Low             120     182         178\n",
      "Moderate         96     301         228\n",
      "\n",
      "Institution  Government  Non Government\n",
      "Adaptivity                             \n",
      "High                 20              80\n",
      "Low                 234             246\n",
      "Moderate            128             497\n",
      "\n",
      "Financial   Mid  Poor  Rich\n",
      "Adaptivity                 \n",
      "High         36    22    42\n",
      "Low         341   129    10\n",
      "Moderate    501    91    33\n",
      "\n",
      "Internet    Mobile Data  Wifi\n",
      "Adaptivity                   \n",
      "High                 36    64\n",
      "Low                 288   192\n",
      "Moderate            371   254\n"
     ]
    }
   ],
   "source": [
    "# Vamos gerar as tabelas de contingência em relação à \"Adaptivity\"\n",
    "\n",
    "tabela_mca_1 = pd.crosstab(dados_mca[\"Adaptivity\"], dados_mca[\"Education\"])\n",
    "tabela_mca_2 = pd.crosstab(dados_mca[\"Adaptivity\"], dados_mca[\"Institution\"])\n",
    "tabela_mca_3 = pd.crosstab(dados_mca[\"Adaptivity\"], dados_mca[\"Financial\"])\n",
    "tabela_mca_4 = pd.crosstab(dados_mca[\"Adaptivity\"], dados_mca[\"Internet\"])\n",
    "\n",
    "print(tabela_mca_1)\n",
    "print(\"\")\n",
    "print(tabela_mca_2)\n",
    "print(\"\")\n",
    "print(tabela_mca_3)\n",
    "print(\"\")\n",
    "print(tabela_mca_4)"
   ]
  },
  {
   "cell_type": "markdown",
   "metadata": {},
   "source": [
    "### Analisando a significância estatística da associação (teste qui²)\n",
    "Avaliamos para os pares de variáveis, se não apresentar uma associação estatisticamente significante, nem entra no mapa perceptual.\n",
    "Neste caso aqui, como elegemos uma variável, vamos verificar o chi2 com base nela."
   ]
  },
  {
   "cell_type": "code",
   "execution_count": 10,
   "metadata": {},
   "outputs": [
    {
     "name": "stdout",
     "output_type": "stream",
     "text": [
      "Adaptivity x Education\n",
      "estatística qui²: 38.69\n",
      "p-valor da estatística: 0.0\n",
      "graus de liberdade: 4\n",
      "Adaptivity x Institution\n",
      "estatística qui²: 107.11\n",
      "p-valor da estatística: 0.0\n",
      "graus de liberdade: 2\n",
      "Adaptivity x Financial\n",
      "estatística qui²: 236.86\n",
      "p-valor da estatística: 0.0\n",
      "graus de liberdade: 4\n",
      "Adaptivity x Internet\n",
      "estatística qui²: 21.04\n",
      "p-valor da estatística: 0.0\n",
      "graus de liberdade: 2\n"
     ]
    }
   ],
   "source": [
    "tab_1 = chi2_contingency(tabela_mca_1)\n",
    "\n",
    "print(\"Adaptivity x Education\")\n",
    "print(f\"estatística qui²: {round(tab_1[0], 2)}\")\n",
    "print(f\"p-valor da estatística: {round(tab_1[1], 4)}\")\n",
    "print(f\"graus de liberdade: {tab_1[2]}\")\n",
    "\n",
    "tab_2 = chi2_contingency(tabela_mca_2)\n",
    "\n",
    "print(\"Adaptivity x Institution\")\n",
    "print(f\"estatística qui²: {round(tab_2[0], 2)}\")\n",
    "print(f\"p-valor da estatística: {round(tab_2[1], 4)}\")\n",
    "print(f\"graus de liberdade: {tab_2[2]}\")\n",
    "\n",
    "tab_3 = chi2_contingency(tabela_mca_3)\n",
    "\n",
    "print(\"Adaptivity x Financial\")\n",
    "print(f\"estatística qui²: {round(tab_3[0], 2)}\")\n",
    "print(f\"p-valor da estatística: {round(tab_3[1], 4)}\")\n",
    "print(f\"graus de liberdade: {tab_3[2]}\")\n",
    "\n",
    "tab_4 = chi2_contingency(tabela_mca_4)\n",
    "\n",
    "print(\"Adaptivity x Internet\")\n",
    "print(f\"estatística qui²: {round(tab_4[0], 2)}\")\n",
    "print(f\"p-valor da estatística: {round(tab_4[1], 4)}\")\n",
    "print(f\"graus de liberdade: {tab_4[2]}\")"
   ]
  },
  {
   "cell_type": "markdown",
   "metadata": {},
   "source": [
    "Como teste de hipótese, eu posso olhar direto para o p-value da estatística. Ele mostra se é estatisticamente significativo e se podemos rejeitar H0 (não existe associação significativa entre as variáveis).\n",
    "\n",
    "O teste chi2 apenas mostra se existe uma associação, porém ainda não sabemos de onde vem essa associação, quais categorias envolvem isso. "
   ]
  },
  {
   "cell_type": "markdown",
   "metadata": {},
   "source": [
    "## Elaborando a MCA"
   ]
  },
  {
   "cell_type": "code",
   "execution_count": 11,
   "metadata": {},
   "outputs": [],
   "source": [
    "# Na função, o input é a tabela com os dados das variáveis\n",
    "# n_components, quero 3 eixos, uma mapa 3D\n",
    "mca = prince.MCA(n_components=3).fit(dados_mca)"
   ]
  },
  {
   "cell_type": "markdown",
   "metadata": {},
   "source": [
    "### Quantidade de dimensões\n",
    "Igual total de categorias - qtde de variáveis"
   ]
  },
  {
   "cell_type": "code",
   "execution_count": 12,
   "metadata": {},
   "outputs": [
    {
     "data": {
      "text/plain": [
       "13"
      ]
     },
     "execution_count": 12,
     "metadata": {},
     "output_type": "execute_result"
    }
   ],
   "source": [
    "# Quantidade total de categorias\n",
    "mca.J_"
   ]
  },
  {
   "cell_type": "code",
   "execution_count": 13,
   "metadata": {},
   "outputs": [
    {
     "data": {
      "text/plain": [
       "5"
      ]
     },
     "execution_count": 13,
     "metadata": {},
     "output_type": "execute_result"
    }
   ],
   "source": [
    "# Quantidade de variáveis na análise\n",
    "mca.K_"
   ]
  },
  {
   "cell_type": "code",
   "execution_count": 14,
   "metadata": {},
   "outputs": [
    {
     "data": {
      "text/plain": [
       "8"
      ]
     },
     "execution_count": 14,
     "metadata": {},
     "output_type": "execute_result"
    }
   ],
   "source": [
    "# Quantidade de dimensões\n",
    "quant_dim = mca.J_ - mca.K_\n",
    "quant_dim"
   ]
  },
  {
   "cell_type": "markdown",
   "metadata": {},
   "source": [
    "### Obtendo os eigenvalues (autovalores)"
   ]
  },
  {
   "cell_type": "code",
   "execution_count": 15,
   "metadata": {},
   "outputs": [
    {
     "name": "stdout",
     "output_type": "stream",
     "text": [
      "          eigenvalue % of variance % of variance (cumulative)\n",
      "component                                                    \n",
      "0              0.321        20.06%                     20.06%\n",
      "1              0.308        19.24%                     39.30%\n",
      "2              0.258        16.10%                     55.40%\n"
     ]
    }
   ],
   "source": [
    "tabela_autovalores = mca.eigenvalues_summary\n",
    "print(tabela_autovalores)\n",
    "# São gerados 'm' autovalores: m = mín(I-1,J-1)"
   ]
  },
  {
   "cell_type": "markdown",
   "metadata": {},
   "source": [
    "Os eigenvalues representam as inércias parciais de cada dimensão.\n",
    "\n",
    "- Eixo X: 0 (20.06% )\n",
    "- Eixo Y: 1 (19.24%)\n",
    "- Eixo Z: (16.10%)\n",
    "\n",
    "- O primeiro autovalor é sempre maior que os demais.\n",
    "- O valor do acumulado mostra se houve e quanto tivemos de perda."
   ]
  },
  {
   "cell_type": "markdown",
   "metadata": {},
   "source": [
    "### Obtendo a inércia principal total"
   ]
  },
  {
   "cell_type": "code",
   "execution_count": 16,
   "metadata": {},
   "outputs": [
    {
     "name": "stdout",
     "output_type": "stream",
     "text": [
      "1.5999999999999586\n"
     ]
    }
   ],
   "source": [
    "# É a soma dos eigenvalues (também é a divisão: estat. qui² / N)\n",
    "# Quanto maior a inércia principal total, maior é a associação entre categorias\n",
    "print(mca.total_inertia_)"
   ]
  },
  {
   "cell_type": "markdown",
   "metadata": {},
   "source": [
    "### Inércia total média"
   ]
  },
  {
   "cell_type": "code",
   "execution_count": 17,
   "metadata": {},
   "outputs": [
    {
     "data": {
      "text/plain": [
       "np.float64(0.19999999999999482)"
      ]
     },
     "execution_count": 17,
     "metadata": {},
     "output_type": "execute_result"
    }
   ],
   "source": [
    "mca.total_inertia_/quant_dim"
   ]
  },
  {
   "cell_type": "markdown",
   "metadata": {},
   "source": [
    "- É interessante plotar apenas dimensões com autovalores maiores do que a média\n",
    "- Neste caso, as 3 dimensões extraídas têm autovalores > 0.199\n",
    "- Se tiver um eigenvalue menor, significa que tem pouca informação"
   ]
  },
  {
   "cell_type": "markdown",
   "metadata": {},
   "source": [
    "### Obtendo as coordenadas do mapa perceptual"
   ]
  },
  {
   "cell_type": "code",
   "execution_count": 19,
   "metadata": {},
   "outputs": [
    {
     "data": {
      "text/html": [
       "<div>\n",
       "<style scoped>\n",
       "    .dataframe tbody tr th:only-of-type {\n",
       "        vertical-align: middle;\n",
       "    }\n",
       "\n",
       "    .dataframe tbody tr th {\n",
       "        vertical-align: top;\n",
       "    }\n",
       "\n",
       "    .dataframe thead th {\n",
       "        text-align: right;\n",
       "    }\n",
       "</style>\n",
       "<table border=\"1\" class=\"dataframe\">\n",
       "  <thead>\n",
       "    <tr style=\"text-align: right;\">\n",
       "      <th></th>\n",
       "      <th>0</th>\n",
       "      <th>1</th>\n",
       "      <th>2</th>\n",
       "    </tr>\n",
       "  </thead>\n",
       "  <tbody>\n",
       "    <tr>\n",
       "      <th>Education_College</th>\n",
       "      <td>-1.266116</td>\n",
       "      <td>0.559165</td>\n",
       "      <td>-0.011469</td>\n",
       "    </tr>\n",
       "    <tr>\n",
       "      <th>Education_School</th>\n",
       "      <td>0.476726</td>\n",
       "      <td>-0.675321</td>\n",
       "      <td>0.099547</td>\n",
       "    </tr>\n",
       "    <tr>\n",
       "      <th>Education_University</th>\n",
       "      <td>0.053979</td>\n",
       "      <td>0.516366</td>\n",
       "      <td>-0.110193</td>\n",
       "    </tr>\n",
       "    <tr>\n",
       "      <th>Institution_Government</th>\n",
       "      <td>-0.846907</td>\n",
       "      <td>0.380226</td>\n",
       "      <td>0.692520</td>\n",
       "    </tr>\n",
       "    <tr>\n",
       "      <th>Institution_Non Government</th>\n",
       "      <td>0.393097</td>\n",
       "      <td>-0.176484</td>\n",
       "      <td>-0.321437</td>\n",
       "    </tr>\n",
       "    <tr>\n",
       "      <th>Financial_Mid</th>\n",
       "      <td>-0.262792</td>\n",
       "      <td>0.125889</td>\n",
       "      <td>-0.393927</td>\n",
       "    </tr>\n",
       "    <tr>\n",
       "      <th>Financial_Poor</th>\n",
       "      <td>0.245959</td>\n",
       "      <td>-1.023834</td>\n",
       "      <td>0.979460</td>\n",
       "    </tr>\n",
       "    <tr>\n",
       "      <th>Financial_Rich</th>\n",
       "      <td>2.014228</td>\n",
       "      <td>1.614552</td>\n",
       "      <td>1.280454</td>\n",
       "    </tr>\n",
       "    <tr>\n",
       "      <th>Internet_Mobile Data</th>\n",
       "      <td>-0.057200</td>\n",
       "      <td>-0.631284</td>\n",
       "      <td>0.212550</td>\n",
       "    </tr>\n",
       "    <tr>\n",
       "      <th>Internet_Wifi</th>\n",
       "      <td>0.077949</td>\n",
       "      <td>0.860279</td>\n",
       "      <td>-0.289652</td>\n",
       "    </tr>\n",
       "    <tr>\n",
       "      <th>Adaptivity_High</th>\n",
       "      <td>1.972304</td>\n",
       "      <td>1.324840</td>\n",
       "      <td>1.302384</td>\n",
       "    </tr>\n",
       "    <tr>\n",
       "      <th>Adaptivity_Low</th>\n",
       "      <td>-0.676083</td>\n",
       "      <td>-0.030830</td>\n",
       "      <td>0.654504</td>\n",
       "    </tr>\n",
       "    <tr>\n",
       "      <th>Adaptivity_Moderate</th>\n",
       "      <td>0.203663</td>\n",
       "      <td>-0.188297</td>\n",
       "      <td>-0.711041</td>\n",
       "    </tr>\n",
       "  </tbody>\n",
       "</table>\n",
       "</div>"
      ],
      "text/plain": [
       "                                   0         1         2\n",
       "Education_College          -1.266116  0.559165 -0.011469\n",
       "Education_School            0.476726 -0.675321  0.099547\n",
       "Education_University        0.053979  0.516366 -0.110193\n",
       "Institution_Government     -0.846907  0.380226  0.692520\n",
       "Institution_Non Government  0.393097 -0.176484 -0.321437\n",
       "Financial_Mid              -0.262792  0.125889 -0.393927\n",
       "Financial_Poor              0.245959 -1.023834  0.979460\n",
       "Financial_Rich              2.014228  1.614552  1.280454\n",
       "Internet_Mobile Data       -0.057200 -0.631284  0.212550\n",
       "Internet_Wifi               0.077949  0.860279 -0.289652\n",
       "Adaptivity_High             1.972304  1.324840  1.302384\n",
       "Adaptivity_Low             -0.676083 -0.030830  0.654504\n",
       "Adaptivity_Moderate         0.203663 -0.188297 -0.711041"
      ]
     },
     "execution_count": 19,
     "metadata": {},
     "output_type": "execute_result"
    }
   ],
   "source": [
    "# Coordenadas principais das categorias das variáveis\n",
    "coord_burt = mca.column_coordinates(dados_mca)\n",
    "coord_burt"
   ]
  },
  {
   "cell_type": "code",
   "execution_count": 20,
   "metadata": {},
   "outputs": [
    {
     "data": {
      "text/html": [
       "<div>\n",
       "<style scoped>\n",
       "    .dataframe tbody tr th:only-of-type {\n",
       "        vertical-align: middle;\n",
       "    }\n",
       "\n",
       "    .dataframe tbody tr th {\n",
       "        vertical-align: top;\n",
       "    }\n",
       "\n",
       "    .dataframe thead th {\n",
       "        text-align: right;\n",
       "    }\n",
       "</style>\n",
       "<table border=\"1\" class=\"dataframe\">\n",
       "  <thead>\n",
       "    <tr style=\"text-align: right;\">\n",
       "      <th></th>\n",
       "      <th>0</th>\n",
       "      <th>1</th>\n",
       "      <th>2</th>\n",
       "    </tr>\n",
       "  </thead>\n",
       "  <tbody>\n",
       "    <tr>\n",
       "      <th>Education_College</th>\n",
       "      <td>-2.234816</td>\n",
       "      <td>1.007914</td>\n",
       "      <td>-0.022596</td>\n",
       "    </tr>\n",
       "    <tr>\n",
       "      <th>Education_School</th>\n",
       "      <td>0.841467</td>\n",
       "      <td>-1.217289</td>\n",
       "      <td>0.196122</td>\n",
       "    </tr>\n",
       "    <tr>\n",
       "      <th>Education_University</th>\n",
       "      <td>0.095278</td>\n",
       "      <td>0.930767</td>\n",
       "      <td>-0.217097</td>\n",
       "    </tr>\n",
       "    <tr>\n",
       "      <th>Institution_Government</th>\n",
       "      <td>-1.494873</td>\n",
       "      <td>0.685371</td>\n",
       "      <td>1.364369</td>\n",
       "    </tr>\n",
       "    <tr>\n",
       "      <th>Institution_Non Government</th>\n",
       "      <td>0.693853</td>\n",
       "      <td>-0.318119</td>\n",
       "      <td>-0.633279</td>\n",
       "    </tr>\n",
       "    <tr>\n",
       "      <th>Financial_Mid</th>\n",
       "      <td>-0.463853</td>\n",
       "      <td>0.226920</td>\n",
       "      <td>-0.776095</td>\n",
       "    </tr>\n",
       "    <tr>\n",
       "      <th>Financial_Poor</th>\n",
       "      <td>0.434140</td>\n",
       "      <td>-1.845496</td>\n",
       "      <td>1.929683</td>\n",
       "    </tr>\n",
       "    <tr>\n",
       "      <th>Financial_Rich</th>\n",
       "      <td>3.555306</td>\n",
       "      <td>2.910286</td>\n",
       "      <td>2.522688</td>\n",
       "    </tr>\n",
       "    <tr>\n",
       "      <th>Internet_Mobile Data</th>\n",
       "      <td>-0.100964</td>\n",
       "      <td>-1.137912</td>\n",
       "      <td>0.418756</td>\n",
       "    </tr>\n",
       "    <tr>\n",
       "      <th>Internet_Wifi</th>\n",
       "      <td>0.137588</td>\n",
       "      <td>1.550684</td>\n",
       "      <td>-0.570658</td>\n",
       "    </tr>\n",
       "    <tr>\n",
       "      <th>Adaptivity_High</th>\n",
       "      <td>3.481307</td>\n",
       "      <td>2.388070</td>\n",
       "      <td>2.565894</td>\n",
       "    </tr>\n",
       "    <tr>\n",
       "      <th>Adaptivity_Low</th>\n",
       "      <td>-1.193351</td>\n",
       "      <td>-0.055573</td>\n",
       "      <td>1.289472</td>\n",
       "    </tr>\n",
       "    <tr>\n",
       "      <th>Adaptivity_Moderate</th>\n",
       "      <td>0.359485</td>\n",
       "      <td>-0.339411</td>\n",
       "      <td>-1.400858</td>\n",
       "    </tr>\n",
       "  </tbody>\n",
       "</table>\n",
       "</div>"
      ],
      "text/plain": [
       "                                   0         1         2\n",
       "Education_College          -2.234816  1.007914 -0.022596\n",
       "Education_School            0.841467 -1.217289  0.196122\n",
       "Education_University        0.095278  0.930767 -0.217097\n",
       "Institution_Government     -1.494873  0.685371  1.364369\n",
       "Institution_Non Government  0.693853 -0.318119 -0.633279\n",
       "Financial_Mid              -0.463853  0.226920 -0.776095\n",
       "Financial_Poor              0.434140 -1.845496  1.929683\n",
       "Financial_Rich              3.555306  2.910286  2.522688\n",
       "Internet_Mobile Data       -0.100964 -1.137912  0.418756\n",
       "Internet_Wifi               0.137588  1.550684 -0.570658\n",
       "Adaptivity_High             3.481307  2.388070  2.565894\n",
       "Adaptivity_Low             -1.193351 -0.055573  1.289472\n",
       "Adaptivity_Moderate         0.359485 -0.339411 -1.400858"
      ]
     },
     "execution_count": 20,
     "metadata": {},
     "output_type": "execute_result"
    }
   ],
   "source": [
    "# Obtendo as coordenadas-padrão das categorias das vaiáveis\n",
    "coord_padrao = mca.column_coordinates(dados_mca)/np.sqrt(mca.eigenvalues_)\n",
    "coord_padrao"
   ]
  },
  {
   "cell_type": "markdown",
   "metadata": {},
   "source": [
    "Em termos de resultados, posso escolher uma das duas, geralmente elas são semelhantes, mudando pouco os eixos.\n",
    "\n",
    "Vamos então seguir com as coordenadas-padrao (para as observações tbm)."
   ]
  },
  {
   "cell_type": "markdown",
   "metadata": {},
   "source": [
    "### Obtendo as coordenadas das observações do banco de dados"
   ]
  },
  {
   "cell_type": "code",
   "execution_count": 21,
   "metadata": {},
   "outputs": [
    {
     "data": {
      "text/html": [
       "<div>\n",
       "<style scoped>\n",
       "    .dataframe tbody tr th:only-of-type {\n",
       "        vertical-align: middle;\n",
       "    }\n",
       "\n",
       "    .dataframe tbody tr th {\n",
       "        vertical-align: top;\n",
       "    }\n",
       "\n",
       "    .dataframe thead th {\n",
       "        text-align: right;\n",
       "    }\n",
       "</style>\n",
       "<table border=\"1\" class=\"dataframe\">\n",
       "  <thead>\n",
       "    <tr style=\"text-align: right;\">\n",
       "      <th></th>\n",
       "      <th>0</th>\n",
       "      <th>1</th>\n",
       "      <th>2</th>\n",
       "    </tr>\n",
       "  </thead>\n",
       "  <tbody>\n",
       "    <tr>\n",
       "      <th>0</th>\n",
       "      <td>0.164470</td>\n",
       "      <td>0.410168</td>\n",
       "      <td>-0.719597</td>\n",
       "    </tr>\n",
       "    <tr>\n",
       "      <th>1</th>\n",
       "      <td>0.116760</td>\n",
       "      <td>-0.127551</td>\n",
       "      <td>-0.521715</td>\n",
       "    </tr>\n",
       "    <tr>\n",
       "      <th>2</th>\n",
       "      <td>-0.739294</td>\n",
       "      <td>0.626296</td>\n",
       "      <td>-0.281168</td>\n",
       "    </tr>\n",
       "    <tr>\n",
       "      <th>3</th>\n",
       "      <td>0.265998</td>\n",
       "      <td>-0.557162</td>\n",
       "      <td>-0.439071</td>\n",
       "    </tr>\n",
       "    <tr>\n",
       "      <th>4</th>\n",
       "      <td>0.135029</td>\n",
       "      <td>-0.914878</td>\n",
       "      <td>0.640151</td>\n",
       "    </tr>\n",
       "    <tr>\n",
       "      <th>...</th>\n",
       "      <td>...</td>\n",
       "      <td>...</td>\n",
       "      <td>...</td>\n",
       "    </tr>\n",
       "    <tr>\n",
       "      <th>1200</th>\n",
       "      <td>-0.612116</td>\n",
       "      <td>0.482365</td>\n",
       "      <td>-0.142631</td>\n",
       "    </tr>\n",
       "    <tr>\n",
       "      <th>1201</th>\n",
       "      <td>-0.301548</td>\n",
       "      <td>0.425598</td>\n",
       "      <td>-0.680697</td>\n",
       "    </tr>\n",
       "    <tr>\n",
       "      <th>1202</th>\n",
       "      <td>0.265998</td>\n",
       "      <td>-0.557162</td>\n",
       "      <td>-0.439071</td>\n",
       "    </tr>\n",
       "    <tr>\n",
       "      <th>1203</th>\n",
       "      <td>-0.612116</td>\n",
       "      <td>0.482365</td>\n",
       "      <td>-0.142631</td>\n",
       "    </tr>\n",
       "    <tr>\n",
       "      <th>1204</th>\n",
       "      <td>0.445596</td>\n",
       "      <td>-0.971645</td>\n",
       "      <td>0.102085</td>\n",
       "    </tr>\n",
       "  </tbody>\n",
       "</table>\n",
       "<p>1205 rows × 3 columns</p>\n",
       "</div>"
      ],
      "text/plain": [
       "             0         1         2\n",
       "0     0.164470  0.410168 -0.719597\n",
       "1     0.116760 -0.127551 -0.521715\n",
       "2    -0.739294  0.626296 -0.281168\n",
       "3     0.265998 -0.557162 -0.439071\n",
       "4     0.135029 -0.914878  0.640151\n",
       "...        ...       ...       ...\n",
       "1200 -0.612116  0.482365 -0.142631\n",
       "1201 -0.301548  0.425598 -0.680697\n",
       "1202  0.265998 -0.557162 -0.439071\n",
       "1203 -0.612116  0.482365 -0.142631\n",
       "1204  0.445596 -0.971645  0.102085\n",
       "\n",
       "[1205 rows x 3 columns]"
      ]
     },
     "execution_count": 21,
     "metadata": {},
     "output_type": "execute_result"
    }
   ],
   "source": [
    "# Na função, as coordenadas das observações vêm das coordenadas-padrão\n",
    "\n",
    "coord_obs = mca.row_coordinates(dados_mca)\n",
    "coord_obs"
   ]
  },
  {
   "cell_type": "markdown",
   "metadata": {},
   "source": [
    "### Plotando o mapa percentual (coordenadas-padrão)"
   ]
  },
  {
   "cell_type": "code",
   "execution_count": 25,
   "metadata": {},
   "outputs": [],
   "source": [
    "# Primeiro passo: gerar um DataFrame detalhado\n",
    "chart = coord_padrao.reset_index()\n",
    "\n",
    "var_chart = pd.Series(chart['index'].str.split('_', expand=True).iloc[:,0])\n",
    "\n",
    "nome_categ=[]\n",
    "for col in dados_mca:\n",
    "    nome_categ.append(dados_mca[col].sort_values(ascending=True).unique())\n",
    "    categorias = pd.DataFrame(nome_categ).stack().reset_index()\n",
    "\n",
    "chart_df_mca = pd.DataFrame({'categoria': chart['index'],\n",
    "                             'obs_x': chart[0],\n",
    "                             'obs_y': chart[1],\n",
    "                             'obs_z': chart[2],\n",
    "                             'variavel': var_chart,\n",
    "                             'categoria_id': categorias[0]})\n",
    "\n",
    "# Segundo passo: gerar o gráfico de pontos\n",
    "\n",
    "fig = px.scatter_3d(chart_df_mca, \n",
    "                    x='obs_x', \n",
    "                    y='obs_y', \n",
    "                    z='obs_z',\n",
    "                    color='variavel',\n",
    "                    text=chart_df_mca.categoria_id)\n",
    "fig.show()"
   ]
  },
  {
   "cell_type": "markdown",
   "metadata": {},
   "source": [
    "Categorias que estão próximas, são aquelas que estão associadas.\n",
    "É uma análise por proximidade."
   ]
  },
  {
   "cell_type": "markdown",
   "metadata": {},
   "source": [
    "Nós partimos de variáveis categóricas para variáveis métricas (posição x, y e z), sem poderação arbitrária!"
   ]
  },
  {
   "cell_type": "code",
   "execution_count": null,
   "metadata": {},
   "outputs": [],
   "source": []
  }
 ],
 "metadata": {
  "kernelspec": {
   "display_name": "Python 3 (ipykernel)",
   "language": "python",
   "name": "python3"
  },
  "language_info": {
   "codemirror_mode": {
    "name": "ipython",
    "version": 3
   },
   "file_extension": ".py",
   "mimetype": "text/x-python",
   "name": "python",
   "nbconvert_exporter": "python",
   "pygments_lexer": "ipython3",
   "version": "3.11.9"
  }
 },
 "nbformat": 4,
 "nbformat_minor": 4
}

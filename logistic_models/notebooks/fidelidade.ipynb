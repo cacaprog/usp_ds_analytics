{
 "cells": [
  {
   "cell_type": "markdown",
   "metadata": {},
   "source": [
    "# REGRESSÃO LOGÍSTICA BINÁRIA COM VARIÁVEIS EXPLICATIVAS QUANTI E QUALIS\n",
    "\n",
    "EXEMPLO 3"
   ]
  },
  {
   "cell_type": "code",
   "execution_count": 1,
   "metadata": {},
   "outputs": [],
   "source": [
    "# Importação dos pacotes\n",
    "import pandas as pd # manipulação de dados em formato de dataframe\n",
    "import numpy as np # operações matemáticas\n",
    "import seaborn as sns # visualização gráfica\n",
    "import matplotlib.pyplot as plt # visualização gráfica\n",
    "from scipy.interpolate import UnivariateSpline # curva sigmoide suavizada\n",
    "import statsmodels.api as sm # estimação de modelos\n",
    "import statsmodels.formula.api as smf # estimação do modelo logístico binário\n",
    "from statstests.process import stepwise # procedimento Stepwise\n",
    "from scipy import stats # estatística chi2\n",
    "import plotly.graph_objects as go # gráficos 3D\n",
    "from statsmodels.iolib.summary2 import summary_col # comparação entre modelos\n",
    "from statsmodels.discrete.discrete_model import MNLogit # estimação do modelo\n",
    "\n",
    "from sklearn.metrics import confusion_matrix, accuracy_score,\\\n",
    "    ConfusionMatrixDisplay, recall_score\n",
    "                                                        #logístico multinomial\n",
    "import warnings\n",
    "warnings.filterwarnings('ignore')"
   ]
  },
  {
   "cell_type": "code",
   "execution_count": 8,
   "metadata": {},
   "outputs": [
    {
     "data": {
      "text/html": [
       "<div>\n",
       "<style scoped>\n",
       "    .dataframe tbody tr th:only-of-type {\n",
       "        vertical-align: middle;\n",
       "    }\n",
       "\n",
       "    .dataframe tbody tr th {\n",
       "        vertical-align: top;\n",
       "    }\n",
       "\n",
       "    .dataframe thead th {\n",
       "        text-align: right;\n",
       "    }\n",
       "</style>\n",
       "<table border=\"1\" class=\"dataframe\">\n",
       "  <thead>\n",
       "    <tr style=\"text-align: right;\">\n",
       "      <th></th>\n",
       "      <th>id</th>\n",
       "      <th>fidelidade</th>\n",
       "      <th>sexo</th>\n",
       "      <th>idade</th>\n",
       "      <th>atendimento</th>\n",
       "      <th>sortimento</th>\n",
       "      <th>acessibilidade</th>\n",
       "      <th>preço</th>\n",
       "    </tr>\n",
       "  </thead>\n",
       "  <tbody>\n",
       "    <tr>\n",
       "      <th>0</th>\n",
       "      <td>1</td>\n",
       "      <td>nao</td>\n",
       "      <td>feminino</td>\n",
       "      <td>34</td>\n",
       "      <td>2</td>\n",
       "      <td>2</td>\n",
       "      <td>1</td>\n",
       "      <td>1</td>\n",
       "    </tr>\n",
       "    <tr>\n",
       "      <th>1</th>\n",
       "      <td>2</td>\n",
       "      <td>nao</td>\n",
       "      <td>feminino</td>\n",
       "      <td>34</td>\n",
       "      <td>2</td>\n",
       "      <td>2</td>\n",
       "      <td>1</td>\n",
       "      <td>1</td>\n",
       "    </tr>\n",
       "    <tr>\n",
       "      <th>2</th>\n",
       "      <td>3</td>\n",
       "      <td>nao</td>\n",
       "      <td>masculino</td>\n",
       "      <td>34</td>\n",
       "      <td>3</td>\n",
       "      <td>2</td>\n",
       "      <td>4</td>\n",
       "      <td>2</td>\n",
       "    </tr>\n",
       "    <tr>\n",
       "      <th>3</th>\n",
       "      <td>4</td>\n",
       "      <td>nao</td>\n",
       "      <td>feminino</td>\n",
       "      <td>34</td>\n",
       "      <td>4</td>\n",
       "      <td>3</td>\n",
       "      <td>3</td>\n",
       "      <td>3</td>\n",
       "    </tr>\n",
       "    <tr>\n",
       "      <th>4</th>\n",
       "      <td>5</td>\n",
       "      <td>nao</td>\n",
       "      <td>feminino</td>\n",
       "      <td>34</td>\n",
       "      <td>4</td>\n",
       "      <td>3</td>\n",
       "      <td>1</td>\n",
       "      <td>4</td>\n",
       "    </tr>\n",
       "    <tr>\n",
       "      <th>5</th>\n",
       "      <td>6</td>\n",
       "      <td>nao</td>\n",
       "      <td>feminino</td>\n",
       "      <td>34</td>\n",
       "      <td>2</td>\n",
       "      <td>3</td>\n",
       "      <td>3</td>\n",
       "      <td>3</td>\n",
       "    </tr>\n",
       "    <tr>\n",
       "      <th>6</th>\n",
       "      <td>7</td>\n",
       "      <td>nao</td>\n",
       "      <td>feminino</td>\n",
       "      <td>34</td>\n",
       "      <td>5</td>\n",
       "      <td>1</td>\n",
       "      <td>4</td>\n",
       "      <td>2</td>\n",
       "    </tr>\n",
       "    <tr>\n",
       "      <th>7</th>\n",
       "      <td>8</td>\n",
       "      <td>nao</td>\n",
       "      <td>feminino</td>\n",
       "      <td>34</td>\n",
       "      <td>2</td>\n",
       "      <td>3</td>\n",
       "      <td>3</td>\n",
       "      <td>3</td>\n",
       "    </tr>\n",
       "    <tr>\n",
       "      <th>8</th>\n",
       "      <td>9</td>\n",
       "      <td>nao</td>\n",
       "      <td>feminino</td>\n",
       "      <td>34</td>\n",
       "      <td>4</td>\n",
       "      <td>3</td>\n",
       "      <td>3</td>\n",
       "      <td>3</td>\n",
       "    </tr>\n",
       "    <tr>\n",
       "      <th>9</th>\n",
       "      <td>10</td>\n",
       "      <td>nao</td>\n",
       "      <td>feminino</td>\n",
       "      <td>34</td>\n",
       "      <td>3</td>\n",
       "      <td>2</td>\n",
       "      <td>5</td>\n",
       "      <td>4</td>\n",
       "    </tr>\n",
       "  </tbody>\n",
       "</table>\n",
       "</div>"
      ],
      "text/plain": [
       "   id fidelidade       sexo  idade  atendimento  sortimento  acessibilidade  \\\n",
       "0   1        nao   feminino     34            2           2               1   \n",
       "1   2        nao   feminino     34            2           2               1   \n",
       "2   3        nao  masculino     34            3           2               4   \n",
       "3   4        nao   feminino     34            4           3               3   \n",
       "4   5        nao   feminino     34            4           3               1   \n",
       "5   6        nao   feminino     34            2           3               3   \n",
       "6   7        nao   feminino     34            5           1               4   \n",
       "7   8        nao   feminino     34            2           3               3   \n",
       "8   9        nao   feminino     34            4           3               3   \n",
       "9  10        nao   feminino     34            3           2               5   \n",
       "\n",
       "   preço  \n",
       "0      1  \n",
       "1      1  \n",
       "2      2  \n",
       "3      3  \n",
       "4      4  \n",
       "5      3  \n",
       "6      2  \n",
       "7      3  \n",
       "8      3  \n",
       "9      4  "
      ]
     },
     "execution_count": 8,
     "metadata": {},
     "output_type": "execute_result"
    }
   ],
   "source": [
    "df_fidelidade = pd.read_csv('/home/usp_ds_analytics/logistic_models/data/dados_fidelidade.csv',delimiter=',')\n",
    "df_fidelidade.head(10)"
   ]
  },
  {
   "cell_type": "code",
   "execution_count": 3,
   "metadata": {},
   "outputs": [
    {
     "name": "stdout",
     "output_type": "stream",
     "text": [
      "<class 'pandas.core.frame.DataFrame'>\n",
      "RangeIndex: 3000 entries, 0 to 2999\n",
      "Data columns (total 8 columns):\n",
      " #   Column          Non-Null Count  Dtype \n",
      "---  ------          --------------  ----- \n",
      " 0   id              3000 non-null   int64 \n",
      " 1   fidelidade      3000 non-null   object\n",
      " 2   sexo            3000 non-null   object\n",
      " 3   idade           3000 non-null   int64 \n",
      " 4   atendimento     3000 non-null   int64 \n",
      " 5   sortimento      3000 non-null   int64 \n",
      " 6   acessibilidade  3000 non-null   int64 \n",
      " 7   preço           3000 non-null   int64 \n",
      "dtypes: int64(6), object(2)\n",
      "memory usage: 187.6+ KB\n"
     ]
    }
   ],
   "source": [
    "# Características das variáveis do dataset\n",
    "df_fidelidade.info()"
   ]
  },
  {
   "cell_type": "code",
   "execution_count": 7,
   "metadata": {},
   "outputs": [
    {
     "data": {
      "text/html": [
       "<div>\n",
       "<style scoped>\n",
       "    .dataframe tbody tr th:only-of-type {\n",
       "        vertical-align: middle;\n",
       "    }\n",
       "\n",
       "    .dataframe tbody tr th {\n",
       "        vertical-align: top;\n",
       "    }\n",
       "\n",
       "    .dataframe thead th {\n",
       "        text-align: right;\n",
       "    }\n",
       "</style>\n",
       "<table border=\"1\" class=\"dataframe\">\n",
       "  <thead>\n",
       "    <tr style=\"text-align: right;\">\n",
       "      <th></th>\n",
       "      <th>id</th>\n",
       "      <th>idade</th>\n",
       "      <th>atendimento</th>\n",
       "      <th>sortimento</th>\n",
       "      <th>acessibilidade</th>\n",
       "      <th>preço</th>\n",
       "    </tr>\n",
       "  </thead>\n",
       "  <tbody>\n",
       "    <tr>\n",
       "      <th>count</th>\n",
       "      <td>3000.000000</td>\n",
       "      <td>3000.00000</td>\n",
       "      <td>3000.000000</td>\n",
       "      <td>3000.000000</td>\n",
       "      <td>3000.000000</td>\n",
       "      <td>3000.000000</td>\n",
       "    </tr>\n",
       "    <tr>\n",
       "      <th>mean</th>\n",
       "      <td>1500.500000</td>\n",
       "      <td>34.21000</td>\n",
       "      <td>3.490000</td>\n",
       "      <td>3.360000</td>\n",
       "      <td>3.330000</td>\n",
       "      <td>3.380000</td>\n",
       "    </tr>\n",
       "    <tr>\n",
       "      <th>std</th>\n",
       "      <td>866.169729</td>\n",
       "      <td>1.57058</td>\n",
       "      <td>0.964474</td>\n",
       "      <td>1.221023</td>\n",
       "      <td>1.296789</td>\n",
       "      <td>1.017814</td>\n",
       "    </tr>\n",
       "    <tr>\n",
       "      <th>min</th>\n",
       "      <td>1.000000</td>\n",
       "      <td>29.00000</td>\n",
       "      <td>1.000000</td>\n",
       "      <td>1.000000</td>\n",
       "      <td>1.000000</td>\n",
       "      <td>1.000000</td>\n",
       "    </tr>\n",
       "    <tr>\n",
       "      <th>25%</th>\n",
       "      <td>750.750000</td>\n",
       "      <td>34.00000</td>\n",
       "      <td>3.000000</td>\n",
       "      <td>2.750000</td>\n",
       "      <td>3.000000</td>\n",
       "      <td>3.000000</td>\n",
       "    </tr>\n",
       "    <tr>\n",
       "      <th>50%</th>\n",
       "      <td>1500.500000</td>\n",
       "      <td>34.00000</td>\n",
       "      <td>4.000000</td>\n",
       "      <td>4.000000</td>\n",
       "      <td>3.000000</td>\n",
       "      <td>3.000000</td>\n",
       "    </tr>\n",
       "    <tr>\n",
       "      <th>75%</th>\n",
       "      <td>2250.250000</td>\n",
       "      <td>34.00000</td>\n",
       "      <td>4.000000</td>\n",
       "      <td>4.000000</td>\n",
       "      <td>5.000000</td>\n",
       "      <td>4.000000</td>\n",
       "    </tr>\n",
       "    <tr>\n",
       "      <th>max</th>\n",
       "      <td>3000.000000</td>\n",
       "      <td>42.00000</td>\n",
       "      <td>5.000000</td>\n",
       "      <td>5.000000</td>\n",
       "      <td>5.000000</td>\n",
       "      <td>5.000000</td>\n",
       "    </tr>\n",
       "  </tbody>\n",
       "</table>\n",
       "</div>"
      ],
      "text/plain": [
       "                id       idade  atendimento   sortimento  acessibilidade  \\\n",
       "count  3000.000000  3000.00000  3000.000000  3000.000000     3000.000000   \n",
       "mean   1500.500000    34.21000     3.490000     3.360000        3.330000   \n",
       "std     866.169729     1.57058     0.964474     1.221023        1.296789   \n",
       "min       1.000000    29.00000     1.000000     1.000000        1.000000   \n",
       "25%     750.750000    34.00000     3.000000     2.750000        3.000000   \n",
       "50%    1500.500000    34.00000     4.000000     4.000000        3.000000   \n",
       "75%    2250.250000    34.00000     4.000000     4.000000        5.000000   \n",
       "max    3000.000000    42.00000     5.000000     5.000000        5.000000   \n",
       "\n",
       "             preço  \n",
       "count  3000.000000  \n",
       "mean      3.380000  \n",
       "std       1.017814  \n",
       "min       1.000000  \n",
       "25%       3.000000  \n",
       "50%       3.000000  \n",
       "75%       4.000000  \n",
       "max       5.000000  "
      ]
     },
     "execution_count": 7,
     "metadata": {},
     "output_type": "execute_result"
    }
   ],
   "source": [
    "# Estatísticas univariadas\n",
    "df_fidelidade.describe()"
   ]
  },
  {
   "cell_type": "code",
   "execution_count": 9,
   "metadata": {},
   "outputs": [],
   "source": [
    "# In[3.1]: Alteração dos tipos das variáveis não quantitativas no dataframe\n",
    "\n",
    "# Transformação do 'id' para o tipo 'str'\n",
    "df_fidelidade['id'] = df_fidelidade['id'].astype('str')\n",
    "\n",
    "# Transformação das variáveis explicativas qualitativas para o tipo 'object'\n",
    "df_fidelidade['atendimento'] = df_fidelidade['atendimento'].astype('object')\n",
    "df_fidelidade['sortimento'] = df_fidelidade['sortimento'].astype('object')\n",
    "df_fidelidade['acessibilidade'] = df_fidelidade['acessibilidade'].astype('object')\n",
    "df_fidelidade['preço'] = df_fidelidade['preço'].astype('object')"
   ]
  },
  {
   "cell_type": "code",
   "execution_count": 10,
   "metadata": {},
   "outputs": [
    {
     "name": "stdout",
     "output_type": "stream",
     "text": [
      "<class 'pandas.core.frame.DataFrame'>\n",
      "RangeIndex: 3000 entries, 0 to 2999\n",
      "Data columns (total 8 columns):\n",
      " #   Column          Non-Null Count  Dtype \n",
      "---  ------          --------------  ----- \n",
      " 0   id              3000 non-null   object\n",
      " 1   fidelidade      3000 non-null   object\n",
      " 2   sexo            3000 non-null   object\n",
      " 3   idade           3000 non-null   int64 \n",
      " 4   atendimento     3000 non-null   object\n",
      " 5   sortimento      3000 non-null   object\n",
      " 6   acessibilidade  3000 non-null   object\n",
      " 7   preço           3000 non-null   object\n",
      "dtypes: int64(1), object(7)\n",
      "memory usage: 187.6+ KB\n"
     ]
    }
   ],
   "source": [
    "# Características das variáveis do dataset\n",
    "df_fidelidade.info()"
   ]
  },
  {
   "cell_type": "code",
   "execution_count": 11,
   "metadata": {},
   "outputs": [
    {
     "data": {
      "text/html": [
       "<div>\n",
       "<style scoped>\n",
       "    .dataframe tbody tr th:only-of-type {\n",
       "        vertical-align: middle;\n",
       "    }\n",
       "\n",
       "    .dataframe tbody tr th {\n",
       "        vertical-align: top;\n",
       "    }\n",
       "\n",
       "    .dataframe thead th {\n",
       "        text-align: right;\n",
       "    }\n",
       "</style>\n",
       "<table border=\"1\" class=\"dataframe\">\n",
       "  <thead>\n",
       "    <tr style=\"text-align: right;\">\n",
       "      <th></th>\n",
       "      <th>idade</th>\n",
       "    </tr>\n",
       "  </thead>\n",
       "  <tbody>\n",
       "    <tr>\n",
       "      <th>count</th>\n",
       "      <td>3000.00000</td>\n",
       "    </tr>\n",
       "    <tr>\n",
       "      <th>mean</th>\n",
       "      <td>34.21000</td>\n",
       "    </tr>\n",
       "    <tr>\n",
       "      <th>std</th>\n",
       "      <td>1.57058</td>\n",
       "    </tr>\n",
       "    <tr>\n",
       "      <th>min</th>\n",
       "      <td>29.00000</td>\n",
       "    </tr>\n",
       "    <tr>\n",
       "      <th>25%</th>\n",
       "      <td>34.00000</td>\n",
       "    </tr>\n",
       "    <tr>\n",
       "      <th>50%</th>\n",
       "      <td>34.00000</td>\n",
       "    </tr>\n",
       "    <tr>\n",
       "      <th>75%</th>\n",
       "      <td>34.00000</td>\n",
       "    </tr>\n",
       "    <tr>\n",
       "      <th>max</th>\n",
       "      <td>42.00000</td>\n",
       "    </tr>\n",
       "  </tbody>\n",
       "</table>\n",
       "</div>"
      ],
      "text/plain": [
       "            idade\n",
       "count  3000.00000\n",
       "mean     34.21000\n",
       "std       1.57058\n",
       "min      29.00000\n",
       "25%      34.00000\n",
       "50%      34.00000\n",
       "75%      34.00000\n",
       "max      42.00000"
      ]
     },
     "execution_count": 11,
     "metadata": {},
     "output_type": "execute_result"
    }
   ],
   "source": [
    "# Estatísticas univariadas\n",
    "df_fidelidade.describe()"
   ]
  },
  {
   "cell_type": "markdown",
   "metadata": {},
   "source": [
    "### Tabela de frequências absolutas"
   ]
  },
  {
   "cell_type": "code",
   "execution_count": 13,
   "metadata": {},
   "outputs": [
    {
     "data": {
      "text/plain": [
       "fidelidade\n",
       "nao    1320\n",
       "sim    1680\n",
       "Name: count, dtype: int64"
      ]
     },
     "execution_count": 13,
     "metadata": {},
     "output_type": "execute_result"
    }
   ],
   "source": [
    "# In[3.2]: Tabela de frequências absolutas das variáveis qualitativas referentes\n",
    "#aos atributos da loja na percepção dos consumidores\n",
    "df_fidelidade['fidelidade'].value_counts().sort_index()"
   ]
  },
  {
   "cell_type": "markdown",
   "metadata": {},
   "source": [
    "Note que a variável Y 'fidelidade' está definida como objeto\n",
    "> (PROBLEMA!!!)"
   ]
  },
  {
   "cell_type": "code",
   "execution_count": 14,
   "metadata": {},
   "outputs": [
    {
     "data": {
      "text/plain": [
       "sexo\n",
       "feminino     2400\n",
       "masculino     600\n",
       "Name: count, dtype: int64"
      ]
     },
     "execution_count": 14,
     "metadata": {},
     "output_type": "execute_result"
    }
   ],
   "source": [
    "df_fidelidade['sexo'].value_counts().sort_index()"
   ]
  },
  {
   "cell_type": "code",
   "execution_count": 15,
   "metadata": {},
   "outputs": [
    {
     "data": {
      "text/plain": [
       "atendimento\n",
       "1     150\n",
       "2     300\n",
       "3     750\n",
       "4    1530\n",
       "5     270\n",
       "Name: count, dtype: int64"
      ]
     },
     "execution_count": 15,
     "metadata": {},
     "output_type": "execute_result"
    }
   ],
   "source": [
    "df_fidelidade['atendimento'].value_counts().sort_index()"
   ]
  },
  {
   "cell_type": "code",
   "execution_count": 16,
   "metadata": {},
   "outputs": [
    {
     "data": {
      "text/plain": [
       "sortimento\n",
       "1     330\n",
       "2     420\n",
       "3     570\n",
       "4    1200\n",
       "5     480\n",
       "Name: count, dtype: int64"
      ]
     },
     "execution_count": 16,
     "metadata": {},
     "output_type": "execute_result"
    }
   ],
   "source": [
    "df_fidelidade['sortimento'].value_counts().sort_index()"
   ]
  },
  {
   "cell_type": "code",
   "execution_count": 17,
   "metadata": {},
   "outputs": [
    {
     "data": {
      "text/plain": [
       "acessibilidade\n",
       "1     420\n",
       "2      90\n",
       "3    1410\n",
       "4     240\n",
       "5     840\n",
       "Name: count, dtype: int64"
      ]
     },
     "execution_count": 17,
     "metadata": {},
     "output_type": "execute_result"
    }
   ],
   "source": [
    "df_fidelidade['acessibilidade'].value_counts().sort_index()"
   ]
  },
  {
   "cell_type": "code",
   "execution_count": 18,
   "metadata": {},
   "outputs": [
    {
     "data": {
      "text/plain": [
       "preço\n",
       "1     180\n",
       "2     270\n",
       "3    1170\n",
       "4     990\n",
       "5     390\n",
       "Name: count, dtype: int64"
      ]
     },
     "execution_count": 18,
     "metadata": {},
     "output_type": "execute_result"
    }
   ],
   "source": [
    "df_fidelidade['preço'].value_counts().sort_index()"
   ]
  },
  {
   "cell_type": "code",
   "execution_count": 19,
   "metadata": {},
   "outputs": [
    {
     "data": {
      "text/html": [
       "<div>\n",
       "<style scoped>\n",
       "    .dataframe tbody tr th:only-of-type {\n",
       "        vertical-align: middle;\n",
       "    }\n",
       "\n",
       "    .dataframe tbody tr th {\n",
       "        vertical-align: top;\n",
       "    }\n",
       "\n",
       "    .dataframe thead th {\n",
       "        text-align: right;\n",
       "    }\n",
       "</style>\n",
       "<table border=\"1\" class=\"dataframe\">\n",
       "  <thead>\n",
       "    <tr style=\"text-align: right;\">\n",
       "      <th></th>\n",
       "      <th>id</th>\n",
       "      <th>fidelidade</th>\n",
       "      <th>sexo</th>\n",
       "      <th>idade</th>\n",
       "      <th>atendimento</th>\n",
       "      <th>sortimento</th>\n",
       "      <th>acessibilidade</th>\n",
       "      <th>preço</th>\n",
       "    </tr>\n",
       "  </thead>\n",
       "  <tbody>\n",
       "    <tr>\n",
       "      <th>0</th>\n",
       "      <td>1</td>\n",
       "      <td>0</td>\n",
       "      <td>feminino</td>\n",
       "      <td>34</td>\n",
       "      <td>2</td>\n",
       "      <td>2</td>\n",
       "      <td>1</td>\n",
       "      <td>1</td>\n",
       "    </tr>\n",
       "    <tr>\n",
       "      <th>1</th>\n",
       "      <td>2</td>\n",
       "      <td>0</td>\n",
       "      <td>feminino</td>\n",
       "      <td>34</td>\n",
       "      <td>2</td>\n",
       "      <td>2</td>\n",
       "      <td>1</td>\n",
       "      <td>1</td>\n",
       "    </tr>\n",
       "    <tr>\n",
       "      <th>2</th>\n",
       "      <td>3</td>\n",
       "      <td>0</td>\n",
       "      <td>masculino</td>\n",
       "      <td>34</td>\n",
       "      <td>3</td>\n",
       "      <td>2</td>\n",
       "      <td>4</td>\n",
       "      <td>2</td>\n",
       "    </tr>\n",
       "    <tr>\n",
       "      <th>3</th>\n",
       "      <td>4</td>\n",
       "      <td>0</td>\n",
       "      <td>feminino</td>\n",
       "      <td>34</td>\n",
       "      <td>4</td>\n",
       "      <td>3</td>\n",
       "      <td>3</td>\n",
       "      <td>3</td>\n",
       "    </tr>\n",
       "    <tr>\n",
       "      <th>4</th>\n",
       "      <td>5</td>\n",
       "      <td>0</td>\n",
       "      <td>feminino</td>\n",
       "      <td>34</td>\n",
       "      <td>4</td>\n",
       "      <td>3</td>\n",
       "      <td>1</td>\n",
       "      <td>4</td>\n",
       "    </tr>\n",
       "  </tbody>\n",
       "</table>\n",
       "</div>"
      ],
      "text/plain": [
       "  id  fidelidade       sexo  idade atendimento sortimento acessibilidade preço\n",
       "0  1           0   feminino     34           2          2              1     1\n",
       "1  2           0   feminino     34           2          2              1     1\n",
       "2  3           0  masculino     34           3          2              4     2\n",
       "3  4           0   feminino     34           4          3              3     3\n",
       "4  5           0   feminino     34           4          3              1     4"
      ]
     },
     "execution_count": 19,
     "metadata": {},
     "output_type": "execute_result"
    }
   ],
   "source": [
    "# Transformando a variável Y para 0 e 1 e para o tipo 'int' (poderia também\n",
    "#ser do tipo 'float'), a fim de que seja possível estimar o modelo por meio\n",
    "#da função 'sm.Logit.from_formula'\n",
    "df_fidelidade.loc[df_fidelidade['fidelidade']=='sim', 'fidelidade'] = 1\n",
    "df_fidelidade.loc[df_fidelidade['fidelidade']=='nao', 'fidelidade'] = 0\n",
    "\n",
    "df_fidelidade['fidelidade'] = df_fidelidade['fidelidade'].astype('int64')\n",
    "\n",
    "df_fidelidade.head()"
   ]
  },
  {
   "cell_type": "markdown",
   "metadata": {},
   "source": [
    "### Dummizando as variáveis 'atendimento', 'sortimento', 'acessibilidade', 'preço' e 'sexo'. O código abaixo, automaticamente, fará:\n",
    "- a) a dummização das variáveis originais;\n",
    "- b) a remoção das variáveis dummizadas originais;\n",
    "- c) a definição das categorias de label 1 de cada variável original como categorias de referência, por meio do argumento `drop_first=True`. A categoria de referência estará no alfa, ou seja, sexo de referência estará com quem deu nota de sortimento 1, acessibilidade 1, preço 1 e atendimento 1."
   ]
  },
  {
   "cell_type": "code",
   "execution_count": 20,
   "metadata": {},
   "outputs": [
    {
     "data": {
      "text/html": [
       "<div>\n",
       "<style scoped>\n",
       "    .dataframe tbody tr th:only-of-type {\n",
       "        vertical-align: middle;\n",
       "    }\n",
       "\n",
       "    .dataframe tbody tr th {\n",
       "        vertical-align: top;\n",
       "    }\n",
       "\n",
       "    .dataframe thead th {\n",
       "        text-align: right;\n",
       "    }\n",
       "</style>\n",
       "<table border=\"1\" class=\"dataframe\">\n",
       "  <thead>\n",
       "    <tr style=\"text-align: right;\">\n",
       "      <th></th>\n",
       "      <th>id</th>\n",
       "      <th>fidelidade</th>\n",
       "      <th>idade</th>\n",
       "      <th>atendimento_2</th>\n",
       "      <th>atendimento_3</th>\n",
       "      <th>atendimento_4</th>\n",
       "      <th>atendimento_5</th>\n",
       "      <th>sortimento_2</th>\n",
       "      <th>sortimento_3</th>\n",
       "      <th>sortimento_4</th>\n",
       "      <th>sortimento_5</th>\n",
       "      <th>acessibilidade_2</th>\n",
       "      <th>acessibilidade_3</th>\n",
       "      <th>acessibilidade_4</th>\n",
       "      <th>acessibilidade_5</th>\n",
       "      <th>preço_2</th>\n",
       "      <th>preço_3</th>\n",
       "      <th>preço_4</th>\n",
       "      <th>preço_5</th>\n",
       "      <th>sexo_masculino</th>\n",
       "    </tr>\n",
       "  </thead>\n",
       "  <tbody>\n",
       "    <tr>\n",
       "      <th>0</th>\n",
       "      <td>1</td>\n",
       "      <td>0</td>\n",
       "      <td>34</td>\n",
       "      <td>1</td>\n",
       "      <td>0</td>\n",
       "      <td>0</td>\n",
       "      <td>0</td>\n",
       "      <td>1</td>\n",
       "      <td>0</td>\n",
       "      <td>0</td>\n",
       "      <td>0</td>\n",
       "      <td>0</td>\n",
       "      <td>0</td>\n",
       "      <td>0</td>\n",
       "      <td>0</td>\n",
       "      <td>0</td>\n",
       "      <td>0</td>\n",
       "      <td>0</td>\n",
       "      <td>0</td>\n",
       "      <td>0</td>\n",
       "    </tr>\n",
       "    <tr>\n",
       "      <th>1</th>\n",
       "      <td>2</td>\n",
       "      <td>0</td>\n",
       "      <td>34</td>\n",
       "      <td>1</td>\n",
       "      <td>0</td>\n",
       "      <td>0</td>\n",
       "      <td>0</td>\n",
       "      <td>1</td>\n",
       "      <td>0</td>\n",
       "      <td>0</td>\n",
       "      <td>0</td>\n",
       "      <td>0</td>\n",
       "      <td>0</td>\n",
       "      <td>0</td>\n",
       "      <td>0</td>\n",
       "      <td>0</td>\n",
       "      <td>0</td>\n",
       "      <td>0</td>\n",
       "      <td>0</td>\n",
       "      <td>0</td>\n",
       "    </tr>\n",
       "    <tr>\n",
       "      <th>2</th>\n",
       "      <td>3</td>\n",
       "      <td>0</td>\n",
       "      <td>34</td>\n",
       "      <td>0</td>\n",
       "      <td>1</td>\n",
       "      <td>0</td>\n",
       "      <td>0</td>\n",
       "      <td>1</td>\n",
       "      <td>0</td>\n",
       "      <td>0</td>\n",
       "      <td>0</td>\n",
       "      <td>0</td>\n",
       "      <td>0</td>\n",
       "      <td>1</td>\n",
       "      <td>0</td>\n",
       "      <td>1</td>\n",
       "      <td>0</td>\n",
       "      <td>0</td>\n",
       "      <td>0</td>\n",
       "      <td>1</td>\n",
       "    </tr>\n",
       "    <tr>\n",
       "      <th>3</th>\n",
       "      <td>4</td>\n",
       "      <td>0</td>\n",
       "      <td>34</td>\n",
       "      <td>0</td>\n",
       "      <td>0</td>\n",
       "      <td>1</td>\n",
       "      <td>0</td>\n",
       "      <td>0</td>\n",
       "      <td>1</td>\n",
       "      <td>0</td>\n",
       "      <td>0</td>\n",
       "      <td>0</td>\n",
       "      <td>1</td>\n",
       "      <td>0</td>\n",
       "      <td>0</td>\n",
       "      <td>0</td>\n",
       "      <td>1</td>\n",
       "      <td>0</td>\n",
       "      <td>0</td>\n",
       "      <td>0</td>\n",
       "    </tr>\n",
       "    <tr>\n",
       "      <th>4</th>\n",
       "      <td>5</td>\n",
       "      <td>0</td>\n",
       "      <td>34</td>\n",
       "      <td>0</td>\n",
       "      <td>0</td>\n",
       "      <td>1</td>\n",
       "      <td>0</td>\n",
       "      <td>0</td>\n",
       "      <td>1</td>\n",
       "      <td>0</td>\n",
       "      <td>0</td>\n",
       "      <td>0</td>\n",
       "      <td>0</td>\n",
       "      <td>0</td>\n",
       "      <td>0</td>\n",
       "      <td>0</td>\n",
       "      <td>0</td>\n",
       "      <td>1</td>\n",
       "      <td>0</td>\n",
       "      <td>0</td>\n",
       "    </tr>\n",
       "  </tbody>\n",
       "</table>\n",
       "</div>"
      ],
      "text/plain": [
       "  id  fidelidade  idade  atendimento_2  atendimento_3  atendimento_4  \\\n",
       "0  1           0     34              1              0              0   \n",
       "1  2           0     34              1              0              0   \n",
       "2  3           0     34              0              1              0   \n",
       "3  4           0     34              0              0              1   \n",
       "4  5           0     34              0              0              1   \n",
       "\n",
       "   atendimento_5  sortimento_2  sortimento_3  sortimento_4  sortimento_5  \\\n",
       "0              0             1             0             0             0   \n",
       "1              0             1             0             0             0   \n",
       "2              0             1             0             0             0   \n",
       "3              0             0             1             0             0   \n",
       "4              0             0             1             0             0   \n",
       "\n",
       "   acessibilidade_2  acessibilidade_3  acessibilidade_4  acessibilidade_5  \\\n",
       "0                 0                 0                 0                 0   \n",
       "1                 0                 0                 0                 0   \n",
       "2                 0                 0                 1                 0   \n",
       "3                 0                 1                 0                 0   \n",
       "4                 0                 0                 0                 0   \n",
       "\n",
       "   preço_2  preço_3  preço_4  preço_5  sexo_masculino  \n",
       "0        0        0        0        0               0  \n",
       "1        0        0        0        0               0  \n",
       "2        1        0        0        0               1  \n",
       "3        0        1        0        0               0  \n",
       "4        0        0        1        0               0  "
      ]
     },
     "execution_count": 20,
     "metadata": {},
     "output_type": "execute_result"
    }
   ],
   "source": [
    "df_fidelidade_dummies = pd.get_dummies(df_fidelidade,\n",
    "                                       columns=['atendimento',\n",
    "                                                'sortimento',\n",
    "                                                'acessibilidade',\n",
    "                                                'preço',\n",
    "                                                'sexo'],\n",
    "                                       dtype=int,\n",
    "                                       drop_first=True)\n",
    "\n",
    "df_fidelidade_dummies.head()"
   ]
  },
  {
   "cell_type": "markdown",
   "metadata": {},
   "source": [
    "### Estimação do modelo logístico binário"
   ]
  },
  {
   "cell_type": "code",
   "execution_count": 21,
   "metadata": {},
   "outputs": [
    {
     "name": "stdout",
     "output_type": "stream",
     "text": [
      "Fórmula utilizada:  fidelidade ~ idade + atendimento_2 + atendimento_3 + atendimento_4 + atendimento_5 + sortimento_2 + sortimento_3 + sortimento_4 + sortimento_5 + acessibilidade_2 + acessibilidade_3 + acessibilidade_4 + acessibilidade_5 + preço_2 + preço_3 + preço_4 + preço_5 + sexo_masculino\n"
     ]
    }
   ],
   "source": [
    "# Sugestão de uso neste caso, dada a existência de muitas dummies no dataframe\n",
    "# Definição da fórmula utilizada no modelo\n",
    "lista_colunas = list(df_fidelidade_dummies.drop(columns=['id',\n",
    "                                                         'fidelidade']).columns)\n",
    "formula_dummies_modelo = ' + '.join(lista_colunas)\n",
    "formula_dummies_modelo = \"fidelidade ~ \" + formula_dummies_modelo\n",
    "print(\"Fórmula utilizada: \",formula_dummies_modelo)"
   ]
  },
  {
   "cell_type": "code",
   "execution_count": 22,
   "metadata": {},
   "outputs": [
    {
     "name": "stdout",
     "output_type": "stream",
     "text": [
      "Optimization terminated successfully.\n",
      "         Current function value: 0.257856\n",
      "         Iterations 9\n"
     ]
    },
    {
     "data": {
      "text/html": [
       "<table class=\"simpletable\">\n",
       "<caption>Logit Regression Results</caption>\n",
       "<tr>\n",
       "  <th>Dep. Variable:</th>      <td>fidelidade</td>    <th>  No. Observations:  </th>  <td>  3000</td> \n",
       "</tr>\n",
       "<tr>\n",
       "  <th>Model:</th>                 <td>Logit</td>      <th>  Df Residuals:      </th>  <td>  2981</td> \n",
       "</tr>\n",
       "<tr>\n",
       "  <th>Method:</th>                 <td>MLE</td>       <th>  Df Model:          </th>  <td>    18</td> \n",
       "</tr>\n",
       "<tr>\n",
       "  <th>Date:</th>            <td>Sun, 08 Sep 2024</td> <th>  Pseudo R-squ.:     </th>  <td>0.6241</td> \n",
       "</tr>\n",
       "<tr>\n",
       "  <th>Time:</th>                <td>16:32:03</td>     <th>  Log-Likelihood:    </th> <td> -773.57</td>\n",
       "</tr>\n",
       "<tr>\n",
       "  <th>converged:</th>             <td>True</td>       <th>  LL-Null:           </th> <td> -2057.8</td>\n",
       "</tr>\n",
       "<tr>\n",
       "  <th>Covariance Type:</th>     <td>nonrobust</td>    <th>  LLR p-value:       </th>  <td> 0.000</td> \n",
       "</tr>\n",
       "</table>\n",
       "<table class=\"simpletable\">\n",
       "<tr>\n",
       "          <td></td>            <th>coef</th>     <th>std err</th>      <th>z</th>      <th>P>|z|</th>  <th>[0.025</th>    <th>0.975]</th>  \n",
       "</tr>\n",
       "<tr>\n",
       "  <th>Intercept</th>        <td>  -68.9866</td> <td>    6.055</td> <td>  -11.394</td> <td> 0.000</td> <td>  -80.854</td> <td>  -57.120</td>\n",
       "</tr>\n",
       "<tr>\n",
       "  <th>idade</th>            <td>    1.6870</td> <td>    0.176</td> <td>    9.561</td> <td> 0.000</td> <td>    1.341</td> <td>    2.033</td>\n",
       "</tr>\n",
       "<tr>\n",
       "  <th>atendimento_2</th>    <td>    1.6808</td> <td>    0.336</td> <td>    5.004</td> <td> 0.000</td> <td>    1.023</td> <td>    2.339</td>\n",
       "</tr>\n",
       "<tr>\n",
       "  <th>atendimento_3</th>    <td>    1.8172</td> <td>    0.342</td> <td>    5.321</td> <td> 0.000</td> <td>    1.148</td> <td>    2.487</td>\n",
       "</tr>\n",
       "<tr>\n",
       "  <th>atendimento_4</th>    <td>    3.3168</td> <td>    0.311</td> <td>   10.651</td> <td> 0.000</td> <td>    2.706</td> <td>    3.927</td>\n",
       "</tr>\n",
       "<tr>\n",
       "  <th>atendimento_5</th>    <td>    4.3119</td> <td>    0.432</td> <td>    9.977</td> <td> 0.000</td> <td>    3.465</td> <td>    5.159</td>\n",
       "</tr>\n",
       "<tr>\n",
       "  <th>sortimento_2</th>     <td>    1.8503</td> <td>    0.396</td> <td>    4.671</td> <td> 0.000</td> <td>    1.074</td> <td>    2.627</td>\n",
       "</tr>\n",
       "<tr>\n",
       "  <th>sortimento_3</th>     <td>    2.0511</td> <td>    0.321</td> <td>    6.389</td> <td> 0.000</td> <td>    1.422</td> <td>    2.680</td>\n",
       "</tr>\n",
       "<tr>\n",
       "  <th>sortimento_4</th>     <td>    3.3290</td> <td>    0.320</td> <td>   10.388</td> <td> 0.000</td> <td>    2.701</td> <td>    3.957</td>\n",
       "</tr>\n",
       "<tr>\n",
       "  <th>sortimento_5</th>     <td>    5.9365</td> <td>    0.402</td> <td>   14.755</td> <td> 0.000</td> <td>    5.148</td> <td>    6.725</td>\n",
       "</tr>\n",
       "<tr>\n",
       "  <th>acessibilidade_2</th> <td>    2.3475</td> <td>    0.446</td> <td>    5.258</td> <td> 0.000</td> <td>    1.473</td> <td>    3.223</td>\n",
       "</tr>\n",
       "<tr>\n",
       "  <th>acessibilidade_3</th> <td>    2.9229</td> <td>    0.281</td> <td>   10.404</td> <td> 0.000</td> <td>    2.372</td> <td>    3.474</td>\n",
       "</tr>\n",
       "<tr>\n",
       "  <th>acessibilidade_4</th> <td>    4.2907</td> <td>    2.123</td> <td>    2.021</td> <td> 0.043</td> <td>    0.130</td> <td>    8.451</td>\n",
       "</tr>\n",
       "<tr>\n",
       "  <th>acessibilidade_5</th> <td>    5.3662</td> <td>    0.376</td> <td>   14.260</td> <td> 0.000</td> <td>    4.629</td> <td>    6.104</td>\n",
       "</tr>\n",
       "<tr>\n",
       "  <th>preço_2</th>          <td>    0.5706</td> <td>    2.122</td> <td>    0.269</td> <td> 0.788</td> <td>   -3.589</td> <td>    4.730</td>\n",
       "</tr>\n",
       "<tr>\n",
       "  <th>preço_3</th>          <td>    2.9216</td> <td>    0.390</td> <td>    7.486</td> <td> 0.000</td> <td>    2.157</td> <td>    3.687</td>\n",
       "</tr>\n",
       "<tr>\n",
       "  <th>preço_4</th>          <td>    3.0393</td> <td>    0.416</td> <td>    7.314</td> <td> 0.000</td> <td>    2.225</td> <td>    3.854</td>\n",
       "</tr>\n",
       "<tr>\n",
       "  <th>preço_5</th>          <td>    3.9142</td> <td>    0.442</td> <td>    8.849</td> <td> 0.000</td> <td>    3.047</td> <td>    4.781</td>\n",
       "</tr>\n",
       "<tr>\n",
       "  <th>sexo_masculino</th>   <td>    1.7695</td> <td>    0.197</td> <td>    8.962</td> <td> 0.000</td> <td>    1.383</td> <td>    2.157</td>\n",
       "</tr>\n",
       "</table>"
      ],
      "text/latex": [
       "\\begin{center}\n",
       "\\begin{tabular}{lclc}\n",
       "\\toprule\n",
       "\\textbf{Dep. Variable:}    &    fidelidade    & \\textbf{  No. Observations:  } &     3000    \\\\\n",
       "\\textbf{Model:}            &      Logit       & \\textbf{  Df Residuals:      } &     2981    \\\\\n",
       "\\textbf{Method:}           &       MLE        & \\textbf{  Df Model:          } &       18    \\\\\n",
       "\\textbf{Date:}             & Sun, 08 Sep 2024 & \\textbf{  Pseudo R-squ.:     } &   0.6241    \\\\\n",
       "\\textbf{Time:}             &     16:32:03     & \\textbf{  Log-Likelihood:    } &   -773.57   \\\\\n",
       "\\textbf{converged:}        &       True       & \\textbf{  LL-Null:           } &   -2057.8   \\\\\n",
       "\\textbf{Covariance Type:}  &    nonrobust     & \\textbf{  LLR p-value:       } &    0.000    \\\\\n",
       "\\bottomrule\n",
       "\\end{tabular}\n",
       "\\begin{tabular}{lcccccc}\n",
       "                           & \\textbf{coef} & \\textbf{std err} & \\textbf{z} & \\textbf{P$> |$z$|$} & \\textbf{[0.025} & \\textbf{0.975]}  \\\\\n",
       "\\midrule\n",
       "\\textbf{Intercept}         &     -68.9866  &        6.055     &   -11.394  &         0.000        &      -80.854    &      -57.120     \\\\\n",
       "\\textbf{idade}             &       1.6870  &        0.176     &     9.561  &         0.000        &        1.341    &        2.033     \\\\\n",
       "\\textbf{atendimento\\_2}    &       1.6808  &        0.336     &     5.004  &         0.000        &        1.023    &        2.339     \\\\\n",
       "\\textbf{atendimento\\_3}    &       1.8172  &        0.342     &     5.321  &         0.000        &        1.148    &        2.487     \\\\\n",
       "\\textbf{atendimento\\_4}    &       3.3168  &        0.311     &    10.651  &         0.000        &        2.706    &        3.927     \\\\\n",
       "\\textbf{atendimento\\_5}    &       4.3119  &        0.432     &     9.977  &         0.000        &        3.465    &        5.159     \\\\\n",
       "\\textbf{sortimento\\_2}     &       1.8503  &        0.396     &     4.671  &         0.000        &        1.074    &        2.627     \\\\\n",
       "\\textbf{sortimento\\_3}     &       2.0511  &        0.321     &     6.389  &         0.000        &        1.422    &        2.680     \\\\\n",
       "\\textbf{sortimento\\_4}     &       3.3290  &        0.320     &    10.388  &         0.000        &        2.701    &        3.957     \\\\\n",
       "\\textbf{sortimento\\_5}     &       5.9365  &        0.402     &    14.755  &         0.000        &        5.148    &        6.725     \\\\\n",
       "\\textbf{acessibilidade\\_2} &       2.3475  &        0.446     &     5.258  &         0.000        &        1.473    &        3.223     \\\\\n",
       "\\textbf{acessibilidade\\_3} &       2.9229  &        0.281     &    10.404  &         0.000        &        2.372    &        3.474     \\\\\n",
       "\\textbf{acessibilidade\\_4} &       4.2907  &        2.123     &     2.021  &         0.043        &        0.130    &        8.451     \\\\\n",
       "\\textbf{acessibilidade\\_5} &       5.3662  &        0.376     &    14.260  &         0.000        &        4.629    &        6.104     \\\\\n",
       "\\textbf{preço\\_2}          &       0.5706  &        2.122     &     0.269  &         0.788        &       -3.589    &        4.730     \\\\\n",
       "\\textbf{preço\\_3}          &       2.9216  &        0.390     &     7.486  &         0.000        &        2.157    &        3.687     \\\\\n",
       "\\textbf{preço\\_4}          &       3.0393  &        0.416     &     7.314  &         0.000        &        2.225    &        3.854     \\\\\n",
       "\\textbf{preço\\_5}          &       3.9142  &        0.442     &     8.849  &         0.000        &        3.047    &        4.781     \\\\\n",
       "\\textbf{sexo\\_masculino}   &       1.7695  &        0.197     &     8.962  &         0.000        &        1.383    &        2.157     \\\\\n",
       "\\bottomrule\n",
       "\\end{tabular}\n",
       "%\\caption{Logit Regression Results}\n",
       "\\end{center}"
      ],
      "text/plain": [
       "<class 'statsmodels.iolib.summary.Summary'>\n",
       "\"\"\"\n",
       "                           Logit Regression Results                           \n",
       "==============================================================================\n",
       "Dep. Variable:             fidelidade   No. Observations:                 3000\n",
       "Model:                          Logit   Df Residuals:                     2981\n",
       "Method:                           MLE   Df Model:                           18\n",
       "Date:                Sun, 08 Sep 2024   Pseudo R-squ.:                  0.6241\n",
       "Time:                        16:32:03   Log-Likelihood:                -773.57\n",
       "converged:                       True   LL-Null:                       -2057.8\n",
       "Covariance Type:            nonrobust   LLR p-value:                     0.000\n",
       "====================================================================================\n",
       "                       coef    std err          z      P>|z|      [0.025      0.975]\n",
       "------------------------------------------------------------------------------------\n",
       "Intercept          -68.9866      6.055    -11.394      0.000     -80.854     -57.120\n",
       "idade                1.6870      0.176      9.561      0.000       1.341       2.033\n",
       "atendimento_2        1.6808      0.336      5.004      0.000       1.023       2.339\n",
       "atendimento_3        1.8172      0.342      5.321      0.000       1.148       2.487\n",
       "atendimento_4        3.3168      0.311     10.651      0.000       2.706       3.927\n",
       "atendimento_5        4.3119      0.432      9.977      0.000       3.465       5.159\n",
       "sortimento_2         1.8503      0.396      4.671      0.000       1.074       2.627\n",
       "sortimento_3         2.0511      0.321      6.389      0.000       1.422       2.680\n",
       "sortimento_4         3.3290      0.320     10.388      0.000       2.701       3.957\n",
       "sortimento_5         5.9365      0.402     14.755      0.000       5.148       6.725\n",
       "acessibilidade_2     2.3475      0.446      5.258      0.000       1.473       3.223\n",
       "acessibilidade_3     2.9229      0.281     10.404      0.000       2.372       3.474\n",
       "acessibilidade_4     4.2907      2.123      2.021      0.043       0.130       8.451\n",
       "acessibilidade_5     5.3662      0.376     14.260      0.000       4.629       6.104\n",
       "preço_2              0.5706      2.122      0.269      0.788      -3.589       4.730\n",
       "preço_3              2.9216      0.390      7.486      0.000       2.157       3.687\n",
       "preço_4              3.0393      0.416      7.314      0.000       2.225       3.854\n",
       "preço_5              3.9142      0.442      8.849      0.000       3.047       4.781\n",
       "sexo_masculino       1.7695      0.197      8.962      0.000       1.383       2.157\n",
       "====================================================================================\n",
       "\"\"\""
      ]
     },
     "execution_count": 22,
     "metadata": {},
     "output_type": "execute_result"
    }
   ],
   "source": [
    "# Modelo propriamente dito\n",
    "modelo_fidelidade = sm.Logit.from_formula(formula_dummies_modelo,\n",
    "                                               df_fidelidade_dummies).fit()\n",
    "\n",
    "# Parâmetros do 'modelo_fidelidade'\n",
    "modelo_fidelidade.summary()"
   ]
  },
  {
   "cell_type": "markdown",
   "metadata": {},
   "source": [
    "Interessante como dentro do `atendimento` os betas vão crescendo.\n",
    "\n",
    "O mesmo para `preço`. De outra maneira, talvez não seria possível identificar isso."
   ]
  },
  {
   "cell_type": "markdown",
   "metadata": {},
   "source": [
    "### Procedimento Stepwise"
   ]
  },
  {
   "cell_type": "code",
   "execution_count": 23,
   "metadata": {},
   "outputs": [
    {
     "name": "stdout",
     "output_type": "stream",
     "text": [
      "Regression type: Logit \n",
      "\n",
      "Estimating model...: \n",
      " fidelidade ~ Q('idade') + Q('atendimento_2') + Q('atendimento_3') + Q('atendimento_4') + Q('atendimento_5') + Q('sortimento_2') + Q('sortimento_3') + Q('sortimento_4') + Q('sortimento_5') + Q('acessibilidade_2') + Q('acessibilidade_3') + Q('acessibilidade_4') + Q('acessibilidade_5') + Q('preço_2') + Q('preço_3') + Q('preço_4') + Q('preço_5') + Q('sexo_masculino')\n",
      "Optimization terminated successfully.\n",
      "         Current function value: 0.257856\n",
      "         Iterations 9\n",
      "\n",
      " Discarding atribute \"Q('preço_2')\" with p-value equal to 0.7880570577805387 \n",
      "\n",
      "Estimating model...: \n",
      " fidelidade ~ Q('idade') + Q('atendimento_2') + Q('atendimento_3') + Q('atendimento_4') + Q('atendimento_5') + Q('sortimento_2') + Q('sortimento_3') + Q('sortimento_4') + Q('sortimento_5') + Q('acessibilidade_2') + Q('acessibilidade_3') + Q('acessibilidade_4') + Q('acessibilidade_5') + Q('preço_3') + Q('preço_4') + Q('preço_5') + Q('sexo_masculino')\n",
      "Optimization terminated successfully.\n",
      "         Current function value: 0.257868\n",
      "         Iterations 9\n",
      "\n",
      " No more atributes with p-value higher than 0.05\n",
      "\n",
      " Atributes discarded on the process...: \n",
      "\n",
      "{'atribute': \"Q('preço_2')\", 'p-value': np.float64(0.7880570577805387)}\n",
      "\n",
      " Model after stepwise process...: \n",
      " fidelidade ~ Q('idade') + Q('atendimento_2') + Q('atendimento_3') + Q('atendimento_4') + Q('atendimento_5') + Q('sortimento_2') + Q('sortimento_3') + Q('sortimento_4') + Q('sortimento_5') + Q('acessibilidade_2') + Q('acessibilidade_3') + Q('acessibilidade_4') + Q('acessibilidade_5') + Q('preço_3') + Q('preço_4') + Q('preço_5') + Q('sexo_masculino') \n",
      "\n",
      "                           Logit Regression Results                           \n",
      "==============================================================================\n",
      "Dep. Variable:             fidelidade   No. Observations:                 3000\n",
      "Model:                          Logit   Df Residuals:                     2982\n",
      "Method:                           MLE   Df Model:                           17\n",
      "Date:                Sun, 08 Sep 2024   Pseudo R-squ.:                  0.6241\n",
      "Time:                        16:33:22   Log-Likelihood:                -773.60\n",
      "converged:                       True   LL-Null:                       -2057.8\n",
      "Covariance Type:            nonrobust   LLR p-value:                     0.000\n",
      "=========================================================================================\n",
      "                            coef    std err          z      P>|z|      [0.025      0.975]\n",
      "-----------------------------------------------------------------------------------------\n",
      "Intercept               -69.0298      6.054    -11.403      0.000     -80.895     -57.165\n",
      "Q('idade')                1.6882      0.176      9.568      0.000       1.342       2.034\n",
      "Q('atendimento_2')        1.6844      0.336      5.020      0.000       1.027       2.342\n",
      "Q('atendimento_3')        1.8205      0.341      5.336      0.000       1.152       2.489\n",
      "Q('atendimento_4')        3.3242      0.310     10.733      0.000       2.717       3.931\n",
      "Q('atendimento_5')        4.3254      0.428     10.098      0.000       3.486       5.165\n",
      "Q('sortimento_2')         1.8611      0.394      4.728      0.000       1.090       2.633\n",
      "Q('sortimento_3')         2.0583      0.320      6.437      0.000       1.432       2.685\n",
      "Q('sortimento_4')         3.3354      0.320     10.439      0.000       2.709       3.962\n",
      "Q('sortimento_5')         5.9451      0.401     14.833      0.000       5.160       6.731\n",
      "Q('acessibilidade_2')     2.3503      0.446      5.264      0.000       1.475       3.225\n",
      "Q('acessibilidade_3')     2.9205      0.281     10.396      0.000       2.370       3.471\n",
      "Q('acessibilidade_4')     4.8473      0.503      9.628      0.000       3.861       5.834\n",
      "Q('acessibilidade_5')     5.3625      0.376     14.261      0.000       4.626       6.099\n",
      "Q('preço_3')              2.9159      0.390      7.474      0.000       2.151       3.681\n",
      "Q('preço_4')              3.0357      0.415      7.307      0.000       2.221       3.850\n",
      "Q('preço_5')              3.9094      0.442      8.839      0.000       3.043       4.776\n",
      "Q('sexo_masculino')       1.7669      0.197      8.956      0.000       1.380       2.154\n",
      "=========================================================================================\n"
     ]
    }
   ],
   "source": [
    "# Carregamento da função 'stepwise' do pacote 'statstests.process'\n",
    "# Autores do pacote: Luiz Paulo Fávero e Helder Prado Santos\n",
    "# https://stats-tests.github.io/statstests/\n",
    "\n",
    "from statstests.process import stepwise\n",
    "\n",
    "#Estimação do modelo por meio do procedimento Stepwise\n",
    "step_modelo_fidelidade = stepwise(modelo_fidelidade, pvalue_limit=0.05)\n"
   ]
  },
  {
   "cell_type": "markdown",
   "metadata": {},
   "source": [
    "### Construção de função para a definição da matriz de confusão"
   ]
  },
  {
   "cell_type": "code",
   "execution_count": 24,
   "metadata": {},
   "outputs": [],
   "source": [
    "from sklearn.metrics import confusion_matrix, accuracy_score,\\\n",
    "    ConfusionMatrixDisplay, recall_score\n",
    "\n",
    "def matriz_confusao(predicts, observado, cutoff):\n",
    "    \n",
    "    values = predicts.values\n",
    "    \n",
    "    predicao_binaria = []\n",
    "        \n",
    "    for item in values:\n",
    "        if item < cutoff:\n",
    "            predicao_binaria.append(0)\n",
    "        else:\n",
    "            predicao_binaria.append(1)\n",
    "           \n",
    "    cm = confusion_matrix(predicao_binaria, observado)\n",
    "    disp = ConfusionMatrixDisplay(confusion_matrix=cm)\n",
    "    disp.plot()\n",
    "    plt.xlabel('True')\n",
    "    plt.ylabel('Classified')\n",
    "    plt.gca().invert_xaxis()\n",
    "    plt.gca().invert_yaxis()\n",
    "    plt.show()\n",
    "        \n",
    "    sensitividade = recall_score(observado, predicao_binaria, pos_label=1)\n",
    "    especificidade = recall_score(observado, predicao_binaria, pos_label=0)\n",
    "    acuracia = accuracy_score(observado, predicao_binaria)\n",
    "\n",
    "    #Visualizando os principais indicadores desta matriz de confusão\n",
    "    indicadores = pd.DataFrame({'Sensitividade':[sensitividade],\n",
    "                                'Especificidade':[especificidade],\n",
    "                                'Acurácia':[acuracia]})\n",
    "    return indicadores"
   ]
  },
  {
   "cell_type": "markdown",
   "metadata": {},
   "source": [
    "### Construção da matriz de confusão"
   ]
  },
  {
   "cell_type": "code",
   "execution_count": 25,
   "metadata": {},
   "outputs": [
    {
     "data": {
      "image/png": "[encoded data removed]",
      "text/plain": [
       "<Figure size 640x480 with 2 Axes>"
      ]
     },
     "metadata": {},
     "output_type": "display_data"
    },
    {
     "data": {
      "text/html": [
       "<div>\n",
       "<style scoped>\n",
       "    .dataframe tbody tr th:only-of-type {\n",
       "        vertical-align: middle;\n",
       "    }\n",
       "\n",
       "    .dataframe tbody tr th {\n",
       "        vertical-align: top;\n",
       "    }\n",
       "\n",
       "    .dataframe thead th {\n",
       "        text-align: right;\n",
       "    }\n",
       "</style>\n",
       "<table border=\"1\" class=\"dataframe\">\n",
       "  <thead>\n",
       "    <tr style=\"text-align: right;\">\n",
       "      <th></th>\n",
       "      <th>Sensitividade</th>\n",
       "      <th>Especificidade</th>\n",
       "      <th>Acurácia</th>\n",
       "    </tr>\n",
       "  </thead>\n",
       "  <tbody>\n",
       "    <tr>\n",
       "      <th>0</th>\n",
       "      <td>0.875</td>\n",
       "      <td>0.840909</td>\n",
       "      <td>0.86</td>\n",
       "    </tr>\n",
       "  </tbody>\n",
       "</table>\n",
       "</div>"
      ],
      "text/plain": [
       "   Sensitividade  Especificidade  Acurácia\n",
       "0          0.875        0.840909      0.86"
      ]
     },
     "execution_count": 25,
     "metadata": {},
     "output_type": "execute_result"
    }
   ],
   "source": [
    "# Adicionando os valores previstos de probabilidade na base de dados\n",
    "df_fidelidade_dummies['phat'] = step_modelo_fidelidade.predict()\n",
    "\n",
    "# Matriz de confusão para cutoff = 0.5\n",
    "matriz_confusao(observado=df_fidelidade_dummies['fidelidade'],\n",
    "                predicts=df_fidelidade_dummies['phat'],\n",
    "                cutoff=0.50)"
   ]
  },
  {
   "cell_type": "markdown",
   "metadata": {},
   "source": [
    "### Igualando critérios de especificidade e de sensitividade"
   ]
  },
  {
   "cell_type": "code",
   "execution_count": 26,
   "metadata": {},
   "outputs": [],
   "source": [
    "# Tentaremos estabelecer um critério que iguale a probabilidade de\n",
    "#acerto daqueles que chegarão atrasados (sensitividade) e a probabilidade de\n",
    "#acerto daqueles que não chegarão atrasados (especificidade).\n",
    "\n",
    "# ATENÇÃO: o que será feito a seguir possui fins didáticos, apenas. DE NENHUMA\n",
    "#FORMA o procedimento garante a maximização da acurácia do modelo!\n",
    "\n",
    "# Criação da função 'espec_sens' para a construção de um dataset com diferentes\n",
    "#valores de cutoff, sensitividade e especificidade:\n",
    "\n",
    "def espec_sens(observado,predicts):\n",
    "    \n",
    "    # adicionar objeto com os valores dos predicts\n",
    "    values = predicts.values\n",
    "    \n",
    "    # range dos cutoffs a serem analisados em steps de 0.01\n",
    "    cutoffs = np.arange(0,1.01,0.01)\n",
    "    \n",
    "    # Listas que receberão os resultados de especificidade e sensitividade\n",
    "    lista_sensitividade = []\n",
    "    lista_especificidade = []\n",
    "    \n",
    "    for cutoff in cutoffs:\n",
    "        \n",
    "        predicao_binaria = []\n",
    "        \n",
    "        # Definindo resultado binário de acordo com o predict\n",
    "        for item in values:\n",
    "            if item >= cutoff:\n",
    "                predicao_binaria.append(1)\n",
    "            else:\n",
    "                predicao_binaria.append(0)\n",
    "                \n",
    "        # Cálculo da sensitividade e especificidade no cutoff\n",
    "        sensitividade = recall_score(observado, predicao_binaria, pos_label=1)\n",
    "        especificidadee = recall_score(observado, predicao_binaria, pos_label=0)\n",
    "        \n",
    "        # Adicionar valores nas listas\n",
    "        lista_sensitividade.append(sensitividade)\n",
    "        lista_especificidade.append(especificidadee)\n",
    "        \n",
    "    # Criar dataframe com os resultados nos seus respectivos cutoffs\n",
    "    resultado = pd.DataFrame({'cutoffs':cutoffs,'sensitividade':lista_sensitividade,'especificidade':lista_especificidade})\n",
    "    return resultado"
   ]
  },
  {
   "cell_type": "code",
   "execution_count": 27,
   "metadata": {},
   "outputs": [
    {
     "data": {
      "text/html": [
       "<div>\n",
       "<style scoped>\n",
       "    .dataframe tbody tr th:only-of-type {\n",
       "        vertical-align: middle;\n",
       "    }\n",
       "\n",
       "    .dataframe tbody tr th {\n",
       "        vertical-align: top;\n",
       "    }\n",
       "\n",
       "    .dataframe thead th {\n",
       "        text-align: right;\n",
       "    }\n",
       "</style>\n",
       "<table border=\"1\" class=\"dataframe\">\n",
       "  <thead>\n",
       "    <tr style=\"text-align: right;\">\n",
       "      <th></th>\n",
       "      <th>cutoffs</th>\n",
       "      <th>sensitividade</th>\n",
       "      <th>especificidade</th>\n",
       "    </tr>\n",
       "  </thead>\n",
       "  <tbody>\n",
       "    <tr>\n",
       "      <th>0</th>\n",
       "      <td>0.00</td>\n",
       "      <td>1.0</td>\n",
       "      <td>0.000000</td>\n",
       "    </tr>\n",
       "    <tr>\n",
       "      <th>1</th>\n",
       "      <td>0.01</td>\n",
       "      <td>1.0</td>\n",
       "      <td>0.295455</td>\n",
       "    </tr>\n",
       "    <tr>\n",
       "      <th>2</th>\n",
       "      <td>0.02</td>\n",
       "      <td>1.0</td>\n",
       "      <td>0.318182</td>\n",
       "    </tr>\n",
       "    <tr>\n",
       "      <th>3</th>\n",
       "      <td>0.03</td>\n",
       "      <td>1.0</td>\n",
       "      <td>0.340909</td>\n",
       "    </tr>\n",
       "    <tr>\n",
       "      <th>4</th>\n",
       "      <td>0.04</td>\n",
       "      <td>1.0</td>\n",
       "      <td>0.386364</td>\n",
       "    </tr>\n",
       "  </tbody>\n",
       "</table>\n",
       "</div>"
      ],
      "text/plain": [
       "   cutoffs  sensitividade  especificidade\n",
       "0     0.00            1.0        0.000000\n",
       "1     0.01            1.0        0.295455\n",
       "2     0.02            1.0        0.318182\n",
       "3     0.03            1.0        0.340909\n",
       "4     0.04            1.0        0.386364"
      ]
     },
     "execution_count": 27,
     "metadata": {},
     "output_type": "execute_result"
    }
   ],
   "source": [
    "# In[3.10]: Até o momento, foram extraídos 3 vetores: 'sensitividade',\n",
    "#'especificidade' e 'cutoffs'. Assim, criamos um dataframe que contém\n",
    "#os vetores mencionados\n",
    "\n",
    "dados_plotagem = espec_sens(observado = df_fidelidade_dummies['fidelidade'],\n",
    "                            predicts = df_fidelidade_dummies['phat'])\n",
    "dados_plotagem.head()"
   ]
  },
  {
   "cell_type": "code",
   "execution_count": 28,
   "metadata": {},
   "outputs": [
    {
     "data": {
      "image/png": "[encoded data removed]",
      "text/plain": [
       "<Figure size 1500x1000 with 1 Axes>"
      ]
     },
     "metadata": {},
     "output_type": "display_data"
    }
   ],
   "source": [
    "# In[3.11]: Plotagem de um gráfico que mostra a variação da especificidade e da\n",
    "#sensitividade em função do cutoff\n",
    "\n",
    "plt.figure(figsize=(15,10))\n",
    "with plt.style.context('seaborn-v0_8-whitegrid'):\n",
    "    plt.plot(dados_plotagem.cutoffs,dados_plotagem.sensitividade, marker='o',\n",
    "         color='indigo', markersize=8)\n",
    "    plt.plot(dados_plotagem.cutoffs,dados_plotagem.especificidade, marker='o',\n",
    "         color='limegreen', markersize=8)\n",
    "plt.xlabel('Cuttoff', fontsize=20)\n",
    "plt.ylabel('Sensitividade / Especificidade', fontsize=20)\n",
    "plt.xticks(np.arange(0, 1.1, 0.2), fontsize=14)\n",
    "plt.yticks(np.arange(0, 1.1, 0.2), fontsize=14)\n",
    "plt.legend(['Sensitividade', 'Especificidade'], fontsize=20)\n",
    "plt.show()"
   ]
  },
  {
   "cell_type": "markdown",
   "metadata": {},
   "source": [
    "### Construção da curva ROC"
   ]
  },
  {
   "cell_type": "code",
   "execution_count": 29,
   "metadata": {},
   "outputs": [],
   "source": [
    "# Função 'roc_curve' do pacote 'metrics' do sklearn\n",
    "from sklearn.metrics import roc_curve, auc\n",
    "\n",
    "fpr, tpr, thresholds =roc_curve(df_fidelidade_dummies['fidelidade'],\n",
    "                                df_fidelidade_dummies['phat'])\n",
    "roc_auc = auc(fpr, tpr)"
   ]
  },
  {
   "cell_type": "code",
   "execution_count": 30,
   "metadata": {},
   "outputs": [],
   "source": [
    "# Cálculo do coeficiente de GINI\n",
    "gini = (roc_auc - 0.5)/(0.5)"
   ]
  },
  {
   "cell_type": "code",
   "execution_count": 31,
   "metadata": {},
   "outputs": [
    {
     "data": {
      "image/png": "[encoded data removed]",
      "text/plain": [
       "<Figure size 1500x1000 with 1 Axes>"
      ]
     },
     "metadata": {},
     "output_type": "display_data"
    }
   ],
   "source": [
    "# Plotando a curva ROC\n",
    "plt.figure(figsize=(15,10))\n",
    "plt.plot(fpr, tpr, marker='o', color='darkorchid', markersize=10, linewidth=3)\n",
    "plt.plot(fpr, fpr, color='gray', linestyle='dashed')\n",
    "plt.title('Área abaixo da curva: %g' % round(roc_auc, 4) +\n",
    "          ' | Coeficiente de GINI: %g' % round(gini, 4), fontsize=22)\n",
    "plt.xlabel('1 - Especificidade', fontsize=20)\n",
    "plt.ylabel('Sensitividade', fontsize=20)\n",
    "plt.xticks(np.arange(0, 1.1, 0.2), fontsize=14)\n",
    "plt.yticks(np.arange(0, 1.1, 0.2), fontsize=14)\n",
    "plt.show()"
   ]
  },
  {
   "cell_type": "markdown",
   "metadata": {},
   "source": [
    "### Modelo só com a variável preditora quanti `idade`, sem as dummies.\n",
    "Para verificar a contribuição das dummies"
   ]
  },
  {
   "cell_type": "code",
   "execution_count": 32,
   "metadata": {},
   "outputs": [
    {
     "name": "stdout",
     "output_type": "stream",
     "text": [
      "Optimization terminated successfully.\n",
      "         Current function value: 0.564498\n",
      "         Iterations 8\n"
     ]
    },
    {
     "data": {
      "text/html": [
       "<table class=\"simpletable\">\n",
       "<caption>Logit Regression Results</caption>\n",
       "<tr>\n",
       "  <th>Dep. Variable:</th>      <td>fidelidade</td>    <th>  No. Observations:  </th>   <td>  3000</td>  \n",
       "</tr>\n",
       "<tr>\n",
       "  <th>Model:</th>                 <td>Logit</td>      <th>  Df Residuals:      </th>   <td>  2998</td>  \n",
       "</tr>\n",
       "<tr>\n",
       "  <th>Method:</th>                 <td>MLE</td>       <th>  Df Model:          </th>   <td>     1</td>  \n",
       "</tr>\n",
       "<tr>\n",
       "  <th>Date:</th>            <td>Sun, 08 Sep 2024</td> <th>  Pseudo R-squ.:     </th>   <td>0.1770</td>  \n",
       "</tr>\n",
       "<tr>\n",
       "  <th>Time:</th>                <td>16:41:49</td>     <th>  Log-Likelihood:    </th>  <td> -1693.5</td> \n",
       "</tr>\n",
       "<tr>\n",
       "  <th>converged:</th>             <td>True</td>       <th>  LL-Null:           </th>  <td> -2057.8</td> \n",
       "</tr>\n",
       "<tr>\n",
       "  <th>Covariance Type:</th>     <td>nonrobust</td>    <th>  LLR p-value:       </th> <td>1.814e-160</td>\n",
       "</tr>\n",
       "</table>\n",
       "<table class=\"simpletable\">\n",
       "<tr>\n",
       "      <td></td>         <th>coef</th>     <th>std err</th>      <th>z</th>      <th>P>|z|</th>  <th>[0.025</th>    <th>0.975]</th>  \n",
       "</tr>\n",
       "<tr>\n",
       "  <th>Intercept</th> <td>  -54.9563</td> <td>    3.592</td> <td>  -15.299</td> <td> 0.000</td> <td>  -61.997</td> <td>  -47.916</td>\n",
       "</tr>\n",
       "<tr>\n",
       "  <th>idade</th>     <td>    1.6183</td> <td>    0.105</td> <td>   15.360</td> <td> 0.000</td> <td>    1.412</td> <td>    1.825</td>\n",
       "</tr>\n",
       "</table>"
      ],
      "text/latex": [
       "\\begin{center}\n",
       "\\begin{tabular}{lclc}\n",
       "\\toprule\n",
       "\\textbf{Dep. Variable:}   &    fidelidade    & \\textbf{  No. Observations:  } &     3000    \\\\\n",
       "\\textbf{Model:}           &      Logit       & \\textbf{  Df Residuals:      } &     2998    \\\\\n",
       "\\textbf{Method:}          &       MLE        & \\textbf{  Df Model:          } &        1    \\\\\n",
       "\\textbf{Date:}            & Sun, 08 Sep 2024 & \\textbf{  Pseudo R-squ.:     } &   0.1770    \\\\\n",
       "\\textbf{Time:}            &     16:41:49     & \\textbf{  Log-Likelihood:    } &   -1693.5   \\\\\n",
       "\\textbf{converged:}       &       True       & \\textbf{  LL-Null:           } &   -2057.8   \\\\\n",
       "\\textbf{Covariance Type:} &    nonrobust     & \\textbf{  LLR p-value:       } & 1.814e-160  \\\\\n",
       "\\bottomrule\n",
       "\\end{tabular}\n",
       "\\begin{tabular}{lcccccc}\n",
       "                   & \\textbf{coef} & \\textbf{std err} & \\textbf{z} & \\textbf{P$> |$z$|$} & \\textbf{[0.025} & \\textbf{0.975]}  \\\\\n",
       "\\midrule\n",
       "\\textbf{Intercept} &     -54.9563  &        3.592     &   -15.299  &         0.000        &      -61.997    &      -47.916     \\\\\n",
       "\\textbf{idade}     &       1.6183  &        0.105     &    15.360  &         0.000        &        1.412    &        1.825     \\\\\n",
       "\\bottomrule\n",
       "\\end{tabular}\n",
       "%\\caption{Logit Regression Results}\n",
       "\\end{center}"
      ],
      "text/plain": [
       "<class 'statsmodels.iolib.summary.Summary'>\n",
       "\"\"\"\n",
       "                           Logit Regression Results                           \n",
       "==============================================================================\n",
       "Dep. Variable:             fidelidade   No. Observations:                 3000\n",
       "Model:                          Logit   Df Residuals:                     2998\n",
       "Method:                           MLE   Df Model:                            1\n",
       "Date:                Sun, 08 Sep 2024   Pseudo R-squ.:                  0.1770\n",
       "Time:                        16:41:49   Log-Likelihood:                -1693.5\n",
       "converged:                       True   LL-Null:                       -2057.8\n",
       "Covariance Type:            nonrobust   LLR p-value:                1.814e-160\n",
       "==============================================================================\n",
       "                 coef    std err          z      P>|z|      [0.025      0.975]\n",
       "------------------------------------------------------------------------------\n",
       "Intercept    -54.9563      3.592    -15.299      0.000     -61.997     -47.916\n",
       "idade          1.6183      0.105     15.360      0.000       1.412       1.825\n",
       "==============================================================================\n",
       "\"\"\""
      ]
     },
     "execution_count": 32,
     "metadata": {},
     "output_type": "execute_result"
    }
   ],
   "source": [
    "modelo_idade = sm.Logit.from_formula('fidelidade ~ idade',\n",
    "                                    df_fidelidade).fit()\n",
    "\n",
    "# Parâmetros do 'modelo_fidelidade'\n",
    "modelo_idade.summary()"
   ]
  },
  {
   "cell_type": "code",
   "execution_count": 33,
   "metadata": {},
   "outputs": [
    {
     "data": {
      "text/plain": [
       "np.float64(-1693.4941234593948)"
      ]
     },
     "execution_count": 33,
     "metadata": {},
     "output_type": "execute_result"
    }
   ],
   "source": [
    "modelo_idade.llf"
   ]
  },
  {
   "cell_type": "code",
   "execution_count": 34,
   "metadata": {},
   "outputs": [],
   "source": [
    "df_fidelidade_dummies['phat2'] = modelo_idade.predict()"
   ]
  },
  {
   "cell_type": "code",
   "execution_count": 35,
   "metadata": {},
   "outputs": [],
   "source": [
    "fpr2, tpr2, thresholds =roc_curve(df_fidelidade_dummies['fidelidade'],\n",
    "                                df_fidelidade_dummies['phat2'])\n",
    "roc_auc2 = auc(fpr2, tpr2)"
   ]
  },
  {
   "cell_type": "code",
   "execution_count": 36,
   "metadata": {},
   "outputs": [],
   "source": [
    "# Cálculo do coeficiente de GINI\n",
    "gini2 = (roc_auc2 - 0.5)/(0.5)"
   ]
  },
  {
   "cell_type": "code",
   "execution_count": 39,
   "metadata": {},
   "outputs": [
    {
     "data": {
      "image/png": "[encoded data removed]",
      "text/plain": [
       "<Figure size 1500x1000 with 1 Axes>"
      ]
     },
     "metadata": {},
     "output_type": "display_data"
    }
   ],
   "source": [
    "# Plotando a curva ROC\n",
    "plt.figure(figsize=(15,10))\n",
    "plt.plot(fpr, tpr, marker='o', color='darkorchid', markersize=10, linewidth=3,\n",
    "         label=f'AUROC: {roc_auc:.4f} | GINI: {gini:.4f}')\n",
    "\n",
    "plt.plot(fpr2, tpr2, marker='o', color='orange', markersize=10, linewidth=3,\n",
    "         label=f'AUROC2: {roc_auc2:.4f} | GINI2: {gini2:.4f}',\n",
    "         linestyle='dashed')\n",
    "\n",
    "plt.plot(fpr, fpr, color='gray', linestyle='dashed')\n",
    "plt.title('Curvas ROC', fontsize=22)\n",
    "plt.xlabel('1 - Especificidade', fontsize=20)\n",
    "plt.ylabel('Sensitividade', fontsize=20)\n",
    "plt.xticks(np.arange(0, 1.1, 0.2), fontsize=14)\n",
    "plt.yticks(np.arange(0, 1.1, 0.2), fontsize=14)\n",
    "plt.legend(fontsize=18)\n",
    "plt.show()"
   ]
  },
  {
   "cell_type": "markdown",
   "metadata": {},
   "source": [
    "Olha que interessante. Para esse fenômeno, as dummies realmente trazem um incremento para o modelo. Neste caso, não é o volume da base, mas as próprias preditoras dummies fazem uma baita diferença."
   ]
  }
 ],
 "metadata": {
  "kernelspec": {
   "display_name": "usp_ds_analytics-M2oHMey2",
   "language": "python",
   "name": "python3"
  },
  "language_info": {
   "codemirror_mode": {
    "name": "ipython",
    "version": 3
   },
   "file_extension": ".py",
   "mimetype": "text/x-python",
   "name": "python",
   "nbconvert_exporter": "python",
   "pygments_lexer": "ipython3",
   "version": "3.11.5"
  }
 },
 "nbformat": 4,
 "nbformat_minor": 2
}

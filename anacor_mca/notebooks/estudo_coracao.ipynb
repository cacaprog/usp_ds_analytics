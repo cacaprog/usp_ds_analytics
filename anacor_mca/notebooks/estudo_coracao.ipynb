{
 "cells": [
  {
   "cell_type": "code",
   "execution_count": 1,
   "id": "16e9fd6d-f00a-4e33-b6d9-d41818f78b74",
   "metadata": {},
   "outputs": [],
   "source": [
    "# Importando os pacotes necessários\n",
    "\n",
    "import pandas as pd\n",
    "import numpy as np\n",
    "from scipy.stats import chi2_contingency\n",
    "import statsmodels.api as sm\n",
    "import seaborn as sns\n",
    "import matplotlib.pyplot as plt\n",
    "import prince\n",
    "import plotly.io as pio\n",
    "pio.renderers.default = 'browser'\n",
    "import plotly.graph_objects as go"
   ]
  },
  {
   "cell_type": "markdown",
   "id": "0faa308e-ecd6-41a8-babf-f676a06d62ff",
   "metadata": {},
   "source": [
    "### Análise de Correspondência Simples (ANACOR)"
   ]
  },
  {
   "cell_type": "code",
   "execution_count": 3,
   "id": "42ab1985-fed7-4345-81b6-0ce54e5f92ec",
   "metadata": {},
   "outputs": [],
   "source": [
    "# Importando o banco de dados\n",
    "gestao = pd.read_excel(\"/Users/administrador/Documents/usp_ds_analytics/usp_ds_analytics/anacor_mca/data//gestao_municipal.xlsx\")"
   ]
  },
  {
   "cell_type": "code",
   "execution_count": 4,
   "id": "780dfe3a-3835-4868-ac72-d7769c60c41d",
   "metadata": {},
   "outputs": [
    {
     "data": {
      "text/html": [
       "<div>\n",
       "<style scoped>\n",
       "    .dataframe tbody tr th:only-of-type {\n",
       "        vertical-align: middle;\n",
       "    }\n",
       "\n",
       "    .dataframe tbody tr th {\n",
       "        vertical-align: top;\n",
       "    }\n",
       "\n",
       "    .dataframe thead th {\n",
       "        text-align: right;\n",
       "    }\n",
       "</style>\n",
       "<table border=\"1\" class=\"dataframe\">\n",
       "  <thead>\n",
       "    <tr style=\"text-align: right;\">\n",
       "      <th></th>\n",
       "      <th>avaliacao</th>\n",
       "      <th>ano</th>\n",
       "    </tr>\n",
       "  </thead>\n",
       "  <tbody>\n",
       "    <tr>\n",
       "      <th>0</th>\n",
       "      <td>Concordo Totalmente</td>\n",
       "      <td>20X1</td>\n",
       "    </tr>\n",
       "    <tr>\n",
       "      <th>1</th>\n",
       "      <td>Concordo Totalmente</td>\n",
       "      <td>20X1</td>\n",
       "    </tr>\n",
       "    <tr>\n",
       "      <th>2</th>\n",
       "      <td>Concordo Totalmente</td>\n",
       "      <td>20X1</td>\n",
       "    </tr>\n",
       "    <tr>\n",
       "      <th>3</th>\n",
       "      <td>Concordo Parcialmente</td>\n",
       "      <td>20X1</td>\n",
       "    </tr>\n",
       "    <tr>\n",
       "      <th>4</th>\n",
       "      <td>Concordo Totalmente</td>\n",
       "      <td>20X1</td>\n",
       "    </tr>\n",
       "  </tbody>\n",
       "</table>\n",
       "</div>"
      ],
      "text/plain": [
       "               avaliacao   ano\n",
       "0    Concordo Totalmente  20X1\n",
       "1    Concordo Totalmente  20X1\n",
       "2    Concordo Totalmente  20X1\n",
       "3  Concordo Parcialmente  20X1\n",
       "4    Concordo Totalmente  20X1"
      ]
     },
     "execution_count": 4,
     "metadata": {},
     "output_type": "execute_result"
    }
   ],
   "source": [
    "gestao.head()"
   ]
  },
  {
   "cell_type": "markdown",
   "id": "2dd9011b-130a-4f0d-b22a-f353ef719a31",
   "metadata": {},
   "source": [
    "- Ao longo de 3 anos, foi aplicado questionário com a seguinte afirmação:\n",
    "- Estou satisfeito com a gestão do atual prefeito!\n",
    "- Respostas em escala likert de 5 pontos"
   ]
  },
  {
   "cell_type": "code",
   "execution_count": 6,
   "id": "301fb195-1153-4456-a71e-35631c00c8aa",
   "metadata": {},
   "outputs": [
    {
     "name": "stdout",
     "output_type": "stream",
     "text": [
      "<class 'pandas.core.frame.DataFrame'>\n",
      "RangeIndex: 9000 entries, 0 to 8999\n",
      "Data columns (total 2 columns):\n",
      " #   Column     Non-Null Count  Dtype \n",
      "---  ------     --------------  ----- \n",
      " 0   avaliacao  9000 non-null   object\n",
      " 1   ano        9000 non-null   object\n",
      "dtypes: object(2)\n",
      "memory usage: 140.8+ KB\n"
     ]
    }
   ],
   "source": [
    "gestao.info()"
   ]
  },
  {
   "cell_type": "code",
   "execution_count": 7,
   "id": "6d9931cf-a28f-4727-a013-c7686f80db77",
   "metadata": {},
   "outputs": [
    {
     "name": "stdout",
     "output_type": "stream",
     "text": [
      "avaliacao\n",
      "Nem Concordo, Nem Discordo    2970\n",
      "Concordo Parcialmente         2062\n",
      "Discordo Parcialmente         2004\n",
      "Discordo Totalmente            998\n",
      "Concordo Totalmente            966\n",
      "Name: count, dtype: int64\n",
      "ano\n",
      "20X1    3000\n",
      "20X2    3000\n",
      "20X3    3000\n",
      "Name: count, dtype: int64\n"
     ]
    }
   ],
   "source": [
    "# Informações descritivas sobre as variáveis\n",
    "\n",
    "print(gestao['avaliacao'].value_counts())\n",
    "print(gestao['ano'].value_counts())"
   ]
  },
  {
   "cell_type": "markdown",
   "id": "6088248b-b88c-4f51-93b2-80bdce22c7ff",
   "metadata": {},
   "source": [
    "### Houve algum padrão nesta avaliação ao longo dos anos?\n",
    "Tem alguma avaliação entre o ano e a resposta obtida na pesquisa?"
   ]
  },
  {
   "cell_type": "markdown",
   "id": "7b2d3953-f250-44ae-a0b5-69e5efa127b6",
   "metadata": {},
   "source": [
    "### Criando a tabela de contingência"
   ]
  },
  {
   "cell_type": "code",
   "execution_count": 8,
   "id": "652d735d-a730-45ed-adb3-8d1d22f368e6",
   "metadata": {},
   "outputs": [
    {
     "name": "stdout",
     "output_type": "stream",
     "text": [
      "ano                         20X1  20X2  20X3\n",
      "avaliacao                                   \n",
      "Concordo Parcialmente       1066   996     0\n",
      "Concordo Totalmente          966     0     0\n",
      "Discordo Parcialmente          1   998  1005\n",
      "Discordo Totalmente            0     1   997\n",
      "Nem Concordo, Nem Discordo   967  1005   998\n"
     ]
    }
   ],
   "source": [
    "tabela = pd.crosstab(gestao[\"avaliacao\"], gestao[\"ano\"])\n",
    "\n",
    "print(tabela)"
   ]
  },
  {
   "cell_type": "markdown",
   "id": "c6c1d117-00b7-4e4c-b79f-48b7400cab59",
   "metadata": {},
   "source": [
    "### Analisando a significância estatística da associação (teste qui²)"
   ]
  },
  {
   "cell_type": "code",
   "execution_count": 10,
   "id": "97ea038a-d1e9-4847-8b8e-9741b28640fd",
   "metadata": {},
   "outputs": [
    {
     "name": "stdout",
     "output_type": "stream",
     "text": [
      "estatística qui²: 5956.44\n",
      "p-valor da estatística: 0.0\n",
      "graus de liberdade: 8\n"
     ]
    }
   ],
   "source": [
    "teste_qui2 = chi2_contingency(tabela)\n",
    "\n",
    "print(f\"estatística qui²: {round(teste_qui2[0], 2)}\")\n",
    "print(f\"p-valor da estatística: {round(teste_qui2[1], 4)}\")\n",
    "print(f\"graus de liberdade: {teste_qui2[2]}\")"
   ]
  },
  {
   "cell_type": "markdown",
   "id": "00296fe2-e0c5-4fe8-be0b-5709ff55b16f",
   "metadata": {},
   "source": [
    "### Mapa de calor dos resíduos padronizados ajustados"
   ]
  },
  {
   "cell_type": "code",
   "execution_count": 15,
   "id": "1aa069f4-7194-4eab-9c9a-5dc10152e7b5",
   "metadata": {},
   "outputs": [],
   "source": [
    "# Tabela de contingência\n",
    "\n",
    "tab_cont = sm.stats.Table(tabela)\n",
    "\n",
    "# Resíduos padronizados ajustados\n",
    "maxz = np.max(tab_cont.standardized_resids)+0.1\n",
    "minz = np.min(tab_cont.standardized_resids)-0.1"
   ]
  },
  {
   "cell_type": "code",
   "execution_count": 14,
   "id": "e172ffcc-876e-4f61-8cba-ae97f57c64d0",
   "metadata": {},
   "outputs": [],
   "source": [
    "fig = go.Figure()\n",
    "\n",
    "colorscale = ['lightgreen' if i>1.96 else '#FAF9F6' for i in np.arange(minz,maxz,0.01)]\n",
    "\n",
    "fig.add_trace(\n",
    "    go.Heatmap(\n",
    "        x = tab_cont.standardized_resids.columns,\n",
    "        y = tab_cont.standardized_resids.index,\n",
    "        z = np.array(tab_cont.standardized_resids),\n",
    "        text=tab_cont.standardized_resids.values,\n",
    "        texttemplate='%{text:.2f}',\n",
    "        showscale=False,\n",
    "        colorscale=colorscale))\n",
    "\n",
    "fig.update_layout(\n",
    "    title='Resíduos Padronizados Ajustados',\n",
    "    height = 600,\n",
    "    width = 600)\n",
    "\n",
    "fig.show()"
   ]
  },
  {
   "cell_type": "markdown",
   "id": "2b586f77-47b4-4d82-a0e1-fba2c947d1f6",
   "metadata": {},
   "source": [
    "### Elaborando a ANACOR"
   ]
  },
  {
   "cell_type": "code",
   "execution_count": 16,
   "id": "52e2acff-9d42-4423-ad7f-67a9fca917b1",
   "metadata": {},
   "outputs": [
    {
     "name": "stdout",
     "output_type": "stream",
     "text": [
      "          eigenvalue % of variance % of variance (cumulative)\n",
      "component                                                    \n",
      "0              0.503        75.96%                     75.96%\n",
      "1              0.159        24.04%                    100.00%\n"
     ]
    }
   ],
   "source": [
    "ca = prince.CA().fit(tabela)\n",
    "\n",
    "# Obtendo os eigenvalues\n",
    "tabela_autovalores = ca.eigenvalues_summary\n",
    "\n",
    "print(tabela_autovalores) # São gerados 'm' autovalores: m = mín(I-1,J-1)"
   ]
  },
  {
   "cell_type": "markdown",
   "id": "38eb63e2-fbf6-450c-8deb-c92ceb3d71a8",
   "metadata": {},
   "source": [
    "### Obtendo a inércia principal total"
   ]
  },
  {
   "cell_type": "code",
   "execution_count": 17,
   "id": "d1627c73-3b18-4f53-8b62-2f636515b47f",
   "metadata": {},
   "outputs": [
    {
     "name": "stdout",
     "output_type": "stream",
     "text": [
      "0.6618261885878851\n"
     ]
    }
   ],
   "source": [
    "# É a soma dos eigenvalues (também é a divisão: estat. qui² / N)\n",
    "# Quanto maior a inércia principal total, maior é a associação entre categorias\n",
    "\n",
    "print(ca.total_inertia_)"
   ]
  },
  {
   "cell_type": "markdown",
   "id": "b3fe0039-7fef-4ce4-a62f-70503230352d",
   "metadata": {},
   "source": [
    "### Obtendo as coordenadas do mapa perceptual"
   ]
  },
  {
   "cell_type": "code",
   "execution_count": 18,
   "id": "63c53a18-3efc-4a96-8e31-edfe1e7a2547",
   "metadata": {},
   "outputs": [
    {
     "name": "stdout",
     "output_type": "stream",
     "text": [
      "                                   0         1\n",
      "avaliacao                                     \n",
      "Concordo Parcialmente      -0.634071 -0.315726\n",
      "Concordo Totalmente        -1.222708  0.710623\n",
      "Discordo Parcialmente       0.612588 -0.351081\n",
      "Discordo Totalmente         1.225539  0.701462\n",
      "Nem Concordo, Nem Discordo  0.012753 -0.010750\n"
     ]
    }
   ],
   "source": [
    "# Coordenadas da variável em linha\n",
    "print(ca.row_coordinates(tabela))"
   ]
  },
  {
   "cell_type": "code",
   "execution_count": 19,
   "id": "b52cfdc4-0f5e-4f17-9e98-6863764a0a2f",
   "metadata": {},
   "outputs": [
    {
     "name": "stdout",
     "output_type": "stream",
     "text": [
      "             0         1\n",
      "ano                     \n",
      "20X1 -0.866950  0.283437\n",
      "20X2 -0.002882 -0.564066\n",
      "20X3  0.869832  0.280629\n"
     ]
    }
   ],
   "source": [
    "# Coordenadas da variável em coluna\n",
    "print(ca.column_coordinates(tabela))"
   ]
  },
  {
   "cell_type": "markdown",
   "id": "27556f42-0051-4c86-94b9-cef837d033cf",
   "metadata": {},
   "source": [
    "### Plotando o mapa percentual da Anacor"
   ]
  },
  {
   "cell_type": "code",
   "execution_count": 20,
   "id": "ddcc7a89-152d-4f6a-b46b-68d47bf87ef0",
   "metadata": {},
   "outputs": [
    {
     "data": {
      "image/png": "[encoded data removed]",
      "text/plain": [
       "<Figure size 640x480 with 1 Axes>"
      ]
     },
     "metadata": {},
     "output_type": "display_data"
    }
   ],
   "source": [
    "chart_df_row = pd.DataFrame({'var_row': tabela.index,\n",
    "                             'x_row':ca.row_coordinates(tabela)[0].values,\n",
    "                             'y_row': ca.row_coordinates(tabela)[1].values})\n",
    "\n",
    "chart_df_col = pd.DataFrame({'var_col': tabela.columns,\n",
    "                             'x_col':ca.column_coordinates(tabela)[0].values,\n",
    "                             'y_col': ca.column_coordinates(tabela)[1].values})\n",
    "\n",
    "def label_point(x, y, val, ax):\n",
    "    a = pd.concat({'x': x, 'y': y, 'val': val}, axis=1)\n",
    "    for i, point in a.iterrows():\n",
    "        ax.text(point['x'] + 0.03, point['y'] - 0.02, point['val'], fontsize=6)\n",
    "\n",
    "label_point(x = chart_df_col['x_col'],\n",
    "            y = chart_df_col['y_col'],\n",
    "            val = chart_df_col['var_col'],\n",
    "            ax = plt.gca())\n",
    "\n",
    "label_point(x = chart_df_row['x_row'],\n",
    "            y = chart_df_row['y_row'],\n",
    "            val = chart_df_row['var_row'],\n",
    "            ax = plt.gca()) \n",
    "\n",
    "sns.scatterplot(data=chart_df_row, x='x_row', y='y_row', s=20)\n",
    "sns.scatterplot(data=chart_df_col, x='x_col', y='y_col', s=20)\n",
    "sns.despine(top=True, right=True, left=False, bottom=False)\n",
    "plt.axhline(y=0, color='lightgrey', ls='--', linewidth=0.8)\n",
    "plt.axvline(x=0, color='lightgrey', ls='--', linewidth=0.8)\n",
    "plt.tick_params(size=2, labelsize=6)\n",
    "plt.title(\"Mapa Perceptual - Anacor\", fontsize=12)\n",
    "plt.xlabel(f\"Dim. 1: {tabela_autovalores.iloc[0,1]} da inércia\", fontsize=8)\n",
    "plt.ylabel(f\"Dim. 2: {tabela_autovalores.iloc[1,1]} da inércia\", fontsize=8)\n",
    "plt.show()"
   ]
  },
  {
   "cell_type": "markdown",
   "id": "7effdd35-fb37-4902-bb16-5bd681c4598a",
   "metadata": {},
   "source": [
    "### Obtendo as coordenadas das observações"
   ]
  },
  {
   "cell_type": "code",
   "execution_count": 21,
   "id": "6c791b1d-2c45-4599-bcd4-1b994ee50571",
   "metadata": {},
   "outputs": [],
   "source": [
    "# Identicando as variáveis em linha e em coluna\n",
    "coord_obs = gestao.rename(columns={'avaliacao':'var_row',\n",
    "                                   'ano':'var_col'})\n",
    "\n",
    "# Unindo as coordenadas das categorias ao DataFrame\n",
    "coord_obs = pd.merge(coord_obs, chart_df_row, how='left', on='var_row')\n",
    "coord_obs = pd.merge(coord_obs, chart_df_col, how='left', on='var_col')\n",
    "\n",
    "# Calculando as coordenadas médias das observações (média de suas categorias)\n",
    "coord_obs['x_obs'] = coord_obs[['x_row','x_col']].mean(axis=1)\n",
    "coord_obs['y_obs'] = coord_obs[['y_row','y_col']].mean(axis=1)"
   ]
  },
  {
   "cell_type": "code",
   "execution_count": null,
   "id": "51d8bf0b-7636-4609-b2e7-33e936597e02",
   "metadata": {},
   "outputs": [],
   "source": []
  }
 ],
 "metadata": {
  "kernelspec": {
   "display_name": "Python 3 (ipykernel)",
   "language": "python",
   "name": "python3"
  },
  "language_info": {
   "codemirror_mode": {
    "name": "ipython",
    "version": 3
   },
   "file_extension": ".py",
   "mimetype": "text/x-python",
   "name": "python",
   "nbconvert_exporter": "python",
   "pygments_lexer": "ipython3",
   "version": "3.11.9"
  }
 },
 "nbformat": 4,
 "nbformat_minor": 5
}

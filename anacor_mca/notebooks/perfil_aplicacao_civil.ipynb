{
 "cells": [
  {
   "cell_type": "code",
   "execution_count": 1,
   "metadata": {
    "editable": true,
    "slideshow": {
     "slide_type": ""
    },
    "tags": []
   },
   "outputs": [],
   "source": [
    "#%% Importando os pacotes necessários\n",
    "import pandas as pd\n",
    "import numpy as np\n",
    "from scipy.stats import chi2_contingency\n",
    "import statsmodels.api as sm\n",
    "import seaborn as sns\n",
    "import matplotlib.pyplot as plt\n",
    "import prince\n",
    "import plotly.io as pio\n",
    "pio.renderers.default = 'browser'\n",
    "import plotly.graph_objects as go"
   ]
  },
  {
   "cell_type": "code",
   "execution_count": 2,
   "metadata": {},
   "outputs": [],
   "source": [
    "# Importando o banco de dados\n",
    "perfil = pd.read_excel(\"/Users/administrador/Documents/usp_ds_analytics/usp_ds_analytics/anacor_mca/data/perfil_aplicacao_civil.xlsx\")"
   ]
  },
  {
   "cell_type": "code",
   "execution_count": 3,
   "metadata": {},
   "outputs": [
    {
     "data": {
      "text/html": [
       "<div>\n",
       "<style scoped>\n",
       "    .dataframe tbody tr th:only-of-type {\n",
       "        vertical-align: middle;\n",
       "    }\n",
       "\n",
       "    .dataframe tbody tr th {\n",
       "        vertical-align: top;\n",
       "    }\n",
       "\n",
       "    .dataframe thead th {\n",
       "        text-align: right;\n",
       "    }\n",
       "</style>\n",
       "<table border=\"1\" class=\"dataframe\">\n",
       "  <thead>\n",
       "    <tr style=\"text-align: right;\">\n",
       "      <th></th>\n",
       "      <th>estudante</th>\n",
       "      <th>perfil</th>\n",
       "      <th>aplicacao</th>\n",
       "      <th>estado.civil</th>\n",
       "    </tr>\n",
       "  </thead>\n",
       "  <tbody>\n",
       "    <tr>\n",
       "      <th>0</th>\n",
       "      <td>Gabriela</td>\n",
       "      <td>Conservador</td>\n",
       "      <td>Poupanca</td>\n",
       "      <td>Casado</td>\n",
       "    </tr>\n",
       "    <tr>\n",
       "      <th>1</th>\n",
       "      <td>Luiz Felipe</td>\n",
       "      <td>Conservador</td>\n",
       "      <td>Poupanca</td>\n",
       "      <td>Casado</td>\n",
       "    </tr>\n",
       "    <tr>\n",
       "      <th>2</th>\n",
       "      <td>Patrícia</td>\n",
       "      <td>Conservador</td>\n",
       "      <td>Poupanca</td>\n",
       "      <td>Casado</td>\n",
       "    </tr>\n",
       "    <tr>\n",
       "      <th>3</th>\n",
       "      <td>Gustavo</td>\n",
       "      <td>Conservador</td>\n",
       "      <td>Poupanca</td>\n",
       "      <td>Solteiro</td>\n",
       "    </tr>\n",
       "    <tr>\n",
       "      <th>4</th>\n",
       "      <td>Letícia</td>\n",
       "      <td>Conservador</td>\n",
       "      <td>Poupanca</td>\n",
       "      <td>Casado</td>\n",
       "    </tr>\n",
       "  </tbody>\n",
       "</table>\n",
       "</div>"
      ],
      "text/plain": [
       "     estudante       perfil aplicacao estado.civil\n",
       "0     Gabriela  Conservador  Poupanca       Casado\n",
       "1  Luiz Felipe  Conservador  Poupanca       Casado\n",
       "2     Patrícia  Conservador  Poupanca       Casado\n",
       "3      Gustavo  Conservador  Poupanca     Solteiro\n",
       "4      Letícia  Conservador  Poupanca       Casado"
      ]
     },
     "execution_count": 3,
     "metadata": {},
     "output_type": "execute_result"
    }
   ],
   "source": [
    "perfil.head()"
   ]
  },
  {
   "cell_type": "markdown",
   "metadata": {},
   "source": [
    "Agora temos uma terceira variável para analisar? estado.civil.\n",
    "\n",
    "Será que esta nova se associa com as demais categorias?"
   ]
  },
  {
   "cell_type": "code",
   "execution_count": 4,
   "metadata": {},
   "outputs": [],
   "source": [
    "# Criando um novo banco de dados com as variáveis para a MCA\n",
    "dados_mca = perfil.drop(columns=['estudante'])"
   ]
  },
  {
   "cell_type": "code",
   "execution_count": 5,
   "metadata": {},
   "outputs": [
    {
     "name": "stdout",
     "output_type": "stream",
     "text": [
      "perfil\n",
      "Agressivo      58\n",
      "Moderado       25\n",
      "Conservador    17\n",
      "Name: count, dtype: int64\n",
      "\n",
      "aplicacao\n",
      "Acoes       45\n",
      "CDB         40\n",
      "Poupanca    15\n",
      "Name: count, dtype: int64\n",
      "\n",
      "estado.civil\n",
      "Solteiro    57\n",
      "Casado      43\n",
      "Name: count, dtype: int64\n"
     ]
    }
   ],
   "source": [
    "# Informações descritivas sobre as variáveis\n",
    "print(dados_mca['perfil'].value_counts())\n",
    "print(\"\")\n",
    "print(dados_mca['aplicacao'].value_counts())\n",
    "print(\"\")\n",
    "print(dados_mca['estado.civil'].value_counts())"
   ]
  },
  {
   "cell_type": "markdown",
   "metadata": {},
   "source": [
    "### Criando a tabela de contingência\n",
    "Lembrando que elas são sempre para pares de variáveis.\n",
    "\n",
    "Para mais de 2 variáveis, existem 2 métodos, com uma matriz auxiliar: \n",
    "\n",
    "**Matriz binária Z**\n",
    "- coordenadas-padrão, transformo as observações em dummies para cada categoria.\n",
    "- aqui a quantidade de dimensões é definido por J - Q, onde J é a quantidade total de categorias em todas as variáveis Q no mapa perceptual dessa matriz\n",
    "- Inércia Principal Total = J - Q / Q\n",
    "\n",
    "**Matriz de Burt**\n",
    "- B = Z'* Z\n",
    "- É possível combinar em uma única matriz o cruzamento de todos os pares variáveis\n",
    "e suas categorias, obtendo, desta forma, uma matriz que contém as frequências\n",
    "absolutas observadas para todos os cruzamentos\n",
    "- Ao considerar a matriz de Burt como uma tabela de contingência, é possível realizar\n",
    "uma Anacor e obter as coordenadas das categorias das variáveis"
   ]
  },
  {
   "cell_type": "code",
   "execution_count": 6,
   "metadata": {},
   "outputs": [
    {
     "name": "stdout",
     "output_type": "stream",
     "text": [
      "aplicacao    Acoes  CDB  Poupanca\n",
      "perfil                           \n",
      "Agressivo       36   20         2\n",
      "Conservador      5    4         8\n",
      "Moderado         4   16         5\n",
      "\n",
      "estado.civil  Casado  Solteiro\n",
      "perfil                        \n",
      "Agressivo         17        41\n",
      "Conservador       12         5\n",
      "Moderado          14        11\n",
      "\n",
      "estado.civil  Casado  Solteiro\n",
      "aplicacao                     \n",
      "Acoes              9        36\n",
      "CDB               24        16\n",
      "Poupanca          10         5\n",
      "\n"
     ]
    }
   ],
   "source": [
    "# Tabela de contingência para todos os pares\n",
    "tabela_mca_1 = pd.crosstab(dados_mca[\"perfil\"], dados_mca[\"aplicacao\"])\n",
    "print(tabela_mca_1)\n",
    "print(\"\")\n",
    "tabela_mca_2 = pd.crosstab(dados_mca[\"perfil\"], dados_mca[\"estado.civil\"])\n",
    "print(tabela_mca_2)\n",
    "print(\"\")\n",
    "tabela_mca_3 = pd.crosstab(dados_mca[\"aplicacao\"], dados_mca[\"estado.civil\"])\n",
    "print(tabela_mca_3)\n",
    "print(\"\")"
   ]
  },
  {
   "cell_type": "markdown",
   "metadata": {},
   "source": [
    "### Analisando a significância estatística da associação (teste qui²)\n",
    "Avaliamos para os pares de variáveis, se não apresentar uma associação estatisticamente significante, nem entra no mapa perceptual."
   ]
  },
  {
   "cell_type": "code",
   "execution_count": 7,
   "metadata": {},
   "outputs": [
    {
     "name": "stdout",
     "output_type": "stream",
     "text": [
      "estatística qui²: 31.76\n",
      "p-valor da estatística: 0.0\n",
      "graus de liberdade: 4\n",
      "\n",
      "estatística qui²: 11.44\n",
      "p-valor da estatística: 0.0033\n",
      "graus de liberdade: 2\n",
      "\n",
      "estatística qui²: 17.86\n",
      "p-valor da estatística: 0.0001\n",
      "graus de liberdade: 2\n"
     ]
    }
   ],
   "source": [
    "tab_1 = chi2_contingency(tabela_mca_1)\n",
    "print(f\"estatística qui²: {round(tab_1[0], 2)}\")\n",
    "print(f\"p-valor da estatística: {round(tab_1[1], 4)}\")\n",
    "print(f\"graus de liberdade: {tab_1[2]}\")\n",
    "print(\"\")\n",
    "tab_2 = chi2_contingency(tabela_mca_2)\n",
    "print(f\"estatística qui²: {round(tab_2[0], 2)}\")\n",
    "print(f\"p-valor da estatística: {round(tab_2[1], 4)}\")\n",
    "print(f\"graus de liberdade: {tab_2[2]}\")\n",
    "print(\"\")\n",
    "tab_3 = chi2_contingency(tabela_mca_3)\n",
    "print(f\"estatística qui²: {round(tab_3[0], 2)}\")\n",
    "print(f\"p-valor da estatística: {round(tab_3[1], 4)}\")\n",
    "print(f\"graus de liberdade: {tab_3[2]}\")"
   ]
  },
  {
   "cell_type": "markdown",
   "metadata": {},
   "source": [
    "Como teste de hipótese, eu posso olhar direto para o p-value da estatística. Ele mostra se é estatisticamente significativo e se podemos rejeitar H0 (não existe associação significativa entre as variáveis).\n",
    "\n",
    "O teste chi2 apenas mostra se existe uma associação, porém ainda não sabemos de onde vem essa associação, quais categorias envolvem isso. "
   ]
  },
  {
   "cell_type": "markdown",
   "metadata": {},
   "source": [
    "## Elaborando a MCA"
   ]
  },
  {
   "cell_type": "code",
   "execution_count": 8,
   "metadata": {},
   "outputs": [],
   "source": [
    "# Na função, o input é a tabela com os dados das variáveis\n",
    "mca = prince.MCA(n_components=2).fit(dados_mca)"
   ]
  },
  {
   "cell_type": "markdown",
   "metadata": {},
   "source": [
    "### Quantidade de dimensões\n",
    "Igual total de categorias - qtde de variáveis"
   ]
  },
  {
   "cell_type": "code",
   "execution_count": 11,
   "metadata": {},
   "outputs": [
    {
     "data": {
      "text/plain": [
       "8"
      ]
     },
     "execution_count": 11,
     "metadata": {},
     "output_type": "execute_result"
    }
   ],
   "source": [
    "# Quantidade total de categorias\n",
    "mca.J_"
   ]
  },
  {
   "cell_type": "code",
   "execution_count": 12,
   "metadata": {},
   "outputs": [
    {
     "data": {
      "text/plain": [
       "3"
      ]
     },
     "execution_count": 12,
     "metadata": {},
     "output_type": "execute_result"
    }
   ],
   "source": [
    "# Quantidade de variáveis na análise\n",
    "mca.K_"
   ]
  },
  {
   "cell_type": "code",
   "execution_count": 14,
   "metadata": {},
   "outputs": [
    {
     "data": {
      "text/plain": [
       "5"
      ]
     },
     "execution_count": 14,
     "metadata": {},
     "output_type": "execute_result"
    }
   ],
   "source": [
    "# Quantidade de dimensões\n",
    "quant_dim = mca.J_ - mca.K_\n",
    "quant_dim"
   ]
  },
  {
   "cell_type": "markdown",
   "metadata": {},
   "source": [
    "### Visualizando matrizes: binária e Burt"
   ]
  },
  {
   "cell_type": "code",
   "execution_count": 15,
   "metadata": {},
   "outputs": [],
   "source": [
    "binaria = pd.get_dummies(dados_mca, columns=dados_mca.columns, dtype=float)"
   ]
  },
  {
   "cell_type": "code",
   "execution_count": 17,
   "metadata": {},
   "outputs": [
    {
     "data": {
      "text/html": [
       "<div>\n",
       "<style scoped>\n",
       "    .dataframe tbody tr th:only-of-type {\n",
       "        vertical-align: middle;\n",
       "    }\n",
       "\n",
       "    .dataframe tbody tr th {\n",
       "        vertical-align: top;\n",
       "    }\n",
       "\n",
       "    .dataframe thead th {\n",
       "        text-align: right;\n",
       "    }\n",
       "</style>\n",
       "<table border=\"1\" class=\"dataframe\">\n",
       "  <thead>\n",
       "    <tr style=\"text-align: right;\">\n",
       "      <th></th>\n",
       "      <th>perfil_Agressivo</th>\n",
       "      <th>perfil_Conservador</th>\n",
       "      <th>perfil_Moderado</th>\n",
       "      <th>aplicacao_Acoes</th>\n",
       "      <th>aplicacao_CDB</th>\n",
       "      <th>aplicacao_Poupanca</th>\n",
       "      <th>estado.civil_Casado</th>\n",
       "      <th>estado.civil_Solteiro</th>\n",
       "    </tr>\n",
       "  </thead>\n",
       "  <tbody>\n",
       "    <tr>\n",
       "      <th>0</th>\n",
       "      <td>0.0</td>\n",
       "      <td>1.0</td>\n",
       "      <td>0.0</td>\n",
       "      <td>0.0</td>\n",
       "      <td>0.0</td>\n",
       "      <td>1.0</td>\n",
       "      <td>1.0</td>\n",
       "      <td>0.0</td>\n",
       "    </tr>\n",
       "    <tr>\n",
       "      <th>1</th>\n",
       "      <td>0.0</td>\n",
       "      <td>1.0</td>\n",
       "      <td>0.0</td>\n",
       "      <td>0.0</td>\n",
       "      <td>0.0</td>\n",
       "      <td>1.0</td>\n",
       "      <td>1.0</td>\n",
       "      <td>0.0</td>\n",
       "    </tr>\n",
       "    <tr>\n",
       "      <th>2</th>\n",
       "      <td>0.0</td>\n",
       "      <td>1.0</td>\n",
       "      <td>0.0</td>\n",
       "      <td>0.0</td>\n",
       "      <td>0.0</td>\n",
       "      <td>1.0</td>\n",
       "      <td>1.0</td>\n",
       "      <td>0.0</td>\n",
       "    </tr>\n",
       "    <tr>\n",
       "      <th>3</th>\n",
       "      <td>0.0</td>\n",
       "      <td>1.0</td>\n",
       "      <td>0.0</td>\n",
       "      <td>0.0</td>\n",
       "      <td>0.0</td>\n",
       "      <td>1.0</td>\n",
       "      <td>0.0</td>\n",
       "      <td>1.0</td>\n",
       "    </tr>\n",
       "    <tr>\n",
       "      <th>4</th>\n",
       "      <td>0.0</td>\n",
       "      <td>1.0</td>\n",
       "      <td>0.0</td>\n",
       "      <td>0.0</td>\n",
       "      <td>0.0</td>\n",
       "      <td>1.0</td>\n",
       "      <td>1.0</td>\n",
       "      <td>0.0</td>\n",
       "    </tr>\n",
       "    <tr>\n",
       "      <th>...</th>\n",
       "      <td>...</td>\n",
       "      <td>...</td>\n",
       "      <td>...</td>\n",
       "      <td>...</td>\n",
       "      <td>...</td>\n",
       "      <td>...</td>\n",
       "      <td>...</td>\n",
       "      <td>...</td>\n",
       "    </tr>\n",
       "    <tr>\n",
       "      <th>95</th>\n",
       "      <td>1.0</td>\n",
       "      <td>0.0</td>\n",
       "      <td>0.0</td>\n",
       "      <td>1.0</td>\n",
       "      <td>0.0</td>\n",
       "      <td>0.0</td>\n",
       "      <td>0.0</td>\n",
       "      <td>1.0</td>\n",
       "    </tr>\n",
       "    <tr>\n",
       "      <th>96</th>\n",
       "      <td>1.0</td>\n",
       "      <td>0.0</td>\n",
       "      <td>0.0</td>\n",
       "      <td>1.0</td>\n",
       "      <td>0.0</td>\n",
       "      <td>0.0</td>\n",
       "      <td>0.0</td>\n",
       "      <td>1.0</td>\n",
       "    </tr>\n",
       "    <tr>\n",
       "      <th>97</th>\n",
       "      <td>1.0</td>\n",
       "      <td>0.0</td>\n",
       "      <td>0.0</td>\n",
       "      <td>1.0</td>\n",
       "      <td>0.0</td>\n",
       "      <td>0.0</td>\n",
       "      <td>0.0</td>\n",
       "      <td>1.0</td>\n",
       "    </tr>\n",
       "    <tr>\n",
       "      <th>98</th>\n",
       "      <td>1.0</td>\n",
       "      <td>0.0</td>\n",
       "      <td>0.0</td>\n",
       "      <td>1.0</td>\n",
       "      <td>0.0</td>\n",
       "      <td>0.0</td>\n",
       "      <td>0.0</td>\n",
       "      <td>1.0</td>\n",
       "    </tr>\n",
       "    <tr>\n",
       "      <th>99</th>\n",
       "      <td>1.0</td>\n",
       "      <td>0.0</td>\n",
       "      <td>0.0</td>\n",
       "      <td>1.0</td>\n",
       "      <td>0.0</td>\n",
       "      <td>0.0</td>\n",
       "      <td>0.0</td>\n",
       "      <td>1.0</td>\n",
       "    </tr>\n",
       "  </tbody>\n",
       "</table>\n",
       "<p>100 rows × 8 columns</p>\n",
       "</div>"
      ],
      "text/plain": [
       "    perfil_Agressivo  perfil_Conservador  perfil_Moderado  aplicacao_Acoes  \\\n",
       "0                0.0                 1.0              0.0              0.0   \n",
       "1                0.0                 1.0              0.0              0.0   \n",
       "2                0.0                 1.0              0.0              0.0   \n",
       "3                0.0                 1.0              0.0              0.0   \n",
       "4                0.0                 1.0              0.0              0.0   \n",
       "..               ...                 ...              ...              ...   \n",
       "95               1.0                 0.0              0.0              1.0   \n",
       "96               1.0                 0.0              0.0              1.0   \n",
       "97               1.0                 0.0              0.0              1.0   \n",
       "98               1.0                 0.0              0.0              1.0   \n",
       "99               1.0                 0.0              0.0              1.0   \n",
       "\n",
       "    aplicacao_CDB  aplicacao_Poupanca  estado.civil_Casado  \\\n",
       "0             0.0                 1.0                  1.0   \n",
       "1             0.0                 1.0                  1.0   \n",
       "2             0.0                 1.0                  1.0   \n",
       "3             0.0                 1.0                  0.0   \n",
       "4             0.0                 1.0                  1.0   \n",
       "..            ...                 ...                  ...   \n",
       "95            0.0                 0.0                  0.0   \n",
       "96            0.0                 0.0                  0.0   \n",
       "97            0.0                 0.0                  0.0   \n",
       "98            0.0                 0.0                  0.0   \n",
       "99            0.0                 0.0                  0.0   \n",
       "\n",
       "    estado.civil_Solteiro  \n",
       "0                     0.0  \n",
       "1                     0.0  \n",
       "2                     0.0  \n",
       "3                     1.0  \n",
       "4                     0.0  \n",
       "..                    ...  \n",
       "95                    1.0  \n",
       "96                    1.0  \n",
       "97                    1.0  \n",
       "98                    1.0  \n",
       "99                    1.0  \n",
       "\n",
       "[100 rows x 8 columns]"
      ]
     },
     "execution_count": 17,
     "metadata": {},
     "output_type": "execute_result"
    }
   ],
   "source": [
    "binaria"
   ]
  },
  {
   "cell_type": "code",
   "execution_count": 19,
   "metadata": {},
   "outputs": [],
   "source": [
    "burt = np.matmul(np.transpose(binaria), binaria) # multiplicação de matrizes"
   ]
  },
  {
   "cell_type": "code",
   "execution_count": 20,
   "metadata": {},
   "outputs": [
    {
     "data": {
      "text/html": [
       "<div>\n",
       "<style scoped>\n",
       "    .dataframe tbody tr th:only-of-type {\n",
       "        vertical-align: middle;\n",
       "    }\n",
       "\n",
       "    .dataframe tbody tr th {\n",
       "        vertical-align: top;\n",
       "    }\n",
       "\n",
       "    .dataframe thead th {\n",
       "        text-align: right;\n",
       "    }\n",
       "</style>\n",
       "<table border=\"1\" class=\"dataframe\">\n",
       "  <thead>\n",
       "    <tr style=\"text-align: right;\">\n",
       "      <th></th>\n",
       "      <th>perfil_Agressivo</th>\n",
       "      <th>perfil_Conservador</th>\n",
       "      <th>perfil_Moderado</th>\n",
       "      <th>aplicacao_Acoes</th>\n",
       "      <th>aplicacao_CDB</th>\n",
       "      <th>aplicacao_Poupanca</th>\n",
       "      <th>estado.civil_Casado</th>\n",
       "      <th>estado.civil_Solteiro</th>\n",
       "    </tr>\n",
       "  </thead>\n",
       "  <tbody>\n",
       "    <tr>\n",
       "      <th>perfil_Agressivo</th>\n",
       "      <td>58.0</td>\n",
       "      <td>0.0</td>\n",
       "      <td>0.0</td>\n",
       "      <td>36.0</td>\n",
       "      <td>20.0</td>\n",
       "      <td>2.0</td>\n",
       "      <td>17.0</td>\n",
       "      <td>41.0</td>\n",
       "    </tr>\n",
       "    <tr>\n",
       "      <th>perfil_Conservador</th>\n",
       "      <td>0.0</td>\n",
       "      <td>17.0</td>\n",
       "      <td>0.0</td>\n",
       "      <td>5.0</td>\n",
       "      <td>4.0</td>\n",
       "      <td>8.0</td>\n",
       "      <td>12.0</td>\n",
       "      <td>5.0</td>\n",
       "    </tr>\n",
       "    <tr>\n",
       "      <th>perfil_Moderado</th>\n",
       "      <td>0.0</td>\n",
       "      <td>0.0</td>\n",
       "      <td>25.0</td>\n",
       "      <td>4.0</td>\n",
       "      <td>16.0</td>\n",
       "      <td>5.0</td>\n",
       "      <td>14.0</td>\n",
       "      <td>11.0</td>\n",
       "    </tr>\n",
       "    <tr>\n",
       "      <th>aplicacao_Acoes</th>\n",
       "      <td>36.0</td>\n",
       "      <td>5.0</td>\n",
       "      <td>4.0</td>\n",
       "      <td>45.0</td>\n",
       "      <td>0.0</td>\n",
       "      <td>0.0</td>\n",
       "      <td>9.0</td>\n",
       "      <td>36.0</td>\n",
       "    </tr>\n",
       "    <tr>\n",
       "      <th>aplicacao_CDB</th>\n",
       "      <td>20.0</td>\n",
       "      <td>4.0</td>\n",
       "      <td>16.0</td>\n",
       "      <td>0.0</td>\n",
       "      <td>40.0</td>\n",
       "      <td>0.0</td>\n",
       "      <td>24.0</td>\n",
       "      <td>16.0</td>\n",
       "    </tr>\n",
       "    <tr>\n",
       "      <th>aplicacao_Poupanca</th>\n",
       "      <td>2.0</td>\n",
       "      <td>8.0</td>\n",
       "      <td>5.0</td>\n",
       "      <td>0.0</td>\n",
       "      <td>0.0</td>\n",
       "      <td>15.0</td>\n",
       "      <td>10.0</td>\n",
       "      <td>5.0</td>\n",
       "    </tr>\n",
       "    <tr>\n",
       "      <th>estado.civil_Casado</th>\n",
       "      <td>17.0</td>\n",
       "      <td>12.0</td>\n",
       "      <td>14.0</td>\n",
       "      <td>9.0</td>\n",
       "      <td>24.0</td>\n",
       "      <td>10.0</td>\n",
       "      <td>43.0</td>\n",
       "      <td>0.0</td>\n",
       "    </tr>\n",
       "    <tr>\n",
       "      <th>estado.civil_Solteiro</th>\n",
       "      <td>41.0</td>\n",
       "      <td>5.0</td>\n",
       "      <td>11.0</td>\n",
       "      <td>36.0</td>\n",
       "      <td>16.0</td>\n",
       "      <td>5.0</td>\n",
       "      <td>0.0</td>\n",
       "      <td>57.0</td>\n",
       "    </tr>\n",
       "  </tbody>\n",
       "</table>\n",
       "</div>"
      ],
      "text/plain": [
       "                       perfil_Agressivo  perfil_Conservador  perfil_Moderado  \\\n",
       "perfil_Agressivo                   58.0                 0.0              0.0   \n",
       "perfil_Conservador                  0.0                17.0              0.0   \n",
       "perfil_Moderado                     0.0                 0.0             25.0   \n",
       "aplicacao_Acoes                    36.0                 5.0              4.0   \n",
       "aplicacao_CDB                      20.0                 4.0             16.0   \n",
       "aplicacao_Poupanca                  2.0                 8.0              5.0   \n",
       "estado.civil_Casado                17.0                12.0             14.0   \n",
       "estado.civil_Solteiro              41.0                 5.0             11.0   \n",
       "\n",
       "                       aplicacao_Acoes  aplicacao_CDB  aplicacao_Poupanca  \\\n",
       "perfil_Agressivo                  36.0           20.0                 2.0   \n",
       "perfil_Conservador                 5.0            4.0                 8.0   \n",
       "perfil_Moderado                    4.0           16.0                 5.0   \n",
       "aplicacao_Acoes                   45.0            0.0                 0.0   \n",
       "aplicacao_CDB                      0.0           40.0                 0.0   \n",
       "aplicacao_Poupanca                 0.0            0.0                15.0   \n",
       "estado.civil_Casado                9.0           24.0                10.0   \n",
       "estado.civil_Solteiro             36.0           16.0                 5.0   \n",
       "\n",
       "                       estado.civil_Casado  estado.civil_Solteiro  \n",
       "perfil_Agressivo                      17.0                   41.0  \n",
       "perfil_Conservador                    12.0                    5.0  \n",
       "perfil_Moderado                       14.0                   11.0  \n",
       "aplicacao_Acoes                        9.0                   36.0  \n",
       "aplicacao_CDB                         24.0                   16.0  \n",
       "aplicacao_Poupanca                    10.0                    5.0  \n",
       "estado.civil_Casado                   43.0                    0.0  \n",
       "estado.civil_Solteiro                  0.0                   57.0  "
      ]
     },
     "execution_count": 20,
     "metadata": {},
     "output_type": "execute_result"
    }
   ],
   "source": [
    "burt"
   ]
  },
  {
   "cell_type": "markdown",
   "metadata": {},
   "source": [
    "Na matriz Burt tenho todas as variáveis e categorias em linha e coluna"
   ]
  },
  {
   "cell_type": "markdown",
   "metadata": {},
   "source": [
    "### Obtendo os eigenvalues (autovalores)"
   ]
  },
  {
   "cell_type": "code",
   "execution_count": 21,
   "metadata": {},
   "outputs": [
    {
     "name": "stdout",
     "output_type": "stream",
     "text": [
      "          eigenvalue % of variance % of variance (cumulative)\n",
      "component                                                    \n",
      "0              0.602        36.14%                     36.14%\n",
      "1              0.436        26.16%                     62.30%\n"
     ]
    }
   ],
   "source": [
    "tabela_autovalores = mca.eigenvalues_summary\n",
    "print(tabela_autovalores)\n",
    "# São gerados 'm' autovalores: m = mín(I-1,J-1)"
   ]
  },
  {
   "cell_type": "markdown",
   "metadata": {},
   "source": [
    "Os eigenvalues representam as inércias parciais de cada dimensão.\n",
    "\n",
    "- Eixo X: 0 (36.14% )\n",
    "- Eixo Y: 1 (26.16%)\n",
    "\n",
    "- O primeiro autovalor é sempre maior que os demais.\n",
    "- O valor do acumulado mostra se houve e quanto tivemos de perda."
   ]
  },
  {
   "cell_type": "markdown",
   "metadata": {},
   "source": [
    "### Obtendo a inércia principal total"
   ]
  },
  {
   "cell_type": "code",
   "execution_count": 22,
   "metadata": {},
   "outputs": [
    {
     "name": "stdout",
     "output_type": "stream",
     "text": [
      "1.6666666666666645\n"
     ]
    }
   ],
   "source": [
    "# É a soma dos eigenvalues (também é a divisão: estat. qui² / N)\n",
    "# Quanto maior a inércia principal total, maior é a associação entre categorias\n",
    "print(mca.total_inertia_)"
   ]
  },
  {
   "cell_type": "markdown",
   "metadata": {},
   "source": [
    "### Obtendo as coordenadas do mapa perceptual"
   ]
  },
  {
   "cell_type": "code",
   "execution_count": 24,
   "metadata": {},
   "outputs": [
    {
     "data": {
      "text/html": [
       "<div>\n",
       "<style scoped>\n",
       "    .dataframe tbody tr th:only-of-type {\n",
       "        vertical-align: middle;\n",
       "    }\n",
       "\n",
       "    .dataframe tbody tr th {\n",
       "        vertical-align: top;\n",
       "    }\n",
       "\n",
       "    .dataframe thead th {\n",
       "        text-align: right;\n",
       "    }\n",
       "</style>\n",
       "<table border=\"1\" class=\"dataframe\">\n",
       "  <thead>\n",
       "    <tr style=\"text-align: right;\">\n",
       "      <th></th>\n",
       "      <th>0</th>\n",
       "      <th>1</th>\n",
       "    </tr>\n",
       "  </thead>\n",
       "  <tbody>\n",
       "    <tr>\n",
       "      <th>perfil_Agressivo</th>\n",
       "      <td>-0.653069</td>\n",
       "      <td>-0.014732</td>\n",
       "    </tr>\n",
       "    <tr>\n",
       "      <th>perfil_Conservador</th>\n",
       "      <td>1.129970</td>\n",
       "      <td>1.483614</td>\n",
       "    </tr>\n",
       "    <tr>\n",
       "      <th>perfil_Moderado</th>\n",
       "      <td>0.746741</td>\n",
       "      <td>-0.974679</td>\n",
       "    </tr>\n",
       "    <tr>\n",
       "      <th>aplicacao_Acoes</th>\n",
       "      <td>-0.831258</td>\n",
       "      <td>0.387515</td>\n",
       "    </tr>\n",
       "    <tr>\n",
       "      <th>aplicacao_CDB</th>\n",
       "      <td>0.417184</td>\n",
       "      <td>-0.935143</td>\n",
       "    </tr>\n",
       "    <tr>\n",
       "      <th>aplicacao_Poupanca</th>\n",
       "      <td>1.381285</td>\n",
       "      <td>1.331169</td>\n",
       "    </tr>\n",
       "    <tr>\n",
       "      <th>estado.civil_Casado</th>\n",
       "      <td>0.843172</td>\n",
       "      <td>-0.131145</td>\n",
       "    </tr>\n",
       "    <tr>\n",
       "      <th>estado.civil_Solteiro</th>\n",
       "      <td>-0.636077</td>\n",
       "      <td>0.098934</td>\n",
       "    </tr>\n",
       "  </tbody>\n",
       "</table>\n",
       "</div>"
      ],
      "text/plain": [
       "                              0         1\n",
       "perfil_Agressivo      -0.653069 -0.014732\n",
       "perfil_Conservador     1.129970  1.483614\n",
       "perfil_Moderado        0.746741 -0.974679\n",
       "aplicacao_Acoes       -0.831258  0.387515\n",
       "aplicacao_CDB          0.417184 -0.935143\n",
       "aplicacao_Poupanca     1.381285  1.331169\n",
       "estado.civil_Casado    0.843172 -0.131145\n",
       "estado.civil_Solteiro -0.636077  0.098934"
      ]
     },
     "execution_count": 24,
     "metadata": {},
     "output_type": "execute_result"
    }
   ],
   "source": [
    "# Coordenadas principais das categorias das variáveis\n",
    "coord_burt = mca.column_coordinates(dados_mca)\n",
    "coord_burt"
   ]
  },
  {
   "cell_type": "code",
   "execution_count": 25,
   "metadata": {},
   "outputs": [
    {
     "data": {
      "text/html": [
       "<div>\n",
       "<style scoped>\n",
       "    .dataframe tbody tr th:only-of-type {\n",
       "        vertical-align: middle;\n",
       "    }\n",
       "\n",
       "    .dataframe tbody tr th {\n",
       "        vertical-align: top;\n",
       "    }\n",
       "\n",
       "    .dataframe thead th {\n",
       "        text-align: right;\n",
       "    }\n",
       "</style>\n",
       "<table border=\"1\" class=\"dataframe\">\n",
       "  <thead>\n",
       "    <tr style=\"text-align: right;\">\n",
       "      <th></th>\n",
       "      <th>0</th>\n",
       "      <th>1</th>\n",
       "    </tr>\n",
       "  </thead>\n",
       "  <tbody>\n",
       "    <tr>\n",
       "      <th>perfil_Agressivo</th>\n",
       "      <td>-0.841494</td>\n",
       "      <td>-0.022312</td>\n",
       "    </tr>\n",
       "    <tr>\n",
       "      <th>perfil_Conservador</th>\n",
       "      <td>1.455992</td>\n",
       "      <td>2.246900</td>\n",
       "    </tr>\n",
       "    <tr>\n",
       "      <th>perfil_Moderado</th>\n",
       "      <td>0.962193</td>\n",
       "      <td>-1.476129</td>\n",
       "    </tr>\n",
       "    <tr>\n",
       "      <th>aplicacao_Acoes</th>\n",
       "      <td>-1.071095</td>\n",
       "      <td>0.586883</td>\n",
       "    </tr>\n",
       "    <tr>\n",
       "      <th>aplicacao_CDB</th>\n",
       "      <td>0.537550</td>\n",
       "      <td>-1.416253</td>\n",
       "    </tr>\n",
       "    <tr>\n",
       "      <th>aplicacao_Poupanca</th>\n",
       "      <td>1.779816</td>\n",
       "      <td>2.016026</td>\n",
       "    </tr>\n",
       "    <tr>\n",
       "      <th>estado.civil_Casado</th>\n",
       "      <td>1.086446</td>\n",
       "      <td>-0.198617</td>\n",
       "    </tr>\n",
       "    <tr>\n",
       "      <th>estado.civil_Solteiro</th>\n",
       "      <td>-0.819599</td>\n",
       "      <td>0.149834</td>\n",
       "    </tr>\n",
       "  </tbody>\n",
       "</table>\n",
       "</div>"
      ],
      "text/plain": [
       "                              0         1\n",
       "perfil_Agressivo      -0.841494 -0.022312\n",
       "perfil_Conservador     1.455992  2.246900\n",
       "perfil_Moderado        0.962193 -1.476129\n",
       "aplicacao_Acoes       -1.071095  0.586883\n",
       "aplicacao_CDB          0.537550 -1.416253\n",
       "aplicacao_Poupanca     1.779816  2.016026\n",
       "estado.civil_Casado    1.086446 -0.198617\n",
       "estado.civil_Solteiro -0.819599  0.149834"
      ]
     },
     "execution_count": 25,
     "metadata": {},
     "output_type": "execute_result"
    }
   ],
   "source": [
    "# Obtendo as coordenadas-padrão das categorias das vaiáveis\n",
    "coord_padrao = mca.column_coordinates(dados_mca)/np.sqrt(mca.eigenvalues_)\n",
    "coord_padrao"
   ]
  },
  {
   "cell_type": "markdown",
   "metadata": {},
   "source": [
    "Em termos de resultados, posso escolher uma das duas, geralmente elas são semelhantes, mudando pouco os eixos.\n",
    "\n",
    "Vamos então seguir com as coordenadas-padrao (para as observações tbm)."
   ]
  },
  {
   "cell_type": "markdown",
   "metadata": {},
   "source": [
    "### Obtendo as coordenadas das observações do banco de dados"
   ]
  },
  {
   "cell_type": "code",
   "execution_count": 26,
   "metadata": {},
   "outputs": [
    {
     "data": {
      "text/html": [
       "<div>\n",
       "<style scoped>\n",
       "    .dataframe tbody tr th:only-of-type {\n",
       "        vertical-align: middle;\n",
       "    }\n",
       "\n",
       "    .dataframe tbody tr th {\n",
       "        vertical-align: top;\n",
       "    }\n",
       "\n",
       "    .dataframe thead th {\n",
       "        text-align: right;\n",
       "    }\n",
       "</style>\n",
       "<table border=\"1\" class=\"dataframe\">\n",
       "  <thead>\n",
       "    <tr style=\"text-align: right;\">\n",
       "      <th></th>\n",
       "      <th>0</th>\n",
       "      <th>1</th>\n",
       "    </tr>\n",
       "  </thead>\n",
       "  <tbody>\n",
       "    <tr>\n",
       "      <th>0</th>\n",
       "      <td>1.440751</td>\n",
       "      <td>1.354770</td>\n",
       "    </tr>\n",
       "    <tr>\n",
       "      <th>1</th>\n",
       "      <td>1.440751</td>\n",
       "      <td>1.354770</td>\n",
       "    </tr>\n",
       "    <tr>\n",
       "      <th>2</th>\n",
       "      <td>1.440751</td>\n",
       "      <td>1.354770</td>\n",
       "    </tr>\n",
       "    <tr>\n",
       "      <th>3</th>\n",
       "      <td>0.805403</td>\n",
       "      <td>1.470920</td>\n",
       "    </tr>\n",
       "    <tr>\n",
       "      <th>4</th>\n",
       "      <td>1.440751</td>\n",
       "      <td>1.354770</td>\n",
       "    </tr>\n",
       "    <tr>\n",
       "      <th>...</th>\n",
       "      <td>...</td>\n",
       "      <td>...</td>\n",
       "    </tr>\n",
       "    <tr>\n",
       "      <th>95</th>\n",
       "      <td>-0.910729</td>\n",
       "      <td>0.238135</td>\n",
       "    </tr>\n",
       "    <tr>\n",
       "      <th>96</th>\n",
       "      <td>-0.910729</td>\n",
       "      <td>0.238135</td>\n",
       "    </tr>\n",
       "    <tr>\n",
       "      <th>97</th>\n",
       "      <td>-0.910729</td>\n",
       "      <td>0.238135</td>\n",
       "    </tr>\n",
       "    <tr>\n",
       "      <th>98</th>\n",
       "      <td>-0.910729</td>\n",
       "      <td>0.238135</td>\n",
       "    </tr>\n",
       "    <tr>\n",
       "      <th>99</th>\n",
       "      <td>-0.910729</td>\n",
       "      <td>0.238135</td>\n",
       "    </tr>\n",
       "  </tbody>\n",
       "</table>\n",
       "<p>100 rows × 2 columns</p>\n",
       "</div>"
      ],
      "text/plain": [
       "           0         1\n",
       "0   1.440751  1.354770\n",
       "1   1.440751  1.354770\n",
       "2   1.440751  1.354770\n",
       "3   0.805403  1.470920\n",
       "4   1.440751  1.354770\n",
       "..       ...       ...\n",
       "95 -0.910729  0.238135\n",
       "96 -0.910729  0.238135\n",
       "97 -0.910729  0.238135\n",
       "98 -0.910729  0.238135\n",
       "99 -0.910729  0.238135\n",
       "\n",
       "[100 rows x 2 columns]"
      ]
     },
     "execution_count": 26,
     "metadata": {},
     "output_type": "execute_result"
    }
   ],
   "source": [
    "# Na função, as coordenadas das observações vêm das coordenadas-padrão\n",
    "\n",
    "coord_obs = mca.row_coordinates(dados_mca)\n",
    "coord_obs"
   ]
  },
  {
   "cell_type": "markdown",
   "metadata": {},
   "source": [
    "### Plotando o mapa percentual (coordanadas-padrao)"
   ]
  },
  {
   "cell_type": "code",
   "execution_count": 31,
   "metadata": {},
   "outputs": [
    {
     "data": {
      "image/png": "[encoded data removed]",
      "text/plain": [
       "<Figure size 640x480 with 1 Axes>"
      ]
     },
     "metadata": {},
     "output_type": "display_data"
    }
   ],
   "source": [
    "chart = coord_padrao.reset_index()\n",
    "\n",
    "var_chart = pd.Series(chart['index'].str.split('_', expand=True).iloc[:,0])\n",
    "# Nota: para a função acima ser executada adequadamente, não deixar underline no nome original da variável no dataset!\n",
    "\n",
    "chart_df_mca = pd.DataFrame({'categoria': chart['index'],\n",
    "                             'obs_x': chart[0],\n",
    "                             'obs_y': chart[1],\n",
    "                             'variavel': var_chart})\n",
    "\n",
    "def label_point(x, y, val, ax):\n",
    "    a = pd.concat({'x': x, 'y': y, 'val': val}, axis=1)\n",
    "    for i, point in a.iterrows():\n",
    "        ax.text(point['x'] + 0.03, point['y'] - 0.02, point['val'], fontsize=10)\n",
    "\n",
    "label_point(x = chart_df_mca['obs_x'],\n",
    "            y = chart_df_mca['obs_y'],\n",
    "            val = chart_df_mca['categoria'],\n",
    "            ax = plt.gca())\n",
    "\n",
    "sns.scatterplot(data=chart_df_mca, x='obs_x', y='obs_y', hue='variavel', s=20)\n",
    "sns.despine(top=True, right=True, left=False, bottom=False)\n",
    "plt.axhline(y=0, color='lightgrey', ls='--', linewidth=0.8)\n",
    "plt.axvline(x=0, color='lightgrey', ls='--', linewidth=0.8)\n",
    "plt.tick_params(size=2, labelsize=6)\n",
    "plt.legend(bbox_to_anchor=(0,0), fancybox=True, shadow=True, fontsize = '10')\n",
    "plt.title(\"Mapa Perceptual - MCA\", fontsize=12)\n",
    "plt.xlabel(f\"Dim. 1: {tabela_autovalores.iloc[0,1]} da inércia\", fontsize=10)\n",
    "plt.ylabel(f\"Dim. 2: {tabela_autovalores.iloc[1,1]} da inércia\", fontsize=10)\n",
    "plt.show()"
   ]
  },
  {
   "cell_type": "markdown",
   "metadata": {},
   "source": [
    "Categorias que estão próximas, são aquelas que estão associadas.\n",
    "É uma análise por proximidade."
   ]
  },
  {
   "cell_type": "markdown",
   "metadata": {},
   "source": [
    "Nós partimos de variáveis categóricas para variáveis métricas (posição x, y), sem poderação arbitrária!"
   ]
  }
 ],
 "metadata": {
  "kernelspec": {
   "display_name": "Python 3 (ipykernel)",
   "language": "python",
   "name": "python3"
  },
  "language_info": {
   "codemirror_mode": {
    "name": "ipython",
    "version": 3
   },
   "file_extension": ".py",
   "mimetype": "text/x-python",
   "name": "python",
   "nbconvert_exporter": "python",
   "pygments_lexer": "ipython3",
   "version": "3.11.9"
  }
 },
 "nbformat": 4,
 "nbformat_minor": 4
}

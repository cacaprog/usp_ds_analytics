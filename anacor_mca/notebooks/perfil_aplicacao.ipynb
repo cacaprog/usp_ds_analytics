{
 "cells": [
  {
   "cell_type": "code",
   "execution_count": 1,
   "metadata": {
    "editable": true,
    "slideshow": {
     "slide_type": ""
    },
    "tags": []
   },
   "outputs": [],
   "source": [
    "#%% Importando os pacotes necessários\n",
    "import pandas as pd\n",
    "import numpy as np\n",
    "from scipy.stats import chi2_contingency\n",
    "import statsmodels.api as sm\n",
    "import seaborn as sns\n",
    "import matplotlib.pyplot as plt\n",
    "import prince\n",
    "import plotly.io as pio\n",
    "pio.renderers.default = 'browser'\n",
    "import plotly.graph_objects as go"
   ]
  },
  {
   "cell_type": "code",
   "execution_count": 2,
   "metadata": {},
   "outputs": [],
   "source": [
    "# Importando o banco de dados\n",
    "perfil = pd.read_excel(\"/Users/administrador/Documents/usp_ds_analytics/usp_ds_analytics/anacor_mca/data/perfil_aplicacao.xlsx\")"
   ]
  },
  {
   "cell_type": "code",
   "execution_count": 3,
   "metadata": {},
   "outputs": [
    {
     "name": "stdout",
     "output_type": "stream",
     "text": [
      "Perfil\n",
      "Agressivo      58\n",
      "Moderado       25\n",
      "Conservador    17\n",
      "Name: count, dtype: int64\n",
      "Tipo de Aplicação\n",
      "Ações       45\n",
      "CDB         40\n",
      "Poupança    15\n",
      "Name: count, dtype: int64\n"
     ]
    }
   ],
   "source": [
    "# Informações descritivas sobre as variáveis\n",
    "print(perfil['Perfil'].value_counts())\n",
    "print(perfil['Tipo de Aplicação'].value_counts())"
   ]
  },
  {
   "cell_type": "markdown",
   "metadata": {},
   "source": [
    "### Criando a tabela de contingência"
   ]
  },
  {
   "cell_type": "code",
   "execution_count": 4,
   "metadata": {},
   "outputs": [
    {
     "name": "stdout",
     "output_type": "stream",
     "text": [
      "Tipo de Aplicação  Ações  CDB  Poupança\n",
      "Perfil                                 \n",
      "Agressivo             36   20         2\n",
      "Conservador            5    4         8\n",
      "Moderado               4   16         5\n"
     ]
    }
   ],
   "source": [
    "tabela = pd.crosstab(perfil[\"Perfil\"], perfil[\"Tipo de Aplicação\"])\n",
    "print(tabela)"
   ]
  },
  {
   "cell_type": "markdown",
   "metadata": {},
   "source": [
    "### Analisando a significância estatística da associação (teste qui²)"
   ]
  },
  {
   "cell_type": "code",
   "execution_count": 5,
   "metadata": {},
   "outputs": [
    {
     "name": "stdout",
     "output_type": "stream",
     "text": [
      "estatística qui²: 31.76\n",
      "p-valor da estatística: 0.0\n",
      "graus de liberdade: 4\n"
     ]
    }
   ],
   "source": [
    "teste_qui2 = chi2_contingency(tabela)\n",
    "\n",
    "print(f\"estatística qui²: {round(teste_qui2[0], 2)}\")\n",
    "print(f\"p-valor da estatística: {round(teste_qui2[1], 4)}\")\n",
    "print(f\"graus de liberdade: {teste_qui2[2]}\")"
   ]
  },
  {
   "cell_type": "markdown",
   "metadata": {},
   "source": [
    "Como teste de hipótese, eu posso olhar direto para o p-value da estatística. Ele mostra se é estatisticamente significativo e se podemos rejeitar H0 (não existe associação significativa entre as variáveis).\n",
    "\n",
    "O teste chi2 apenas mostra se existe uma associação, porém ainda não sabemos de onde vem essa associação, quais categorias envolvem isso. "
   ]
  },
  {
   "cell_type": "markdown",
   "metadata": {},
   "source": [
    "### Análise dos resíduos provenientes da tabela de contingência.\n",
    "Esta etapa não é obrigatória, mas vamos fazer esta análise para compreender a aula."
   ]
  },
  {
   "cell_type": "code",
   "execution_count": 6,
   "metadata": {},
   "outputs": [
    {
     "name": "stdout",
     "output_type": "stream",
     "text": [
      "Tabela de frequências absolutas esperadas\n",
      "Tipo de Aplicação  Ações   CDB  Poupança\n",
      "Perfil                                  \n",
      "Agressivo          26.10  23.2      8.70\n",
      "Conservador         7.65   6.8      2.55\n",
      "Moderado           11.25  10.0      3.75\n",
      "\n",
      "Tabela de resíduos\n",
      "Tipo de Aplicação  Ações  CDB  Poupança\n",
      "Perfil                                 \n",
      "Agressivo           9.90 -3.2     -6.70\n",
      "Conservador        -2.65 -2.8      5.45\n",
      "Moderado           -7.25  6.0      1.25\n",
      "\n",
      "Valores qui-quadrado\n",
      "Tipo de Aplicação     Ações       CDB   Poupança\n",
      "Perfil                                          \n",
      "Agressivo          3.755172  0.441379   5.159770\n",
      "Conservador        0.917974  1.152941  11.648039\n",
      "Moderado           4.672222  3.600000   0.416667\n",
      "\n"
     ]
    }
   ],
   "source": [
    "# Parametrizando a função\n",
    "tab_cont = sm.stats.Table(tabela)\n",
    "\n",
    "# Tabela de frequências absolutas esperadas\n",
    "print(\"Tabela de frequências absolutas esperadas\")\n",
    "print(tab_cont.fittedvalues)\n",
    "print(\"\")\n",
    "# Tabela de resíduos: diferença entre freq. absolutas observadas e esperadas\n",
    "print(\"Tabela de resíduos\")\n",
    "print(tabela - tab_cont.fittedvalues)\n",
    "print(\"\")\n",
    "# Valores qui-quadrado por célula\n",
    "print(\"Valores qui-quadrado\")\n",
    "print(tab_cont.chi2_contribs)\n",
    "print(\"\")"
   ]
  },
  {
   "cell_type": "code",
   "execution_count": 7,
   "metadata": {},
   "outputs": [
    {
     "name": "stdout",
     "output_type": "stream",
     "text": [
      "Resíduos padronizados\n",
      "Tipo de Aplicação     Ações       CDB  Poupança\n",
      "Perfil                                         \n",
      "Agressivo          1.937827 -0.664364 -2.271513\n",
      "Conservador       -0.958110 -1.073751  3.412922\n",
      "Moderado          -2.161532  1.897367  0.645497\n",
      "\n",
      "Resíduos padronizados ajustados\n",
      "Tipo de Aplicação     Ações       CDB  Poupança\n",
      "Perfil                                         \n",
      "Agressivo          4.031893 -1.323444 -3.801728\n",
      "Conservador       -1.418061 -1.521559  4.063291\n",
      "Moderado          -3.365501  2.828427  0.808452\n"
     ]
    }
   ],
   "source": [
    "# Resíduos padronizados\n",
    "print(\"Resíduos padronizados\")\n",
    "print(tab_cont.resid_pearson)\n",
    "print(\"\")\n",
    "# Resíduos padronizados ajustados\n",
    "print(\"Resíduos padronizados ajustados\")\n",
    "print(tab_cont.standardized_resids)"
   ]
  },
  {
   "cell_type": "markdown",
   "metadata": {},
   "source": [
    "### Mapa de calor dos resíduos padronizados ajustados"
   ]
  },
  {
   "cell_type": "code",
   "execution_count": 8,
   "metadata": {},
   "outputs": [],
   "source": [
    "fig = go.Figure()\n",
    "\n",
    "maxz = np.max(tab_cont.standardized_resids)+0.1\n",
    "minz = np.min(tab_cont.standardized_resids)-0.1\n",
    "\n",
    "colorscale = ['skyblue' if i>1.96 else '#FAF9F6' for i in np.arange(minz,maxz,0.01)]\n",
    "\n",
    "fig.add_trace(\n",
    "    go.Heatmap(\n",
    "        x = tab_cont.standardized_resids.columns,\n",
    "        y = tab_cont.standardized_resids.index,\n",
    "        z = np.array(tab_cont.standardized_resids),\n",
    "        text=tab_cont.standardized_resids.values,\n",
    "        texttemplate='%{text:.2f}',\n",
    "        showscale=False,\n",
    "        colorscale=colorscale))\n",
    "\n",
    "fig.update_layout(\n",
    "    title='Resíduos Padronizados Ajustados',\n",
    "    height = 600,\n",
    "    width = 600)\n",
    "\n",
    "fig.show()"
   ]
  },
  {
   "cell_type": "markdown",
   "metadata": {},
   "source": [
    "## Elaborando a ANACOR"
   ]
  },
  {
   "cell_type": "code",
   "execution_count": 9,
   "metadata": {},
   "outputs": [],
   "source": [
    "# Na função, o input é a tabela de contingência criada antes!\n",
    "ca = prince.CA().fit(tabela)"
   ]
  },
  {
   "cell_type": "markdown",
   "metadata": {},
   "source": [
    "### Obtendo os eigenvalues (autovalores)"
   ]
  },
  {
   "cell_type": "code",
   "execution_count": 10,
   "metadata": {},
   "outputs": [
    {
     "name": "stdout",
     "output_type": "stream",
     "text": [
      "          eigenvalue % of variance % of variance (cumulative)\n",
      "component                                                    \n",
      "0              0.233        73.42%                     73.42%\n",
      "1              0.084        26.58%                    100.00%\n"
     ]
    }
   ],
   "source": [
    "tabela_autovalores = ca.eigenvalues_summary\n",
    "print(tabela_autovalores)\n",
    "# São gerados 'm' autovalores: m = mín(I-1,J-1)"
   ]
  },
  {
   "cell_type": "markdown",
   "metadata": {},
   "source": [
    "Os eigenvalues representam as inércias parciais de cada dimensão.\n",
    "\n",
    "- Eixo X: 0 (73.42% )\n",
    "- Eixo Y: 1 (26.58%)\n",
    "\n",
    "O primeiro autovalor é sempre maior que os demais."
   ]
  },
  {
   "cell_type": "markdown",
   "metadata": {},
   "source": [
    "### Obtendo a inércia principal total"
   ]
  },
  {
   "cell_type": "code",
   "execution_count": 11,
   "metadata": {},
   "outputs": [
    {
     "name": "stdout",
     "output_type": "stream",
     "text": [
      "0.3176416497633535\n"
     ]
    }
   ],
   "source": [
    "# É a soma dos eigenvalues (também é a divisão: estat. qui² / N)\n",
    "# Quanto maior a inércia principal total, maior é a associação entre categorias\n",
    "print(ca.total_inertia_)"
   ]
  },
  {
   "cell_type": "markdown",
   "metadata": {},
   "source": [
    "### Massas das categorias"
   ]
  },
  {
   "cell_type": "code",
   "execution_count": 12,
   "metadata": {},
   "outputs": [
    {
     "name": "stdout",
     "output_type": "stream",
     "text": [
      "Agressivo      0.58\n",
      "Conservador    0.17\n",
      "Moderado       0.25\n",
      "dtype: float64\n",
      "\n",
      "Ações       0.45\n",
      "CDB         0.40\n",
      "Poupança    0.15\n",
      "dtype: float64\n"
     ]
    }
   ],
   "source": [
    "# Massas da variável em linha\n",
    "print(ca.row_masses_)\n",
    "\n",
    "# Massas da variável em coluna\n",
    "print(\"\")\n",
    "print(ca.col_masses_)"
   ]
  },
  {
   "cell_type": "markdown",
   "metadata": {},
   "source": [
    "### Autovetores\n",
    "Servem de base para a geração das coordenadas x, y das categorias em linha e das categorias em coluna"
   ]
  },
  {
   "cell_type": "code",
   "execution_count": 13,
   "metadata": {},
   "outputs": [
    {
     "name": "stdout",
     "output_type": "stream",
     "text": [
      "[[-0.62491193 -0.17171219]\n",
      " [ 0.67162481 -0.61556487]\n",
      " [ 0.39800149  0.76915201]]\n",
      "\n",
      "[[-0.56215025 -0.48372213]\n",
      " [ 0.09300977  0.76899232]\n",
      " [ 0.82178847 -0.41792789]]\n"
     ]
    }
   ],
   "source": [
    "# Autovetor linha\n",
    "print(ca.svd_.U)\n",
    "\n",
    "# Autovetor coluna\n",
    "print(\"\")\n",
    "print(ca.svd_.V.T)"
   ]
  },
  {
   "cell_type": "markdown",
   "metadata": {},
   "source": [
    "- O primeiro representa a primeira dimensão, eixo X\n",
    "- O segundo representa a segunda dimensão, eixo Y"
   ]
  },
  {
   "cell_type": "markdown",
   "metadata": {},
   "source": [
    "### Obtendo as coordenadas do mapa perceptual"
   ]
  },
  {
   "cell_type": "code",
   "execution_count": 14,
   "metadata": {},
   "outputs": [
    {
     "name": "stdout",
     "output_type": "stream",
     "text": [
      "                    0         1\n",
      "Perfil                         \n",
      "Agressivo   -0.396262 -0.065513\n",
      "Conservador  0.786648 -0.433800\n",
      "Moderado     0.384408  0.446974\n",
      "                          0         1\n",
      "Tipo de Aplicação                    \n",
      "Ações             -0.404692 -0.209522\n",
      "CDB                0.071019  0.353291\n",
      "Poupança           1.024690 -0.313542\n"
     ]
    }
   ],
   "source": [
    "# Coordenadas da variável em linha\n",
    "print(ca.row_coordinates(tabela))\n",
    "\n",
    "# Coordenadas da variável em coluna\n",
    "print(ca.column_coordinates(tabela))"
   ]
  },
  {
   "cell_type": "markdown",
   "metadata": {},
   "source": [
    "### Plotando o mapa percentual da Anacor"
   ]
  },
  {
   "cell_type": "code",
   "execution_count": 15,
   "metadata": {},
   "outputs": [
    {
     "data": {
      "image/png": "[encoded data removed]",
      "text/plain": [
       "<Figure size 640x480 with 1 Axes>"
      ]
     },
     "metadata": {},
     "output_type": "display_data"
    }
   ],
   "source": [
    "# Criado um chart para coordenadas linha e outro para coluna\n",
    "chart_df_row = pd.DataFrame({'var_row': tabela.index,\n",
    "                             'x_row':ca.row_coordinates(tabela)[0].values,\n",
    "                             'y_row': ca.row_coordinates(tabela)[1].values})\n",
    "\n",
    "chart_df_col = pd.DataFrame({'var_col': tabela.columns,\n",
    "                             'x_col':ca.column_coordinates(tabela)[0].values,\n",
    "                             'y_col': ca.column_coordinates(tabela)[1].values})\n",
    "\n",
    "# Definição dos labels para o gráfico\n",
    "def label_point(x, y, val, ax):\n",
    "    a = pd.concat({'x': x, 'y': y, 'val': val}, axis=1)\n",
    "    for i, point in a.iterrows():\n",
    "        ax.text(point['x'] + 0.03, point['y'] - 0.02, point['val'], fontsize=6)\n",
    "\n",
    "label_point(x = chart_df_col['x_col'],\n",
    "            y = chart_df_col['y_col'],\n",
    "            val = chart_df_col['var_col'],\n",
    "            ax = plt.gca())\n",
    "\n",
    "label_point(x = chart_df_row['x_row'],\n",
    "            y = chart_df_row['y_row'],\n",
    "            val = chart_df_row['var_row'],\n",
    "            ax = plt.gca()) \n",
    "\n",
    "# Scatterplot com formatação\n",
    "sns.scatterplot(data=chart_df_row, x='x_row', y='y_row', s=20)\n",
    "sns.scatterplot(data=chart_df_col, x='x_col', y='y_col', s=20)\n",
    "sns.despine(top=True, right=True, left=False, bottom=False)\n",
    "plt.axhline(y=0, color='lightgrey', ls='--')\n",
    "plt.axvline(x=0, color='lightgrey', ls='--')\n",
    "plt.tick_params(size=2, labelsize=6)\n",
    "plt.title(\"Mapa Perceptual - Anacor\", fontsize=12)\n",
    "plt.xlabel(f\"Dim. 1: {tabela_autovalores.iloc[0,1]} da inércia\", fontsize=8)\n",
    "plt.ylabel(f\"Dim. 2: {tabela_autovalores.iloc[1,1]} da inércia\", fontsize=8)\n",
    "plt.show()"
   ]
  },
  {
   "cell_type": "markdown",
   "metadata": {},
   "source": [
    "Categorias que estão próximas, são aquelas que estão associadas.\n",
    "É uma análise por proximidade."
   ]
  },
  {
   "cell_type": "markdown",
   "metadata": {},
   "source": [
    "### Obtendo as coordenadas das observações"
   ]
  },
  {
   "cell_type": "code",
   "execution_count": 18,
   "metadata": {},
   "outputs": [],
   "source": [
    "# Identificando as variáveis em linha e em coluna\n",
    "# Com base no que aprendi lá acima, sobre as coordenadas do mapa perceptual\n",
    "coord_obs = perfil.rename(columns={'Perfil':'var_row',\n",
    "                                   'Tipo de Aplicação':'var_col'})\n",
    "\n",
    "# Unindo as coordenadas das categorias ao DataFrame\n",
    "coord_obs = pd.merge(coord_obs, chart_df_row, how='left', on='var_row')\n",
    "coord_obs = pd.merge(coord_obs, chart_df_col, how='left', on='var_col')\n",
    "\n",
    "# Calculando as coordenadas médias das observações (média de suas categorias)\n",
    "coord_obs['x_obs'] = coord_obs[['x_row','x_col']].mean(axis=1)\n",
    "coord_obs['y_obs'] = coord_obs[['y_row','y_col']].mean(axis=1)"
   ]
  },
  {
   "cell_type": "markdown",
   "metadata": {},
   "source": [
    "### Plotando o mapa percentual das observações da Anacor"
   ]
  },
  {
   "cell_type": "code",
   "execution_count": 17,
   "metadata": {},
   "outputs": [
    {
     "data": {
      "image/png": "[encoded data removed]",
      "text/plain": [
       "<Figure size 640x480 with 1 Axes>"
      ]
     },
     "metadata": {},
     "output_type": "display_data"
    }
   ],
   "source": [
    "chart_df_row = pd.DataFrame({'var_row': tabela.index,\n",
    "                             'x_row':ca.row_coordinates(tabela)[0].values,\n",
    "                             'y_row': ca.row_coordinates(tabela)[1].values})\n",
    "\n",
    "chart_df_col = pd.DataFrame({'var_col': tabela.columns,\n",
    "                             'x_col':ca.column_coordinates(tabela)[0].values,\n",
    "                             'y_col': ca.column_coordinates(tabela)[1].values})\n",
    "\n",
    "def label_point(x, y, val, ax):\n",
    "    a = pd.concat({'x': x, 'y': y, 'val': val}, axis=1)\n",
    "    for i, point in a.iterrows():\n",
    "        ax.text(point['x'] + 0.03, point['y'] - 0.02, point['val'], fontsize=6)\n",
    "\n",
    "label_point(x = chart_df_col['x_col'],\n",
    "            y = chart_df_col['y_col'],\n",
    "            val = chart_df_col['var_col'],\n",
    "            ax = plt.gca())\n",
    "\n",
    "label_point(x = chart_df_row['x_row'],\n",
    "            y = chart_df_row['y_row'],\n",
    "            val = chart_df_row['var_row'],\n",
    "            ax = plt.gca()) \n",
    "\n",
    "sns.scatterplot(data=chart_df_row, x='x_row', y='y_row', s=20)\n",
    "sns.scatterplot(data=chart_df_col, x='x_col', y='y_col', s=20)\n",
    "sns.scatterplot(data=coord_obs, x='x_obs', y='y_obs', s=10, color='red')\n",
    "sns.despine(top=True, right=True, left=False, bottom=False)\n",
    "plt.axhline(y=0, color='lightgrey', ls='--')\n",
    "plt.axvline(x=0, color='lightgrey', ls='--')\n",
    "plt.tick_params(size=2, labelsize=6)\n",
    "plt.title(\"Mapa Perceptual - Anacor\", fontsize=12)\n",
    "plt.xlabel(f\"Dim. 1: {tabela_autovalores.iloc[0,1]} da inércia\", fontsize=8)\n",
    "plt.ylabel(f\"Dim. 2: {tabela_autovalores.iloc[1,1]} da inércia\", fontsize=8)\n",
    "plt.show()"
   ]
  },
  {
   "cell_type": "markdown",
   "metadata": {},
   "source": [
    "Nós partimos de variáveis categóricas para variáveis métricas (posição x, y), sem pmderação arbitrária!"
   ]
  },
  {
   "cell_type": "code",
   "execution_count": null,
   "metadata": {},
   "outputs": [],
   "source": []
  }
 ],
 "metadata": {
  "kernelspec": {
   "display_name": "Python 3 (ipykernel)",
   "language": "python",
   "name": "python3"
  },
  "language_info": {
   "codemirror_mode": {
    "name": "ipython",
    "version": 3
   },
   "file_extension": ".py",
   "mimetype": "text/x-python",
   "name": "python",
   "nbconvert_exporter": "python",
   "pygments_lexer": "ipython3",
   "version": "3.11.9"
  }
 },
 "nbformat": 4,
 "nbformat_minor": 4
}

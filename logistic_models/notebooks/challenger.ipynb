{
 "cells": [
  {
   "cell_type": "markdown",
   "metadata": {},
   "source": [
    "# REGRESSÃO LOGÍSTICA BINÁRIA E PROCEDIMENTO STEPWISE\n",
    "Exemplo 2"
   ]
  },
  {
   "cell_type": "code",
   "execution_count": 1,
   "metadata": {},
   "outputs": [],
   "source": [
    "# Importação dos pacotes\n",
    "import pandas as pd # manipulação de dados em formato de dataframe\n",
    "import numpy as np # operações matemáticas\n",
    "import seaborn as sns # visualização gráfica\n",
    "import matplotlib.pyplot as plt # visualização gráfica\n",
    "from scipy.interpolate import UnivariateSpline # curva sigmoide suavizada\n",
    "import statsmodels.api as sm # estimação de modelos\n",
    "import statsmodels.formula.api as smf # estimação do modelo logístico binário\n",
    "from statstests.process import stepwise # procedimento Stepwise\n",
    "from scipy import stats # estatística chi2\n",
    "import plotly.graph_objects as go # gráficos 3D\n",
    "from statsmodels.iolib.summary2 import summary_col # comparação entre modelos\n",
    "from statsmodels.discrete.discrete_model import MNLogit # estimação do modelo\n",
    "\n",
    "from sklearn.metrics import confusion_matrix, accuracy_score,\\\n",
    "    ConfusionMatrixDisplay, recall_score\n",
    "                                                        #logístico multinomial\n",
    "import warnings\n",
    "warnings.filterwarnings('ignore')"
   ]
  },
  {
   "cell_type": "code",
   "execution_count": 2,
   "metadata": {},
   "outputs": [
    {
     "data": {
      "text/html": [
       "<div>\n",
       "<style scoped>\n",
       "    .dataframe tbody tr th:only-of-type {\n",
       "        vertical-align: middle;\n",
       "    }\n",
       "\n",
       "    .dataframe tbody tr th {\n",
       "        vertical-align: top;\n",
       "    }\n",
       "\n",
       "    .dataframe thead th {\n",
       "        text-align: right;\n",
       "    }\n",
       "</style>\n",
       "<table border=\"1\" class=\"dataframe\">\n",
       "  <thead>\n",
       "    <tr style=\"text-align: right;\">\n",
       "      <th></th>\n",
       "      <th>desgaste</th>\n",
       "      <th>temperatura</th>\n",
       "      <th>pressão</th>\n",
       "      <th>t</th>\n",
       "    </tr>\n",
       "  </thead>\n",
       "  <tbody>\n",
       "    <tr>\n",
       "      <th>0</th>\n",
       "      <td>0</td>\n",
       "      <td>66</td>\n",
       "      <td>50</td>\n",
       "      <td>1</td>\n",
       "    </tr>\n",
       "    <tr>\n",
       "      <th>1</th>\n",
       "      <td>1</td>\n",
       "      <td>70</td>\n",
       "      <td>50</td>\n",
       "      <td>2</td>\n",
       "    </tr>\n",
       "    <tr>\n",
       "      <th>2</th>\n",
       "      <td>0</td>\n",
       "      <td>69</td>\n",
       "      <td>50</td>\n",
       "      <td>3</td>\n",
       "    </tr>\n",
       "    <tr>\n",
       "      <th>3</th>\n",
       "      <td>0</td>\n",
       "      <td>68</td>\n",
       "      <td>50</td>\n",
       "      <td>4</td>\n",
       "    </tr>\n",
       "    <tr>\n",
       "      <th>4</th>\n",
       "      <td>0</td>\n",
       "      <td>67</td>\n",
       "      <td>50</td>\n",
       "      <td>5</td>\n",
       "    </tr>\n",
       "  </tbody>\n",
       "</table>\n",
       "</div>"
      ],
      "text/plain": [
       "   desgaste  temperatura  pressão  t\n",
       "0         0           66       50  1\n",
       "1         1           70       50  2\n",
       "2         0           69       50  3\n",
       "3         0           68       50  4\n",
       "4         0           67       50  5"
      ]
     },
     "execution_count": 2,
     "metadata": {},
     "output_type": "execute_result"
    }
   ],
   "source": [
    "df_challenger = pd.read_csv('/home/usp_ds_analytics/logistic_models/data/challenger.csv',delimiter=',')\n",
    "df_challenger.head()"
   ]
  },
  {
   "cell_type": "code",
   "execution_count": 3,
   "metadata": {},
   "outputs": [
    {
     "name": "stdout",
     "output_type": "stream",
     "text": [
      "<class 'pandas.core.frame.DataFrame'>\n",
      "RangeIndex: 23 entries, 0 to 22\n",
      "Data columns (total 4 columns):\n",
      " #   Column       Non-Null Count  Dtype\n",
      "---  ------       --------------  -----\n",
      " 0   desgaste     23 non-null     int64\n",
      " 1   temperatura  23 non-null     int64\n",
      " 2   pressão      23 non-null     int64\n",
      " 3   t            23 non-null     int64\n",
      "dtypes: int64(4)\n",
      "memory usage: 868.0 bytes\n"
     ]
    }
   ],
   "source": [
    "# Características das variáveis do dataset\n",
    "df_challenger.info()"
   ]
  },
  {
   "cell_type": "code",
   "execution_count": 4,
   "metadata": {},
   "outputs": [
    {
     "data": {
      "text/html": [
       "<div>\n",
       "<style scoped>\n",
       "    .dataframe tbody tr th:only-of-type {\n",
       "        vertical-align: middle;\n",
       "    }\n",
       "\n",
       "    .dataframe tbody tr th {\n",
       "        vertical-align: top;\n",
       "    }\n",
       "\n",
       "    .dataframe thead th {\n",
       "        text-align: right;\n",
       "    }\n",
       "</style>\n",
       "<table border=\"1\" class=\"dataframe\">\n",
       "  <thead>\n",
       "    <tr style=\"text-align: right;\">\n",
       "      <th></th>\n",
       "      <th>desgaste</th>\n",
       "      <th>temperatura</th>\n",
       "      <th>pressão</th>\n",
       "      <th>t</th>\n",
       "    </tr>\n",
       "  </thead>\n",
       "  <tbody>\n",
       "    <tr>\n",
       "      <th>count</th>\n",
       "      <td>23.000000</td>\n",
       "      <td>23.000000</td>\n",
       "      <td>23.000000</td>\n",
       "      <td>23.00000</td>\n",
       "    </tr>\n",
       "    <tr>\n",
       "      <th>mean</th>\n",
       "      <td>0.304348</td>\n",
       "      <td>69.565217</td>\n",
       "      <td>152.173913</td>\n",
       "      <td>12.00000</td>\n",
       "    </tr>\n",
       "    <tr>\n",
       "      <th>std</th>\n",
       "      <td>0.558796</td>\n",
       "      <td>7.057080</td>\n",
       "      <td>68.221332</td>\n",
       "      <td>6.78233</td>\n",
       "    </tr>\n",
       "    <tr>\n",
       "      <th>min</th>\n",
       "      <td>0.000000</td>\n",
       "      <td>53.000000</td>\n",
       "      <td>50.000000</td>\n",
       "      <td>1.00000</td>\n",
       "    </tr>\n",
       "    <tr>\n",
       "      <th>25%</th>\n",
       "      <td>0.000000</td>\n",
       "      <td>67.000000</td>\n",
       "      <td>75.000000</td>\n",
       "      <td>6.50000</td>\n",
       "    </tr>\n",
       "    <tr>\n",
       "      <th>50%</th>\n",
       "      <td>0.000000</td>\n",
       "      <td>70.000000</td>\n",
       "      <td>200.000000</td>\n",
       "      <td>12.00000</td>\n",
       "    </tr>\n",
       "    <tr>\n",
       "      <th>75%</th>\n",
       "      <td>0.500000</td>\n",
       "      <td>75.000000</td>\n",
       "      <td>200.000000</td>\n",
       "      <td>17.50000</td>\n",
       "    </tr>\n",
       "    <tr>\n",
       "      <th>max</th>\n",
       "      <td>2.000000</td>\n",
       "      <td>81.000000</td>\n",
       "      <td>200.000000</td>\n",
       "      <td>23.00000</td>\n",
       "    </tr>\n",
       "  </tbody>\n",
       "</table>\n",
       "</div>"
      ],
      "text/plain": [
       "        desgaste  temperatura     pressão         t\n",
       "count  23.000000    23.000000   23.000000  23.00000\n",
       "mean    0.304348    69.565217  152.173913  12.00000\n",
       "std     0.558796     7.057080   68.221332   6.78233\n",
       "min     0.000000    53.000000   50.000000   1.00000\n",
       "25%     0.000000    67.000000   75.000000   6.50000\n",
       "50%     0.000000    70.000000  200.000000  12.00000\n",
       "75%     0.500000    75.000000  200.000000  17.50000\n",
       "max     2.000000    81.000000  200.000000  23.00000"
      ]
     },
     "execution_count": 4,
     "metadata": {},
     "output_type": "execute_result"
    }
   ],
   "source": [
    "# Estatísticas univariadas\n",
    "df_challenger.describe()"
   ]
  },
  {
   "cell_type": "markdown",
   "metadata": {},
   "source": [
    "- desgaste: quantidade de vezes em que ocorreu stress térmico\n",
    "- temperatura: temperatura de lançamento (graus ºF)\n",
    "- pressão: pressão de verificação de vazamento (psi: libra-força por\n",
    "    #polegada ao quadrado)\n",
    "- t: teste para o lançamento (id)"
   ]
  },
  {
   "cell_type": "code",
   "execution_count": 5,
   "metadata": {},
   "outputs": [
    {
     "name": "stdout",
     "output_type": "stream",
     "text": [
      "21.11111111111111\n"
     ]
    }
   ],
   "source": [
    "# Converter Farenheit para Celsius\n",
    "def celsius(far):\n",
    "    celsius = 5*((far-32)/9)\n",
    "    print(celsius)\n",
    "\n",
    "celsius(70)"
   ]
  },
  {
   "cell_type": "code",
   "execution_count": 6,
   "metadata": {},
   "outputs": [
    {
     "name": "stdout",
     "output_type": "stream",
     "text": [
      "1.1111111111111112\n"
     ]
    }
   ],
   "source": [
    "# Temperatura no dia do lançamento\n",
    "celsius(34)"
   ]
  },
  {
   "cell_type": "markdown",
   "metadata": {},
   "source": [
    "### Criação da variável dependente binária 'falha'"
   ]
  },
  {
   "cell_type": "code",
   "execution_count": 7,
   "metadata": {},
   "outputs": [],
   "source": [
    "# Não há uma variável binária para servir como uma variável dependente, certo?\n",
    "# Então vamos criá-la, considerando a ocorrência de desgastes de peças como a\n",
    "#ocorrência de um evento que chamaremos de 'falha':\n",
    "df_challenger.loc[df_challenger['desgaste'] != 0 , 'falha'] = 1\n",
    "df_challenger.loc[df_challenger['desgaste'] == 0, 'falha'] = 0"
   ]
  },
  {
   "cell_type": "code",
   "execution_count": 8,
   "metadata": {},
   "outputs": [
    {
     "data": {
      "text/html": [
       "<div>\n",
       "<style scoped>\n",
       "    .dataframe tbody tr th:only-of-type {\n",
       "        vertical-align: middle;\n",
       "    }\n",
       "\n",
       "    .dataframe tbody tr th {\n",
       "        vertical-align: top;\n",
       "    }\n",
       "\n",
       "    .dataframe thead th {\n",
       "        text-align: right;\n",
       "    }\n",
       "</style>\n",
       "<table border=\"1\" class=\"dataframe\">\n",
       "  <thead>\n",
       "    <tr style=\"text-align: right;\">\n",
       "      <th></th>\n",
       "      <th>desgaste</th>\n",
       "      <th>temperatura</th>\n",
       "      <th>pressão</th>\n",
       "      <th>t</th>\n",
       "      <th>falha</th>\n",
       "    </tr>\n",
       "  </thead>\n",
       "  <tbody>\n",
       "    <tr>\n",
       "      <th>0</th>\n",
       "      <td>0</td>\n",
       "      <td>66</td>\n",
       "      <td>50</td>\n",
       "      <td>1</td>\n",
       "      <td>0.0</td>\n",
       "    </tr>\n",
       "    <tr>\n",
       "      <th>1</th>\n",
       "      <td>1</td>\n",
       "      <td>70</td>\n",
       "      <td>50</td>\n",
       "      <td>2</td>\n",
       "      <td>1.0</td>\n",
       "    </tr>\n",
       "    <tr>\n",
       "      <th>2</th>\n",
       "      <td>0</td>\n",
       "      <td>69</td>\n",
       "      <td>50</td>\n",
       "      <td>3</td>\n",
       "      <td>0.0</td>\n",
       "    </tr>\n",
       "    <tr>\n",
       "      <th>3</th>\n",
       "      <td>0</td>\n",
       "      <td>68</td>\n",
       "      <td>50</td>\n",
       "      <td>4</td>\n",
       "      <td>0.0</td>\n",
       "    </tr>\n",
       "    <tr>\n",
       "      <th>4</th>\n",
       "      <td>0</td>\n",
       "      <td>67</td>\n",
       "      <td>50</td>\n",
       "      <td>5</td>\n",
       "      <td>0.0</td>\n",
       "    </tr>\n",
       "  </tbody>\n",
       "</table>\n",
       "</div>"
      ],
      "text/plain": [
       "   desgaste  temperatura  pressão  t  falha\n",
       "0         0           66       50  1    0.0\n",
       "1         1           70       50  2    1.0\n",
       "2         0           69       50  3    0.0\n",
       "3         0           68       50  4    0.0\n",
       "4         0           67       50  5    0.0"
      ]
     },
     "execution_count": 8,
     "metadata": {},
     "output_type": "execute_result"
    }
   ],
   "source": [
    "df_challenger.head()"
   ]
  },
  {
   "cell_type": "code",
   "execution_count": 9,
   "metadata": {},
   "outputs": [
    {
     "name": "stdout",
     "output_type": "stream",
     "text": [
      "<class 'pandas.core.frame.DataFrame'>\n",
      "RangeIndex: 23 entries, 0 to 22\n",
      "Data columns (total 5 columns):\n",
      " #   Column       Non-Null Count  Dtype  \n",
      "---  ------       --------------  -----  \n",
      " 0   desgaste     23 non-null     int64  \n",
      " 1   temperatura  23 non-null     int64  \n",
      " 2   pressão      23 non-null     int64  \n",
      " 3   t            23 non-null     int64  \n",
      " 4   falha        23 non-null     float64\n",
      "dtypes: float64(1), int64(4)\n",
      "memory usage: 1.0 KB\n"
     ]
    }
   ],
   "source": [
    "# Transformando a variável 'falha' para o tipo 'int' (poderia também deixar\n",
    "#como 'float'), a fim de que seja possível estimar o modelo por meio da\n",
    "#função 'sm.Logit.from_formula'\n",
    "df_challenger.info()"
   ]
  },
  {
   "cell_type": "code",
   "execution_count": 10,
   "metadata": {},
   "outputs": [],
   "source": [
    "df_challenger['falha'] = df_challenger['falha'].astype('int64')"
   ]
  },
  {
   "cell_type": "code",
   "execution_count": 11,
   "metadata": {},
   "outputs": [
    {
     "name": "stdout",
     "output_type": "stream",
     "text": [
      "<class 'pandas.core.frame.DataFrame'>\n",
      "RangeIndex: 23 entries, 0 to 22\n",
      "Data columns (total 5 columns):\n",
      " #   Column       Non-Null Count  Dtype\n",
      "---  ------       --------------  -----\n",
      " 0   desgaste     23 non-null     int64\n",
      " 1   temperatura  23 non-null     int64\n",
      " 2   pressão      23 non-null     int64\n",
      " 3   t            23 non-null     int64\n",
      " 4   falha        23 non-null     int64\n",
      "dtypes: int64(5)\n",
      "memory usage: 1.0 KB\n"
     ]
    }
   ],
   "source": [
    "df_challenger.info()"
   ]
  },
  {
   "cell_type": "code",
   "execution_count": 12,
   "metadata": {},
   "outputs": [
    {
     "data": {
      "text/html": [
       "<div>\n",
       "<style scoped>\n",
       "    .dataframe tbody tr th:only-of-type {\n",
       "        vertical-align: middle;\n",
       "    }\n",
       "\n",
       "    .dataframe tbody tr th {\n",
       "        vertical-align: top;\n",
       "    }\n",
       "\n",
       "    .dataframe thead th {\n",
       "        text-align: right;\n",
       "    }\n",
       "</style>\n",
       "<table border=\"1\" class=\"dataframe\">\n",
       "  <thead>\n",
       "    <tr style=\"text-align: right;\">\n",
       "      <th></th>\n",
       "      <th>desgaste</th>\n",
       "      <th>temperatura</th>\n",
       "      <th>pressão</th>\n",
       "      <th>t</th>\n",
       "      <th>falha</th>\n",
       "    </tr>\n",
       "  </thead>\n",
       "  <tbody>\n",
       "    <tr>\n",
       "      <th>0</th>\n",
       "      <td>0</td>\n",
       "      <td>66</td>\n",
       "      <td>50</td>\n",
       "      <td>1</td>\n",
       "      <td>0</td>\n",
       "    </tr>\n",
       "    <tr>\n",
       "      <th>1</th>\n",
       "      <td>1</td>\n",
       "      <td>70</td>\n",
       "      <td>50</td>\n",
       "      <td>2</td>\n",
       "      <td>1</td>\n",
       "    </tr>\n",
       "    <tr>\n",
       "      <th>2</th>\n",
       "      <td>0</td>\n",
       "      <td>69</td>\n",
       "      <td>50</td>\n",
       "      <td>3</td>\n",
       "      <td>0</td>\n",
       "    </tr>\n",
       "    <tr>\n",
       "      <th>3</th>\n",
       "      <td>0</td>\n",
       "      <td>68</td>\n",
       "      <td>50</td>\n",
       "      <td>4</td>\n",
       "      <td>0</td>\n",
       "    </tr>\n",
       "    <tr>\n",
       "      <th>4</th>\n",
       "      <td>0</td>\n",
       "      <td>67</td>\n",
       "      <td>50</td>\n",
       "      <td>5</td>\n",
       "      <td>0</td>\n",
       "    </tr>\n",
       "  </tbody>\n",
       "</table>\n",
       "</div>"
      ],
      "text/plain": [
       "   desgaste  temperatura  pressão  t  falha\n",
       "0         0           66       50  1      0\n",
       "1         1           70       50  2      1\n",
       "2         0           69       50  3      0\n",
       "3         0           68       50  4      0\n",
       "4         0           67       50  5      0"
      ]
     },
     "execution_count": 12,
     "metadata": {},
     "output_type": "execute_result"
    }
   ],
   "source": [
    "df_challenger.head()"
   ]
  },
  {
   "cell_type": "code",
   "execution_count": 13,
   "metadata": {},
   "outputs": [
    {
     "data": {
      "image/png": "[encoded data removed]",
      "text/plain": [
       "<Figure size 800x600 with 6 Axes>"
      ]
     },
     "metadata": {},
     "output_type": "display_data"
    }
   ],
   "source": [
    "# In[2.2]: Gráfico 'pairplot' com scatters e KDEs por 'falha'\n",
    "cores_desejadas = {0: 'springgreen', 1: 'magenta'}\n",
    "\n",
    "g = sns.pairplot(df_challenger[['falha','temperatura','pressão']], hue='falha',\n",
    "                 palette=cores_desejadas)\n",
    "g.figure.set_size_inches(8, 6)\n",
    "plt.show()"
   ]
  },
  {
   "cell_type": "markdown",
   "metadata": {},
   "source": [
    "### Estimação do modelo logístico binário"
   ]
  },
  {
   "cell_type": "code",
   "execution_count": 14,
   "metadata": {},
   "outputs": [
    {
     "name": "stdout",
     "output_type": "stream",
     "text": [
      "Optimization terminated successfully.\n",
      "         Current function value: 0.305063\n",
      "         Iterations 8\n"
     ]
    },
    {
     "data": {
      "text/html": [
       "<table class=\"simpletable\">\n",
       "<caption>Logit Regression Results</caption>\n",
       "<tr>\n",
       "  <th>Dep. Variable:</th>         <td>falha</td>      <th>  No. Observations:  </th>  <td>    23</td> \n",
       "</tr>\n",
       "<tr>\n",
       "  <th>Model:</th>                 <td>Logit</td>      <th>  Df Residuals:      </th>  <td>    20</td> \n",
       "</tr>\n",
       "<tr>\n",
       "  <th>Method:</th>                 <td>MLE</td>       <th>  Df Model:          </th>  <td>     2</td> \n",
       "</tr>\n",
       "<tr>\n",
       "  <th>Date:</th>            <td>Sat, 07 Sep 2024</td> <th>  Pseudo R-squ.:     </th>  <td>0.4685</td> \n",
       "</tr>\n",
       "<tr>\n",
       "  <th>Time:</th>                <td>20:49:34</td>     <th>  Log-Likelihood:    </th> <td> -7.0164</td>\n",
       "</tr>\n",
       "<tr>\n",
       "  <th>converged:</th>             <td>True</td>       <th>  LL-Null:           </th> <td> -13.201</td>\n",
       "</tr>\n",
       "<tr>\n",
       "  <th>Covariance Type:</th>     <td>nonrobust</td>    <th>  LLR p-value:       </th> <td>0.002061</td>\n",
       "</tr>\n",
       "</table>\n",
       "<table class=\"simpletable\">\n",
       "<tr>\n",
       "       <td></td>          <th>coef</th>     <th>std err</th>      <th>z</th>      <th>P>|z|</th>  <th>[0.025</th>    <th>0.975]</th>  \n",
       "</tr>\n",
       "<tr>\n",
       "  <th>Intercept</th>   <td>   21.8436</td> <td>   11.936</td> <td>    1.830</td> <td> 0.067</td> <td>   -1.551</td> <td>   45.239</td>\n",
       "</tr>\n",
       "<tr>\n",
       "  <th>temperatura</th> <td>   -0.3501</td> <td>    0.173</td> <td>   -2.024</td> <td> 0.043</td> <td>   -0.689</td> <td>   -0.011</td>\n",
       "</tr>\n",
       "<tr>\n",
       "  <th>pressão</th>     <td>    0.0060</td> <td>    0.010</td> <td>    0.616</td> <td> 0.538</td> <td>   -0.013</td> <td>    0.025</td>\n",
       "</tr>\n",
       "</table>"
      ],
      "text/latex": [
       "\\begin{center}\n",
       "\\begin{tabular}{lclc}\n",
       "\\toprule\n",
       "\\textbf{Dep. Variable:}   &      falha       & \\textbf{  No. Observations:  } &       23    \\\\\n",
       "\\textbf{Model:}           &      Logit       & \\textbf{  Df Residuals:      } &       20    \\\\\n",
       "\\textbf{Method:}          &       MLE        & \\textbf{  Df Model:          } &        2    \\\\\n",
       "\\textbf{Date:}            & Sat, 07 Sep 2024 & \\textbf{  Pseudo R-squ.:     } &   0.4685    \\\\\n",
       "\\textbf{Time:}            &     20:49:34     & \\textbf{  Log-Likelihood:    } &   -7.0164   \\\\\n",
       "\\textbf{converged:}       &       True       & \\textbf{  LL-Null:           } &   -13.201   \\\\\n",
       "\\textbf{Covariance Type:} &    nonrobust     & \\textbf{  LLR p-value:       } &  0.002061   \\\\\n",
       "\\bottomrule\n",
       "\\end{tabular}\n",
       "\\begin{tabular}{lcccccc}\n",
       "                     & \\textbf{coef} & \\textbf{std err} & \\textbf{z} & \\textbf{P$> |$z$|$} & \\textbf{[0.025} & \\textbf{0.975]}  \\\\\n",
       "\\midrule\n",
       "\\textbf{Intercept}   &      21.8436  &       11.936     &     1.830  &         0.067        &       -1.551    &       45.239     \\\\\n",
       "\\textbf{temperatura} &      -0.3501  &        0.173     &    -2.024  &         0.043        &       -0.689    &       -0.011     \\\\\n",
       "\\textbf{pressão}     &       0.0060  &        0.010     &     0.616  &         0.538        &       -0.013    &        0.025     \\\\\n",
       "\\bottomrule\n",
       "\\end{tabular}\n",
       "%\\caption{Logit Regression Results}\n",
       "\\end{center}"
      ],
      "text/plain": [
       "<class 'statsmodels.iolib.summary.Summary'>\n",
       "\"\"\"\n",
       "                           Logit Regression Results                           \n",
       "==============================================================================\n",
       "Dep. Variable:                  falha   No. Observations:                   23\n",
       "Model:                          Logit   Df Residuals:                       20\n",
       "Method:                           MLE   Df Model:                            2\n",
       "Date:                Sat, 07 Sep 2024   Pseudo R-squ.:                  0.4685\n",
       "Time:                        20:49:34   Log-Likelihood:                -7.0164\n",
       "converged:                       True   LL-Null:                       -13.201\n",
       "Covariance Type:            nonrobust   LLR p-value:                  0.002061\n",
       "===============================================================================\n",
       "                  coef    std err          z      P>|z|      [0.025      0.975]\n",
       "-------------------------------------------------------------------------------\n",
       "Intercept      21.8436     11.936      1.830      0.067      -1.551      45.239\n",
       "temperatura    -0.3501      0.173     -2.024      0.043      -0.689      -0.011\n",
       "pressão         0.0060      0.010      0.616      0.538      -0.013       0.025\n",
       "===============================================================================\n",
       "\"\"\""
      ]
     },
     "execution_count": 14,
     "metadata": {},
     "output_type": "execute_result"
    }
   ],
   "source": [
    "# Estimação do modelo logístico binário pela função 'sm.Logit.from_formula'\n",
    "#('statsmodels.api')\n",
    "\n",
    "# O modelo a seguir também pode ser estimado por meio da função 'smf.glm'\n",
    "#('statsmodels.formula.api')\n",
    "modelo_challenger = sm.Logit.from_formula('falha ~ temperatura + pressão',\n",
    "                                          df_challenger).fit()\n",
    "\n",
    "# Parâmetros do 'modelo_challenger'\n",
    "modelo_challenger.summary()"
   ]
  },
  {
   "cell_type": "markdown",
   "metadata": {},
   "source": [
    "Parece que a variável `pressão` não passou.\n",
    "- pressão P>|z| = 0.538"
   ]
  },
  {
   "cell_type": "markdown",
   "metadata": {},
   "source": [
    "### Procedimento Stepwise"
   ]
  },
  {
   "cell_type": "code",
   "execution_count": 15,
   "metadata": {},
   "outputs": [
    {
     "name": "stdout",
     "output_type": "stream",
     "text": [
      "Regression type: Logit \n",
      "\n",
      "Estimating model...: \n",
      " falha ~ Q('temperatura') + Q('pressão')\n",
      "Optimization terminated successfully.\n",
      "         Current function value: 0.305063\n",
      "         Iterations 8\n",
      "\n",
      " Discarding atribute \"Q('pressão')\" with p-value equal to 0.5378022290437207 \n",
      "\n",
      "Estimating model...: \n",
      " falha ~ Q('temperatura')\n",
      "Optimization terminated successfully.\n",
      "         Current function value: 0.313604\n",
      "         Iterations 8\n",
      "\n",
      " No more atributes with p-value higher than 0.05\n",
      "\n",
      " Atributes discarded on the process...: \n",
      "\n",
      "{'atribute': \"Q('pressão')\", 'p-value': np.float64(0.5378022290437207)}\n",
      "\n",
      " Model after stepwise process...: \n",
      " falha ~ Q('temperatura') \n",
      "\n",
      "                           Logit Regression Results                           \n",
      "==============================================================================\n",
      "Dep. Variable:                  falha   No. Observations:                   23\n",
      "Model:                          Logit   Df Residuals:                       21\n",
      "Method:                           MLE   Df Model:                            1\n",
      "Date:                Sat, 07 Sep 2024   Pseudo R-squ.:                  0.4536\n",
      "Time:                        20:51:22   Log-Likelihood:                -7.2129\n",
      "converged:                       True   LL-Null:                       -13.201\n",
      "Covariance Type:            nonrobust   LLR p-value:                 0.0005387\n",
      "====================================================================================\n",
      "                       coef    std err          z      P>|z|      [0.025      0.975]\n",
      "------------------------------------------------------------------------------------\n",
      "Intercept           23.7750     11.820      2.011      0.044       0.607      46.943\n",
      "Q('temperatura')    -0.3667      0.175     -2.093      0.036      -0.710      -0.023\n",
      "====================================================================================\n"
     ]
    }
   ],
   "source": [
    "# Carregamento da função 'stepwise' do pacote 'statstests.process'\n",
    "# Autores do pacote: Luiz Paulo Fávero e Helder Prado Santos\n",
    "# https://stats-tests.github.io/statstests/\n",
    "\n",
    "from statstests.process import stepwise\n",
    "\n",
    "# Estimação do modelo por meio do procedimento Stepwise\n",
    "step_challenger = stepwise(modelo_challenger, pvalue_limit=0.05)"
   ]
  },
  {
   "cell_type": "markdown",
   "metadata": {},
   "source": [
    "### Fazendo predições para o modelo 'step_challenger'"
   ]
  },
  {
   "cell_type": "code",
   "execution_count": 16,
   "metadata": {},
   "outputs": [
    {
     "data": {
      "text/plain": [
       "0    0.130777\n",
       "dtype: float64"
      ]
     },
     "execution_count": 16,
     "metadata": {},
     "output_type": "execute_result"
    }
   ],
   "source": [
    "# Exemplo 1: qual a probabilidade média de falha a 70ºF (~21.11ºC)?\n",
    "step_challenger.predict(pd.DataFrame({'temperatura':[70]}))"
   ]
  },
  {
   "cell_type": "code",
   "execution_count": 17,
   "metadata": {},
   "outputs": [
    {
     "data": {
      "text/plain": [
       "0    0.011419\n",
       "dtype: float64"
      ]
     },
     "execution_count": 17,
     "metadata": {},
     "output_type": "execute_result"
    }
   ],
   "source": [
    "# Exemplo 2: qual a probabilidade média de falha a 77ºF (25ºC)?\n",
    "step_challenger.predict(pd.DataFrame({'temperatura':[77]}))"
   ]
  },
  {
   "cell_type": "code",
   "execution_count": 18,
   "metadata": {},
   "outputs": [
    {
     "data": {
      "text/plain": [
       "0    0.999988\n",
       "dtype: float64"
      ]
     },
     "execution_count": 18,
     "metadata": {},
     "output_type": "execute_result"
    }
   ],
   "source": [
    "# Exemplo 3: qual a probabilidade média de falha a 34ºF (~1.11ºC)?\n",
    "# Temperatura no momento do lançamento\n",
    "step_challenger.predict(pd.DataFrame({'temperatura':[34]}))"
   ]
  },
  {
   "cell_type": "code",
   "execution_count": 19,
   "metadata": {},
   "outputs": [
    {
     "data": {
      "text/html": [
       "<div>\n",
       "<style scoped>\n",
       "    .dataframe tbody tr th:only-of-type {\n",
       "        vertical-align: middle;\n",
       "    }\n",
       "\n",
       "    .dataframe tbody tr th {\n",
       "        vertical-align: top;\n",
       "    }\n",
       "\n",
       "    .dataframe thead th {\n",
       "        text-align: right;\n",
       "    }\n",
       "</style>\n",
       "<table border=\"1\" class=\"dataframe\">\n",
       "  <thead>\n",
       "    <tr style=\"text-align: right;\">\n",
       "      <th></th>\n",
       "      <th>desgaste</th>\n",
       "      <th>temperatura</th>\n",
       "      <th>pressão</th>\n",
       "      <th>t</th>\n",
       "      <th>falha</th>\n",
       "      <th>phat</th>\n",
       "    </tr>\n",
       "  </thead>\n",
       "  <tbody>\n",
       "    <tr>\n",
       "      <th>0</th>\n",
       "      <td>0</td>\n",
       "      <td>66</td>\n",
       "      <td>50</td>\n",
       "      <td>1</td>\n",
       "      <td>0</td>\n",
       "      <td>0.394770</td>\n",
       "    </tr>\n",
       "    <tr>\n",
       "      <th>1</th>\n",
       "      <td>1</td>\n",
       "      <td>70</td>\n",
       "      <td>50</td>\n",
       "      <td>2</td>\n",
       "      <td>1</td>\n",
       "      <td>0.130777</td>\n",
       "    </tr>\n",
       "    <tr>\n",
       "      <th>2</th>\n",
       "      <td>0</td>\n",
       "      <td>69</td>\n",
       "      <td>50</td>\n",
       "      <td>3</td>\n",
       "      <td>0</td>\n",
       "      <td>0.178373</td>\n",
       "    </tr>\n",
       "    <tr>\n",
       "      <th>3</th>\n",
       "      <td>0</td>\n",
       "      <td>68</td>\n",
       "      <td>50</td>\n",
       "      <td>4</td>\n",
       "      <td>0</td>\n",
       "      <td>0.238539</td>\n",
       "    </tr>\n",
       "    <tr>\n",
       "      <th>4</th>\n",
       "      <td>0</td>\n",
       "      <td>67</td>\n",
       "      <td>50</td>\n",
       "      <td>5</td>\n",
       "      <td>0</td>\n",
       "      <td>0.311309</td>\n",
       "    </tr>\n",
       "  </tbody>\n",
       "</table>\n",
       "</div>"
      ],
      "text/plain": [
       "   desgaste  temperatura  pressão  t  falha      phat\n",
       "0         0           66       50  1      0  0.394770\n",
       "1         1           70       50  2      1  0.130777\n",
       "2         0           69       50  3      0  0.178373\n",
       "3         0           68       50  4      0  0.238539\n",
       "4         0           67       50  5      0  0.311309"
      ]
     },
     "execution_count": 19,
     "metadata": {},
     "output_type": "execute_result"
    }
   ],
   "source": [
    "# Atribuindo uma coluna no dataframe para os resultados\n",
    "df_challenger['phat'] = step_challenger.predict()\n",
    "\n",
    "df_challenger.head()"
   ]
  },
  {
   "cell_type": "markdown",
   "metadata": {},
   "source": [
    "### Construção da sigmoide"
   ]
  },
  {
   "cell_type": "code",
   "execution_count": 20,
   "metadata": {},
   "outputs": [
    {
     "data": {
      "image/png": "[encoded data removed]",
      "text/plain": [
       "<Figure size 1500x1000 with 1 Axes>"
      ]
     },
     "metadata": {},
     "output_type": "display_data"
    }
   ],
   "source": [
    "# Probabilidade de evento em função da variável 'temperatura'    \n",
    "plt.figure(figsize=(15,10))\n",
    "sns.scatterplot(x=df_challenger['temperatura'][df_challenger['falha'] == 0],\n",
    "                y=df_challenger['falha'][df_challenger['falha'] == 0],\n",
    "                color='springgreen', alpha=0.7, s=250, label='Falha = 0')\n",
    "sns.scatterplot(x=df_challenger['temperatura'][df_challenger['falha'] == 1],\n",
    "                y=df_challenger['falha'][df_challenger['falha'] == 1],\n",
    "                color='magenta', alpha=0.7, s=250, label='Falha = 1')\n",
    "sns.regplot(x=df_challenger['temperatura'], y=df_challenger['falha'],\n",
    "            logistic=True, ci=None, scatter=False,\n",
    "            line_kws={'color': 'indigo', 'linewidth': 7})\n",
    "plt.axhline(y = 0.5, color = 'grey', linestyle = ':')\n",
    "plt.xlabel('Temperatura em ºF', fontsize=20)\n",
    "plt.ylabel('Probabilidade de Falha', fontsize=20)\n",
    "plt.xticks(np.arange(df_challenger['temperatura'].min(),\n",
    "                     df_challenger['temperatura'].max() + 0.01, 3),\n",
    "           fontsize=14)\n",
    "plt.yticks(np.arange(0, 1.1, 0.2), fontsize=14)\n",
    "plt.legend(fontsize=20, loc='center right')\n",
    "plt.show()"
   ]
  },
  {
   "cell_type": "code",
   "execution_count": 23,
   "metadata": {},
   "outputs": [
    {
     "ename": "ModuleNotFoundError",
     "evalue": "No module named 'requests'",
     "output_type": "error",
     "traceback": [
      "\u001b[0;31m---------------------------------------------------------------------------\u001b[0m",
      "\u001b[0;31mModuleNotFoundError\u001b[0m                       Traceback (most recent call last)",
      "Cell \u001b[0;32mIn[23], line 3\u001b[0m\n\u001b[1;32m      1\u001b[0m \u001b[38;5;66;03m# Nossa homenagem aos astronautas\u001b[39;00m\n\u001b[1;32m      2\u001b[0m \u001b[38;5;28;01mfrom\u001b[39;00m \u001b[38;5;21;01mPIL\u001b[39;00m \u001b[38;5;28;01mimport\u001b[39;00m Image\n\u001b[0;32m----> 3\u001b[0m \u001b[38;5;28;01mimport\u001b[39;00m \u001b[38;5;21;01mrequests\u001b[39;00m\n\u001b[1;32m      4\u001b[0m \u001b[38;5;28;01mfrom\u001b[39;00m \u001b[38;5;21;01mio\u001b[39;00m \u001b[38;5;28;01mimport\u001b[39;00m BytesIO\n\u001b[1;32m      6\u001b[0m url \u001b[38;5;241m=\u001b[39m \u001b[38;5;124m\"\u001b[39m\u001b[38;5;124mhttps://img.ibxk.com.br///2016/01/29/29182307148581.jpg?w=1200&h=675&mode=crop&scale=both\u001b[39m\u001b[38;5;124m\"\u001b[39m\n",
      "\u001b[0;31mModuleNotFoundError\u001b[0m: No module named 'requests'"
     ]
    }
   ],
   "source": [
    "# Nossa homenagem aos astronautas\n",
    "from PIL import Image\n",
    "import requests\n",
    "from io import BytesIO\n",
    "\n",
    "url = \"https://img.ibxk.com.br///2016/01/29/29182307148581.jpg?w=1200&h=675&mode=crop&scale=both\"\n",
    "response = requests.get(url)\n",
    "img = Image.open(BytesIO(response.content))\n",
    "img.show()    "
   ]
  },
  {
   "cell_type": "code",
   "execution_count": 24,
   "metadata": {},
   "outputs": [
    {
     "data": {
      "text/plain": [
       "np.float64(-7.212895816611514)"
      ]
     },
     "execution_count": 24,
     "metadata": {},
     "output_type": "execute_result"
    }
   ],
   "source": [
    "# \n",
    "step_challenger.llf"
   ]
  }
 ],
 "metadata": {
  "kernelspec": {
   "display_name": "usp_ds_analytics-M2oHMey2",
   "language": "python",
   "name": "python3"
  },
  "language_info": {
   "codemirror_mode": {
    "name": "ipython",
    "version": 3
   },
   "file_extension": ".py",
   "mimetype": "text/x-python",
   "name": "python",
   "nbconvert_exporter": "python",
   "pygments_lexer": "ipython3",
   "version": "3.11.5"
  }
 },
 "nbformat": 4,
 "nbformat_minor": 2
}
